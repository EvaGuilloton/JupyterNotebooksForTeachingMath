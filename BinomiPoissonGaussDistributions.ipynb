{
 "cells": [
  {
   "cell_type": "markdown",
   "metadata": {
    "collapsed": true
   },
   "source": [
    "# Binomi, Poisson, Gauss, plot theoretical distributions"
   ]
  },
  {
   "cell_type": "markdown",
   "metadata": {},
   "source": [
    "In this notebook, we'll simulate the motorcycle micromort question. The shape of the numerical answer will give you a hint for what the analytical answer will be. You might be surprised how easy it is, in the end.\n",
    "\n",
    "You can either run this in binder\n",
    "https://mybinder.org/v2/gh/JonasRademacker/JupyterNotebooksForTeachingMath/master?filepath=BinomiPoissonGauss.ipynb , \n",
    "\n",
    "or - much, much better, although a bit hasslesome the first time you set it up - you can run it on your own computer. To do that:\n",
    "\n",
    "1) Download and install anaconda (https://www.anaconda.com/). \n",
    "\n",
    "2) Download this file from github. Do so by clicking on \"Raw\", and then asking your browser to save the file (in Firefox: File -> Save Pages As...)\n",
    "\n",
    "Alternatively, you can download the entire github repository. Open a terminal window. Go to the directory where you want a copy of this github repository to live on your computer. Then execute the command:\n",
    "\n",
    "git clone https://github.com/JonasRademacker/JupyterNotebooksForTeachingMath.git\n",
    "\n",
    "(alternatively, go to https://github.com/JonasRademacker/JupyterNotebooksForTeachingMath and find the green \"Code\" button and take it from there)\n",
    "\n",
    "3) Open a terminal window, go to the directory where this file is, and type: jupyter notebook\n",
    "\n",
    "This file should now open in your browser (again), and you can edit it and execute and save the code.\n",
    "\n",
    "Remember, to excecute each field, do shift+return. Execute the fields in order. If things got messy, go to Kernel and select Restart and Clear all output - and start Shift+Return from the top."
   ]
  },
  {
   "cell_type": "markdown",
   "metadata": {},
   "source": [
    "First import some libraries"
   ]
  },
  {
   "cell_type": "code",
   "execution_count": 1,
   "metadata": {},
   "outputs": [],
   "source": [
    "from math import *\n",
    "import numpy as np\n",
    "import matplotlib.mlab as mlab\n",
    "import matplotlib.pyplot as plt"
   ]
  },
  {
   "cell_type": "markdown",
   "metadata": {},
   "source": [
    "Let's generate graphs according to each of these distributions."
   ]
  },
  {
   "cell_type": "code",
   "execution_count": 13,
   "metadata": {},
   "outputs": [],
   "source": [
    "# Beware: these implementations of binomial and Poisson will only work for small values of N and lambda.\n",
    "# For large values (larger than about 100), the factorial calculation will blow up. \n",
    "# There are of course ways around this, but preferred not to make code more complicated by numerical tricks.\n",
    "\n",
    "def binomial(N, p):\n",
    "    r    = np.arange(0, N, dtype=int)\n",
    "    n_chose_r = [np.math.comb(N, k) for k in r]\n",
    "    Prob = p**r * (1-p)**(N-r) *  n_chose_r   ## np.math.comb(N, r) #np.math.factorial(N)/(np.math.factorial(N-r)*np.math.factorial(r))\n",
    "    return r, Prob\n",
    "\n",
    "def Poisson(mean):\n",
    "    r = np.arange(0, mean + 5*sqrt(mean), 1)\n",
    "    rfac = [np.math.factorial(k) for k in r]\n",
    "    Prob = np.exp(-mean) * mean**r / rfac\n",
    "    return r, Prob\n",
    "\n",
    "def Gauss(mean, sigma):\n",
    "    x = np.linspace(mean - 5*sigma, mean + 5*sigma, 1000)\n",
    "    pull = (x - mean)/sigma\n",
    "    Prob = 1./(np.sqrt(2*pi)*sigma)*np.exp(-0.5*pull*pull)\n",
    "    return x, Prob\n"
   ]
  },
  {
   "cell_type": "markdown",
   "metadata": {},
   "source": [
    "Plot binomial"
   ]
  },
  {
   "cell_type": "code",
   "execution_count": 31,
   "metadata": {},
   "outputs": [
    {
     "data": {
      "image/png": "[encoded data removed]",
      "text/plain": [
       "<Figure size 432x288 with 1 Axes>"
      ]
     },
     "metadata": {
      "needs_background": "light"
     },
     "output_type": "display_data"
    }
   ],
   "source": [
    "xb, yb = binomial(N=6, p=1/6)\n",
    "plt.plot(xb, yb, ds='steps-mid')\n",
    "plt.show()"
   ]
  },
  {
   "cell_type": "markdown",
   "metadata": {},
   "source": [
    "Plot Poisson:"
   ]
  },
  {
   "cell_type": "code",
   "execution_count": 34,
   "metadata": {},
   "outputs": [
    {
     "data": {
      "image/png": "[encoded data removed]",
      "text/plain": [
       "<Figure size 432x288 with 1 Axes>"
      ]
     },
     "metadata": {
      "needs_background": "light"
     },
     "output_type": "display_data"
    }
   ],
   "source": [
    "xp,yp  = Poisson(mean=1)\n",
    "plt.plot(xp,yp, ds='steps-mid')\n",
    "plt.show()"
   ]
  },
  {
   "cell_type": "markdown",
   "metadata": {},
   "source": [
    "Plot Gauss"
   ]
  },
  {
   "cell_type": "code",
   "execution_count": 16,
   "metadata": {},
   "outputs": [
    {
     "data": {
      "image/png": "[encoded data removed]",
      "text/plain": [
       "<Figure size 432x288 with 1 Axes>"
      ]
     },
     "metadata": {
      "needs_background": "light"
     },
     "output_type": "display_data"
    }
   ],
   "source": [
    "xg,yg  = Gauss(1, 1)\n",
    "plt.plot(xg,yg)\n",
    "plt.show()"
   ]
  },
  {
   "cell_type": "markdown",
   "metadata": {},
   "source": [
    "Let's plot them all on top of each other, with compatible parameters"
   ]
  },
  {
   "cell_type": "code",
   "execution_count": 32,
   "metadata": {},
   "outputs": [],
   "source": [
    "def PlotAll(NumTries, p_success):\n",
    "\n",
    "    mean   = NumTries*p_success\n",
    "    sigmaB = sqrt(NumTries*p_success*(1.0-p_success))\n",
    "    sigmaP = sqrt(mean)\n",
    "\n",
    "    xb, yb  = binomial(NumTries, p_success)\n",
    "    plt.plot(xb, yb, ds='steps-mid', linewidth=4, c='red')\n",
    "    xp,yp   = Poisson(mean)\n",
    "    plt.plot(xp, yp, ds='steps-mid', linewidth=4, c='orange')\n",
    "    xgb,ygb = Gauss(mean, sigmaB)\n",
    "    plt.plot(xgb, ygb, linewidth=2, c='green')\n",
    "    xgp,ygp = Gauss(mean, sigmaP)\n",
    "    plt.plot(xgp, ygp, linewidth=2, c='blue')\n",
    "\n",
    "    plt.show()\n",
    "    print(\"Binomial (red), Poisson (orange), Gaussian with binomial error (green), Gaussian with poisson error (blue)\"\n",
    "          , \"\\nfor N=\", NumTries, \"p=\", p_success\n",
    "          , \",lambda=mu=N*p=\", NumTries*p_success\n",
    "          , \",sigma_b=sqrt(N*p*(1-p))=\", sigmaB\n",
    "          , \",sigma_p=sqrt(mean)=\", sigmaP)"
   ]
  },
  {
   "cell_type": "code",
   "execution_count": 33,
   "metadata": {},
   "outputs": [
    {
     "data": {
      "image/png": "[encoded data removed]",
      "text/plain": [
       "<Figure size 432x288 with 1 Axes>"
      ]
     },
     "metadata": {
      "needs_background": "light"
     },
     "output_type": "display_data"
    },
    {
     "name": "stdout",
     "output_type": "stream",
     "text": [
      "Binomial (red), Poisson (orange), Gaussian with binomial error (green), Gaussian with poisson error (blue) \n",
      "for N= 100 p= 0.5 ,lambda=mu=N*p= 50.0 ,sigma_b=sqrt(N*p*(1-p))= 5.0 ,sigma_p=sqrt(mean)= 7.0710678118654755\n"
     ]
    }
   ],
   "source": [
    "PlotAll(100, 0.5)"
   ]
  },
  {
   "cell_type": "code",
   "execution_count": null,
   "metadata": {},
   "outputs": [],
   "source": []
  }
 ],
 "metadata": {
  "kernelspec": {
   "display_name": "Python 3",
   "language": "python",
   "name": "python3"
  },
  "language_info": {
   "codemirror_mode": {
    "name": "ipython",
    "version": 3
   },
   "file_extension": ".py",
   "mimetype": "text/x-python",
   "name": "python",
   "nbconvert_exporter": "python",
   "pygments_lexer": "ipython3",
   "version": "3.8.3"
  }
 },
 "nbformat": 4,
 "nbformat_minor": 2
}
