{
 "cells": [
  {
   "cell_type": "markdown",
   "metadata": {
    "collapsed": true
   },
   "source": [
    "# Central Tendencies: Mean, Median, Mode\n",
    "# Width: variance and standard deviation"
   ]
  },
  {
   "cell_type": "markdown",
   "metadata": {},
   "source": [
    "We'll create random numbers (virtual dice - first a single die, then 2 - and then moving to a Gaussian) and calculate mean, median, mode and variance.\n",
    "\n",
    "You can either run this in binder https://mybinder.org/v2/gh/JonasRademacker/JupyterNotebooksForTeachingMath/master?filepath=Mean_mode_median_variance_sigma.ipynb ,\n",
    "\n",
    "or - much much better, although a bit hasslesome the first time you set it up - you can run it on your own computer. To do that:\n",
    "\n",
    "1) Download and install anaconda (https://www.anaconda.com/).\n",
    "\n",
    "2) Download this file from github. Do so by clicking on \"Raw\", and then asking your browser to save the file (in Firefox: File -> Save Pages As...)\n",
    "\n",
    "Alternatively, you can download the entire github repository from https://github.com/JonasRademacker/JupyterNotebooksForTeachingMath by clicking the green \"Code\" button that appears on that page - but there is a chance that I will update and add files as the course progresses, so your download will be out-dated at some point.\n",
    "\n",
    "3) Open a terminal window, go to the directory where this file is, and type: jupyter notebook\n",
    "\n",
    "This file should now open in your browser (again), and you can edit it and execute and save the code.\n",
    "\n",
    "Remember, to excecute each field, do shift+return. Execute the fields in order. If things got messy, go to Kernel and select Restart and Clear all output - and start Shift+Return from the top.\n"
   ]
  },
  {
   "cell_type": "markdown",
   "metadata": {},
   "source": [
    "First import some libraries"
   ]
  },
  {
   "cell_type": "code",
   "execution_count": 1,
   "metadata": {},
   "outputs": [],
   "source": [
    "from math import *\n",
    "import numpy as np\n",
    "import matplotlib.mlab as mlab\n",
    "import matplotlib.pyplot as plt"
   ]
  },
  {
   "cell_type": "markdown",
   "metadata": {},
   "source": [
    "Let's initialise the random number generated. Changing the seed will give your different outcomes for the (pseudo) random numbers generated in this sheet."
   ]
  },
  {
   "cell_type": "code",
   "execution_count": 2,
   "metadata": {},
   "outputs": [],
   "source": [
    "np.random.seed(314159)"
   ]
  },
  {
   "cell_type": "markdown",
   "metadata": {},
   "source": [
    "Now create a virtual die that we can throw N times. The return value is an array of N numbers from 1 to 6."
   ]
  },
  {
   "cell_type": "code",
   "execution_count": 3,
   "metadata": {},
   "outputs": [],
   "source": [
    "def throwOneDie(Ntimes):\n",
    "    flatRandom = np.random.random(Ntimes)  # random numbers from 0 to 1\n",
    "    return [int(x*6)+1 for x in flatRandom]  # ... translated to integers from 1 to 6, and returned"
   ]
  },
  {
   "cell_type": "markdown",
   "metadata": {},
   "source": [
    "Now we have the die, we throw it, say, 200 times, put the result into an array"
   ]
  },
  {
   "cell_type": "code",
   "execution_count": 4,
   "metadata": {},
   "outputs": [],
   "source": [
    "HowOften=200\n",
    "dieArray = throwOneDie(HowOften)"
   ]
  },
  {
   "cell_type": "markdown",
   "metadata": {},
   "source": [
    "... and put the result into a histogram"
   ]
  },
  {
   "cell_type": "code",
   "execution_count": 5,
   "metadata": {},
   "outputs": [
    {
     "data": {
      "image/png": "[encoded data removed]",
      "text/plain": [
       "<Figure size 432x288 with 1 Axes>"
      ]
     },
     "metadata": {
      "needs_background": "light"
     },
     "output_type": "display_data"
    }
   ],
   "source": [
    "h=plt.hist(dieArray, 6, range=(0.5, 6.5)) # make histogram\n",
    "plt.show()     # and plot it"
   ]
  },
  {
   "cell_type": "markdown",
   "metadata": {},
   "source": [
    "Calulate arithmetic mean:"
   ]
  },
  {
   "cell_type": "code",
   "execution_count": 6,
   "metadata": {},
   "outputs": [
    {
     "name": "stdout",
     "output_type": "stream",
     "text": [
      "The mean is  3.65\n"
     ]
    }
   ],
   "source": [
    "def ArithmeticMean(arrayOfNumbers):\n",
    "    sum=0\n",
    "    for x in arrayOfNumbers:\n",
    "        sum += x\n",
    "    N=len(arrayOfNumbers) # N = the number of data points in the array \"numbers\"\n",
    "    return sum/N\n",
    "    \n",
    "mean = ArithmeticMean(dieArray)\n",
    "print(\"The mean is \", mean)"
   ]
  },
  {
   "cell_type": "markdown",
   "metadata": {},
   "source": [
    "This should be close to 3.5; the more throws of the die you average, the closer you should, typically, get. In what way your result is far or not so far away from the expected value of exactly zero is something we will discuss also in this course, when we estimate the uncertainty on the mean. But for now, we are happy to have successfully calculated the mean of a dataset."
   ]
  },
  {
   "cell_type": "markdown",
   "metadata": {},
   "source": [
    "Let's now calculate the median."
   ]
  },
  {
   "cell_type": "code",
   "execution_count": 7,
   "metadata": {},
   "outputs": [
    {
     "name": "stdout",
     "output_type": "stream",
     "text": [
      "Median =  4.0\n"
     ]
    }
   ],
   "source": [
    "def Median(arrayOfNumbers):\n",
    "    # sort the numbers:\n",
    "    arrayOfNumbers.sort()\n",
    "    # print sorted values, if there aren't too many\n",
    "    if len(arrayOfNumbers) < 101: print(arrayOfNumbers)\n",
    "    # calcualate median\n",
    "    # distinguish case where sample length is odd (we take the value of the mid point)\n",
    "    # as in {1, 2, 3} => median 2\n",
    "    # and where it is even (take the average of the two midpoints)\n",
    "    # as in {1, 2, 3, 4} => median 2.5\n",
    "    mp = int((len(arrayOfNumbers)+1)/2)\n",
    "    median = arrayOfNumbers[mp]\n",
    "    if len(arrayOfNumbers)%2 == 0: \n",
    "        median = 0.5*(median + arrayOfNumbers[mp+1])\n",
    "    return median\n",
    "\n",
    "median = Median(dieArray)\n",
    "print(\"Median = \", median)"
   ]
  },
  {
   "cell_type": "markdown",
   "metadata": {},
   "source": [
    "Now the mode:"
   ]
  },
  {
   "cell_type": "code",
   "execution_count": 8,
   "metadata": {},
   "outputs": [
    {
     "name": "stdout",
     "output_type": "stream",
     "text": [
      "Mode is  6\n"
     ]
    }
   ],
   "source": [
    "def Mode(arrayOfResults):\n",
    "    frequency={}  # a python \"dictionary\", like C++ STL map\n",
    "    for x in arrayOfResults:\n",
    "        if x in frequency:\n",
    "            frequency[x] += 1\n",
    "        else:\n",
    "            frequency[x]  = 1\n",
    "    #print(frequency.items())\n",
    "\n",
    "    max  = -1\n",
    "    mode = -1\n",
    "    for xy in frequency.items():\n",
    "        if(xy[1] > max):\n",
    "            max  = xy[1]\n",
    "            mode = xy[0]\n",
    "    return mode\n",
    "\n",
    "mode = Mode(dieArray)\n",
    "print(\"Mode is \", mode)"
   ]
  },
  {
   "cell_type": "markdown",
   "metadata": {},
   "source": [
    "Of course for this distribution, the mode is equally likely to be 1, 2, 3, 4, 5 or 6, because each of these values is equally likely to have the largest number of events."
   ]
  },
  {
   "cell_type": "markdown",
   "metadata": {},
   "source": [
    "## Mean, Median, Mode for 2 dice"
   ]
  },
  {
   "cell_type": "markdown",
   "metadata": {},
   "source": [
    "Let's do the same thing for two dice; but why not, for efficiencies sake, write code more generally, for M dice."
   ]
  },
  {
   "cell_type": "code",
   "execution_count": 9,
   "metadata": {},
   "outputs": [
    {
     "data": {
      "image/png": "[encoded data removed]",
      "text/plain": [
       "<Figure size 432x288 with 1 Axes>"
      ]
     },
     "metadata": {
      "needs_background": "light"
     },
     "output_type": "display_data"
    }
   ],
   "source": [
    "def throw_M_dice(M):\n",
    "    flatRandom = np.random.random(M)  # random numbers from 0 to 1\n",
    "    return np.sum([int(x*6)+1 for x in flatRandom])\n",
    "\n",
    "def throw_M_dice_N_times(M, N):\n",
    "    results=[]\n",
    "    for counter in range(N):\n",
    "        results.append( throw_M_dice(M) )\n",
    "    return results\n",
    "\n",
    "diceRandom2 = throw_M_dice_N_times(2, HowOften)\n",
    "h=plt.hist(diceRandom2, 11, range=(1.5, 12.5)) # make histogram\n",
    "plt.show()"
   ]
  },
  {
   "cell_type": "code",
   "execution_count": 10,
   "metadata": {},
   "outputs": [
    {
     "name": "stdout",
     "output_type": "stream",
     "text": [
      "Mean (2dice) \t =  6.97\n",
      "Median (2 dice)\t =  7.0\n",
      "Mode (2dice) \t = 7\n"
     ]
    }
   ],
   "source": [
    "mean2 = ArithmeticMean(diceRandom2)\n",
    "median2 = Median(diceRandom2)\n",
    "mode2 = Mode(diceRandom2)\n",
    "print(\"Mean (2dice) \\t = \", mean2)\n",
    "print(\"Median (2 dice)\\t = \", median2)\n",
    "print(\"Mode (2dice) \\t = \", mode2)"
   ]
  },
  {
   "cell_type": "markdown",
   "metadata": {},
   "source": [
    "## Mean, median mode for Gaussian"
   ]
  },
  {
   "cell_type": "markdown",
   "metadata": {},
   "source": [
    "We can try this with continuous distributions, too. Let's try a \"standard normal\", a Gaussian \"bell curve\" of width one and mean zero; we will discuss this distribution in detail, later in the course"
   ]
  },
  {
   "cell_type": "code",
   "execution_count": 11,
   "metadata": {},
   "outputs": [
    {
     "data": {
      "image/png": "[encoded data removed]",
      "text/plain": [
       "<Figure size 432x288 with 1 Axes>"
      ]
     },
     "metadata": {
      "needs_background": "light"
     },
     "output_type": "display_data"
    }
   ],
   "source": [
    "#Return a sample of numbers from “standard normal” (mean 0, sigma 1) distribution.\n",
    "randomGauss = np.random.randn(HowOften) \n",
    "nbins = int(len(randomGauss)/10) # base number of bins based on sample size...\n",
    "if nbins > 100: nbins=100  #... but within some...\n",
    "if nbins < 5: nbins=5      #... sensible limits.\n",
    "h=plt.hist(randomGauss, nbins) # make histogram with nbins bins\n",
    "plt.show()"
   ]
  },
  {
   "cell_type": "code",
   "execution_count": 12,
   "metadata": {},
   "outputs": [
    {
     "name": "stdout",
     "output_type": "stream",
     "text": [
      "Mean Gauss =  -0.033847836064661796\n",
      "Median Gauss =  -0.013787873537881721\n"
     ]
    }
   ],
   "source": [
    "meanG = ArithmeticMean(randomGauss)\n",
    "print(\"Mean Gauss = \", meanG)\n",
    "medianG = Median(randomGauss)\n",
    "print(\"Median Gauss = \", medianG)\n",
    "#(note that calculating the mode makes no sense in a continuously distributed variable\n",
    "# although you could quite sensibly calculate the mode of the histogram we make of it;\n",
    "# won't do that here, though)"
   ]
  },
  {
   "cell_type": "markdown",
   "metadata": {},
   "source": [
    "# Variance and Standard Deviation"
   ]
  },
  {
   "cell_type": "markdown",
   "metadata": {},
   "source": [
    "First write a function that calculates the variance for a dataset:"
   ]
  },
  {
   "cell_type": "code",
   "execution_count": 13,
   "metadata": {},
   "outputs": [],
   "source": [
    "def Variance(arrayOfNumbers):\n",
    "    sum=0\n",
    "    sumsq=0\n",
    "    for x in arrayOfNumbers:\n",
    "        sum   += x\n",
    "        sumsq += x**2\n",
    "    N = len(arrayOfNumbers)\n",
    "    mean   = sum/N\n",
    "    meansq = sumsq/N\n",
    "    return meansq - mean**2"
   ]
  },
  {
   "cell_type": "markdown",
   "metadata": {},
   "source": [
    "Apply it to our single-die dataset:"
   ]
  },
  {
   "cell_type": "code",
   "execution_count": 14,
   "metadata": {},
   "outputs": [
    {
     "name": "stdout",
     "output_type": "stream",
     "text": [
      "Variance for 1 die =  3.2775000000000016 , standard deviation =  1.8103866990231676\n"
     ]
    }
   ],
   "source": [
    "V1     = Variance(dieArray)\n",
    "sigma1 = sqrt(V1)\n",
    "print(\"Variance for 1 die = \", V1, \", standard deviation = \", sigma1)"
   ]
  },
  {
   "cell_type": "markdown",
   "metadata": {},
   "source": [
    "For the two dice:"
   ]
  },
  {
   "cell_type": "code",
   "execution_count": 15,
   "metadata": {},
   "outputs": [
    {
     "name": "stdout",
     "output_type": "stream",
     "text": [
      "Variance for 2 dice =  5.4191 , standard deviation =  2.327896045788987\n"
     ]
    }
   ],
   "source": [
    "V2     = Variance(diceRandom2)\n",
    "sigma2 = sqrt(V2)\n",
    "print(\"Variance for 2 dice = \", V2, \", standard deviation = \", sigma2)"
   ]
  },
  {
   "cell_type": "raw",
   "metadata": {},
   "source": [
    "For Standard Normal / Gaussian with mean 0, sigma 1:"
   ]
  },
  {
   "cell_type": "code",
   "execution_count": 16,
   "metadata": {},
   "outputs": [
    {
     "name": "stdout",
     "output_type": "stream",
     "text": [
      "Variance for 'standard normal' distribution =  0.8697724751661347\n",
      "Standard deviation =  0.9326159312204219\n"
     ]
    }
   ],
   "source": [
    "VG     = Variance(randomGauss)\n",
    "sigmaG = sqrt(VG)\n",
    "print(\"Variance for 'standard normal' distribution = \", VG)\n",
    "print(\"Standard deviation = \", sigmaG)"
   ]
  },
  {
   "cell_type": "markdown",
   "metadata": {},
   "source": [
    "## Task:\n",
    "What are mean, variance and standard deviation for 4, 8, 16, 32, 64 dice? Does this behave like what you would expect?"
   ]
  },
  {
   "cell_type": "code",
   "execution_count": null,
   "metadata": {},
   "outputs": [],
   "source": []
  }
 ],
 "metadata": {
  "kernelspec": {
   "display_name": "Python 3",
   "language": "python",
   "name": "python3"
  },
  "language_info": {
   "codemirror_mode": {
    "name": "ipython",
    "version": 3
   },
   "file_extension": ".py",
   "mimetype": "text/x-python",
   "name": "python",
   "nbconvert_exporter": "python",
   "pygments_lexer": "ipython3",
   "version": "3.8.3"
  }
 },
 "nbformat": 4,
 "nbformat_minor": 2
}
