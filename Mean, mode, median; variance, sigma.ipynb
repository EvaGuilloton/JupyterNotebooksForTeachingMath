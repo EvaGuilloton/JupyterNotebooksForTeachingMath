{
 "cells": [
  {
   "cell_type": "markdown",
   "metadata": {
    "collapsed": true
   },
   "source": [
    "# \"Central Tendency\": Mean, Mode, Median"
   ]
  },
  {
   "cell_type": "markdown",
   "metadata": {},
   "source": [
    "Let's generate a few distributions and calculate the mean, mode, median for each.\n",
    "Start by importing the relevant libraries"
   ]
  },
  {
   "cell_type": "code",
   "execution_count": 1,
   "metadata": {
    "collapsed": true
   },
   "outputs": [],
   "source": [
    "from math import *\n",
    "import numpy as np\n",
    "import matplotlib.mlab as mlab\n",
    "import matplotlib.pyplot as plt"
   ]
  },
  {
   "cell_type": "markdown",
   "metadata": {},
   "source": [
    "Let's generate a distribution we would get from throwing a (fair) die"
   ]
  },
  {
   "cell_type": "code",
   "execution_count": 2,
   "metadata": {},
   "outputs": [
    {
     "data": {
      "image/png": "[encoded data removed]",
      "text/plain": [
       "<matplotlib.figure.Figure at 0x107e9a198>"
      ]
     },
     "metadata": {},
     "output_type": "display_data"
    }
   ],
   "source": [
    "#Return a sample of 100 random numbers between 0 and 1\n",
    "sampleSize=100\n",
    "flatRandom = np.random.random(sampleSize) \n",
    "#turn it into integers from 1 to 6:\n",
    "diceRandom1 = [int(x*6)+1 for x in flatRandom]\n",
    "h=plt.hist(diceRandom1, 6, range=(0.5, 6.5)) # make histogram\n",
    "plt.show()"
   ]
  },
  {
   "cell_type": "markdown",
   "metadata": {},
   "source": [
    "Calulate arithmetic mean:"
   ]
  },
  {
   "cell_type": "code",
   "execution_count": 3,
   "metadata": {},
   "outputs": [
    {
     "name": "stdout",
     "output_type": "stream",
     "text": [
      "The mean is  3.5\n"
     ]
    }
   ],
   "source": [
    "sum=0\n",
    "for x in diceRandom1:\n",
    "    sum += x\n",
    "N=len(diceRandom1) # N = the number of data points in the array \"numbers\"\n",
    "mean = sum/N\n",
    "print(\"The mean is \", mean)"
   ]
  },
  {
   "cell_type": "markdown",
   "metadata": {},
   "source": [
    "This is close to 3.5, as expected. In what way this is far away from the expected value of exactly zero is something we will discuss also in this course, when we estimate the uncertainty on the mean. But for now, we are happy to have successfully calculated the mean of a dataset."
   ]
  },
  {
   "cell_type": "markdown",
   "metadata": {},
   "source": [
    "Let's now calculate the median."
   ]
  },
  {
   "cell_type": "code",
   "execution_count": 4,
   "metadata": {},
   "outputs": [
    {
     "name": "stdout",
     "output_type": "stream",
     "text": [
      "[1, 1, 1, 1, 1, 1, 1, 1, 1, 1, 1, 1, 1, 1, 1, 1, 1, 1, 1, 1, 2, 2, 2, 2, 2, 2, 2, 2, 2, 2, 2, 2, 2, 2, 2, 2, 2, 3, 3, 3, 3, 3, 3, 3, 3, 3, 3, 3, 3, 3, 3, 4, 4, 4, 4, 4, 4, 4, 4, 4, 4, 4, 4, 4, 5, 5, 5, 5, 5, 5, 5, 5, 5, 5, 5, 5, 5, 5, 6, 6, 6, 6, 6, 6, 6, 6, 6, 6, 6, 6, 6, 6, 6, 6, 6, 6, 6, 6, 6, 6]\n",
      "Median =  3.5\n"
     ]
    }
   ],
   "source": [
    "# sort the numbers:\n",
    "diceRandom1.sort()\n",
    "# print sorted values, if there aren't too many\n",
    "if len(diceRandom1) < 101: print(diceRandom1)\n",
    "#calcualate median\n",
    "# distinguish case where sample length is odd (we take the value of the mid point)\n",
    "# as in {1, 2, 3} => median 2\n",
    "# and where it is even (take the average of the two midpoints)\n",
    "# as in {1, 2, 3, 4} => median 2.5\n",
    "mp = int((len(diceRandom1)+1)/2)\n",
    "median = diceRandom1[mp]\n",
    "if len(diceRandom1)%2 == 0: \n",
    "    median = 0.5*(median + diceRandom1[mp+1])\n",
    "\n",
    "print(\"Median = \", median)\n"
   ]
  },
  {
   "cell_type": "markdown",
   "metadata": {},
   "source": [
    "Now the mode:"
   ]
  },
  {
   "cell_type": "code",
   "execution_count": 5,
   "metadata": {},
   "outputs": [
    {
     "name": "stdout",
     "output_type": "stream",
     "text": [
      "dict_items([(1, 20), (2, 17), (3, 14), (4, 13), (5, 14), (6, 22)])\n",
      "Mode is  6\n"
     ]
    }
   ],
   "source": [
    "frequency={1:0, 2:0, 3:0, 4:0, 5:0, 6:0}  # a python \"dictionary\", like C++ STL map\n",
    "for x in diceRandom1:\n",
    "    frequency[x] += 1\n",
    "print(frequency.items())\n",
    "\n",
    "max=-1\n",
    "mode=-1\n",
    "for xy in frequency.items():\n",
    "    if(xy[1] > max):\n",
    "        max = xy[1]\n",
    "        mode = xy[0]\n",
    "\n",
    "print(\"Mode is \", mode)"
   ]
  },
  {
   "cell_type": "markdown",
   "metadata": {},
   "source": [
    "Of course for this distribution, the mode is equally likely to be 1, 2, 3, 4, 5 or 6, because each of these values is equally likely to have the largest number of events."
   ]
  },
  {
   "cell_type": "markdown",
   "metadata": {},
   "source": [
    "## Mean, Median, Mode for 2 dice"
   ]
  },
  {
   "cell_type": "markdown",
   "metadata": {},
   "source": [
    "Let's do the same thing for two dice"
   ]
  },
  {
   "cell_type": "code",
   "execution_count": 6,
   "metadata": {},
   "outputs": [
    {
     "data": {
      "image/png": "[encoded data removed]",
      "text/plain": [
       "<matplotlib.figure.Figure at 0x10ed24358>"
      ]
     },
     "metadata": {},
     "output_type": "display_data"
    }
   ],
   "source": [
    "#Return a sample of random numbers between 0 and 1\n",
    "# (use same default sample size as above)\n",
    "flatRandom1st = np.random.random(sampleSize) \n",
    "flatRandom2nd = np.random.random(sampleSize) \n",
    "#turn it into integers from 1 to 6:\n",
    "diceRandom1st = [int(x*6)+1 for x in flatRandom1st]\n",
    "diceRandom2nd = [int(x*6)+1 for x in flatRandom2nd]\n",
    "diceRandom2 = [x[0]+x[1] for x in zip(diceRandom1st,diceRandom2nd)]\n",
    "h=plt.hist(diceRandom2, 11, range=(1.5, 12.5)) # make histogram\n",
    "plt.show()"
   ]
  },
  {
   "cell_type": "code",
   "execution_count": 7,
   "metadata": {},
   "outputs": [
    {
     "name": "stdout",
     "output_type": "stream",
     "text": [
      "Mean =  7.43\n",
      "Median =  7\n",
      "dict_items([(2, 0), (3, 6), (4, 9), (5, 8), (6, 13), (7, 17), (8, 10), (9, 11), (10, 18), (11, 3), (12, 5)])\n",
      "Mode is  10\n"
     ]
    }
   ],
   "source": [
    "sum=0\n",
    "for x in diceRandom2:\n",
    "    sum += x\n",
    "N=len(diceRandom2) # N = the number of data points in the array \"numbers\"\n",
    "mean = sum/N\n",
    "print(\"Mean = \", mean)\n",
    "median = sorted(diceRandom2)[int(len(diceRandom2)/2)]\n",
    "print(\"Median = \", median)\n",
    "\n",
    "frequency={2:0, 3:0, 4:0, 5:0, 6:0, 7:0, 8:0, 9:0, 10:0, 11:0, 12:0}\n",
    "for x in diceRandom2:\n",
    "    frequency[x] += 1\n",
    "print(frequency.items())\n",
    "\n",
    "max=-1\n",
    "mode=-1\n",
    "for xy in frequency.items():\n",
    "    if(xy[1] > max):\n",
    "        max = xy[1]\n",
    "        mode = xy[0]\n",
    "\n",
    "print(\"Mode is \", mode)"
   ]
  },
  {
   "cell_type": "markdown",
   "metadata": {},
   "source": [
    "## Mean, median mode for Gaussian"
   ]
  },
  {
   "cell_type": "markdown",
   "metadata": {},
   "source": [
    "We can try this with continuous distributions, too. Let's try a \"standard normal\", a Gaussian \"bell curve\" of width one and mean zero; we will discuss this distribution in detail, later in the course"
   ]
  },
  {
   "cell_type": "code",
   "execution_count": 15,
   "metadata": {},
   "outputs": [
    {
     "data": {
      "image/png": "[encoded data removed]",
      "text/plain": [
       "<matplotlib.figure.Figure at 0x10f261128>"
      ]
     },
     "metadata": {},
     "output_type": "display_data"
    }
   ],
   "source": [
    "#Return a sample of numbers from “standard normal” (mean 0, sigma 1) distribution.\n",
    "randomGauss = np.random.randn(sampleSize) \n",
    "nbins = int(len(randomGauss)/10) # base number of bins based on sample size...\n",
    "if nbins > 100: nbins=100  #... but within some...\n",
    "if nbins < 5: nbins=5      #... sensible limits.\n",
    "h=plt.hist(randomGauss, nbins) # make histogram with nbins bins\n",
    "plt.show()"
   ]
  },
  {
   "cell_type": "code",
   "execution_count": 9,
   "metadata": {},
   "outputs": [
    {
     "name": "stdout",
     "output_type": "stream",
     "text": [
      "Mean =  0.0241069170343\n",
      "Median =  -0.00597740948639\n"
     ]
    }
   ],
   "source": [
    "sum=0\n",
    "for x in randomGauss:\n",
    "    sum += x\n",
    "N=len(randomGauss) # N = the number of data points in the array \"numbers\"\n",
    "mean = sum/N\n",
    "print(\"Mean = \", mean)\n",
    "median = sorted(randomGauss)[int(len(randomGauss)/2)]\n",
    "print(\"Median = \", median)\n",
    "#(note that calculating the mode makes no sense in a continuously distributed variable\n",
    "# although you could quite sensibly calculate the mode of the histogram we make of it;\n",
    "# won't do that here, though)"
   ]
  },
  {
   "cell_type": "markdown",
   "metadata": {},
   "source": [
    "# Variance and Standard Deviation"
   ]
  },
  {
   "cell_type": "markdown",
   "metadata": {},
   "source": [
    "For the dice:"
   ]
  },
  {
   "cell_type": "code",
   "execution_count": 10,
   "metadata": {},
   "outputs": [
    {
     "name": "stdout",
     "output_type": "stream",
     "text": [
      "Variance for 1 die =  3.3900000000000006 , standard deviation =  1.8411952639521971\n"
     ]
    }
   ],
   "source": [
    "sum=0\n",
    "sumsq=0\n",
    "for x in diceRandom1:\n",
    "    sum   += x\n",
    "    sumsq += x**2\n",
    "N = len(diceRandom1)\n",
    "mean   = sum/N\n",
    "meansq = sumsq/N\n",
    "Variance = meansq - mean**2\n",
    "StandardDeviation = sqrt(Variance)\n",
    "print(\"Variance for 1 die = \", Variance, \", standard deviation = \", StandardDeviation)"
   ]
  },
  {
   "cell_type": "markdown",
   "metadata": {},
   "source": [
    "For the two dice:"
   ]
  },
  {
   "cell_type": "code",
   "execution_count": 11,
   "metadata": {},
   "outputs": [
    {
     "name": "stdout",
     "output_type": "stream",
     "text": [
      "Variance for 2 dice =  5.925100000000008 , standard deviation =  2.434152830041698\n"
     ]
    }
   ],
   "source": [
    "sum=0\n",
    "sumsq=0\n",
    "for x in diceRandom2:\n",
    "    sum   += x\n",
    "    sumsq += x**2\n",
    "N = len(diceRandom1)\n",
    "mean   = sum/N\n",
    "meansq = sumsq/N\n",
    "Variance = meansq - mean**2\n",
    "StandardDeviation = sqrt(Variance)\n",
    "print(\"Variance for 2 dice = \", Variance, \", standard deviation = \", StandardDeviation)"
   ]
  },
  {
   "cell_type": "raw",
   "metadata": {},
   "source": [
    "For Standard Normal:"
   ]
  },
  {
   "cell_type": "code",
   "execution_count": 12,
   "metadata": {},
   "outputs": [
    {
     "name": "stdout",
     "output_type": "stream",
     "text": [
      "Variance for 'standard normal' distribution =  0.902438250611\n",
      "Standard deviation =  0.9499674997654572\n"
     ]
    }
   ],
   "source": [
    "sum=0\n",
    "sumsq=0\n",
    "for x in randomGauss:\n",
    "    sum   += x\n",
    "    sumsq += x**2\n",
    "N = len(randomGauss)\n",
    "mean   = sum/N\n",
    "meansq = sumsq/N\n",
    "Variance = meansq - mean**2\n",
    "StandardDeviation = sqrt(Variance)\n",
    "print(\"Variance for 'standard normal' distribution = \", Variance)\n",
    "print(\"Standard deviation = \", StandardDeviation)"
   ]
  },
  {
   "cell_type": "code",
   "execution_count": null,
   "metadata": {
    "collapsed": true
   },
   "outputs": [],
   "source": []
  }
 ],
 "metadata": {
  "kernelspec": {
   "display_name": "Python 3",
   "language": "python",
   "name": "python3"
  },
  "language_info": {
   "codemirror_mode": {
    "name": "ipython",
    "version": 3
   },
   "file_extension": ".py",
   "mimetype": "text/x-python",
   "name": "python",
   "nbconvert_exporter": "python",
   "pygments_lexer": "ipython3",
   "version": "3.6.1"
  }
 },
 "nbformat": 4,
 "nbformat_minor": 2
}
