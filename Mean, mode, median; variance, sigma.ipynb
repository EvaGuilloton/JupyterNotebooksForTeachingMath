{
 "cells": [
  {
   "cell_type": "markdown",
   "metadata": {
    "collapsed": true
   },
   "source": [
    "# \"Central Tendency\": Mean, Mode, Median"
   ]
  },
  {
   "cell_type": "markdown",
   "metadata": {},
   "source": [
    "Let's generate a few distributions and calculate the mean, mode, median for each.\n",
    "Start by importing the relevant libraries"
   ]
  },
  {
   "cell_type": "code",
   "execution_count": 1,
   "metadata": {
    "collapsed": true
   },
   "outputs": [],
   "source": [
    "from math import *\n",
    "import numpy as np\n",
    "import matplotlib.mlab as mlab\n",
    "import matplotlib.pyplot as plt"
   ]
  },
  {
   "cell_type": "markdown",
   "metadata": {},
   "source": [
    "Let's generate a distribution we would get from throwing a (fair) die"
   ]
  },
  {
   "cell_type": "code",
   "execution_count": 2,
   "metadata": {},
   "outputs": [
    {
     "data": {
      "image/png": "[encoded data removed]",
      "text/plain": [
       "<matplotlib.figure.Figure at 0x10c725128>"
      ]
     },
     "metadata": {},
     "output_type": "display_data"
    }
   ],
   "source": [
    "#Return a sample of 1000 random numbers between 0 and 1\n",
    "flatRandom = np.random.random(1000) \n",
    "#turn it into integers from 1 to 6:\n",
    "diceRandom1 = [int(x*6)+1 for x in flatRandom]\n",
    "h=plt.hist(diceRandom1, 6, range=(0.5, 6.5)) # make histogram\n",
    "plt.show()"
   ]
  },
  {
   "cell_type": "markdown",
   "metadata": {},
   "source": [
    "Calulate arithmetic mean:"
   ]
  },
  {
   "cell_type": "code",
   "execution_count": 3,
   "metadata": {},
   "outputs": [
    {
     "name": "stdout",
     "output_type": "stream",
     "text": [
      "The mean is  3.532\n"
     ]
    }
   ],
   "source": [
    "sum=0\n",
    "for x in diceRandom1:\n",
    "    sum += x\n",
    "N=len(diceRandom1) # N = the number of data points in the array \"numbers\"\n",
    "mean = sum/N\n",
    "print(\"The mean is \", mean)"
   ]
  },
  {
   "cell_type": "markdown",
   "metadata": {},
   "source": [
    "This is close to 3.5, as expected. In what way this is far away from the expected value of exactly zero is something we will discuss also in this course, when we estimate the uncertainty on the mean. But for now, we are happy to have successfully calculated the mean of a dataset."
   ]
  },
  {
   "cell_type": "markdown",
   "metadata": {},
   "source": [
    "Let's now calculate the mode."
   ]
  },
  {
   "cell_type": "code",
   "execution_count": 4,
   "metadata": {},
   "outputs": [
    {
     "name": "stdout",
     "output_type": "stream",
     "text": [
      "[1, 1, 1, 1, 1, 1, 1, 1, 1, 1]\n",
      "Median =  3\n"
     ]
    }
   ],
   "source": [
    "# sort the numbers:\n",
    "diceRandom1.sort()\n",
    "#check it's sorted:\n",
    "print(diceRandom1[:10])\n",
    "#calcualate median\n",
    "median = diceRandom1[int(len(diceRandom1)/2)]\n",
    "print(\"Median = \", median)"
   ]
  },
  {
   "cell_type": "markdown",
   "metadata": {},
   "source": [
    "Now the mode:"
   ]
  },
  {
   "cell_type": "code",
   "execution_count": 5,
   "metadata": {},
   "outputs": [
    {
     "name": "stdout",
     "output_type": "stream",
     "text": [
      "dict_items([(1, 160), (2, 163), (3, 180), (4, 164), (5, 148), (6, 185)])\n",
      "Mode is  6\n"
     ]
    }
   ],
   "source": [
    "frequency={1:0, 2:0, 3:0, 4:0, 5:0, 6:0}  # a python \"dictionary\", like C++ STL map\n",
    "for x in diceRandom1:\n",
    "    frequency[x] += 1\n",
    "print(frequency.items())\n",
    "\n",
    "max=-1\n",
    "mode=-1\n",
    "for xy in frequency.items():\n",
    "    if(xy[1] > max):\n",
    "        max = xy[1]\n",
    "        mode = xy[0]\n",
    "\n",
    "print(\"Mode is \", mode)"
   ]
  },
  {
   "cell_type": "markdown",
   "metadata": {},
   "source": [
    "Of course for this distribution, the mode is equally likely to be 1, 2, 3, 4, 5 or 6, because each of t"
   ]
  },
  {
   "cell_type": "markdown",
   "metadata": {},
   "source": [
    "We can try this with other distributions, too. Let's try a \"standard normal\", a Gaussian \"bell curve\" of width one and mean zero; we will discuss this distribution in detail, later in the course"
   ]
  },
  {
   "cell_type": "code",
   "execution_count": 6,
   "metadata": {},
   "outputs": [
    {
     "data": {
      "image/png": "[encoded data removed]",
      "text/plain": [
       "<matplotlib.figure.Figure at 0x10faffb38>"
      ]
     },
     "metadata": {},
     "output_type": "display_data"
    }
   ],
   "source": [
    "#Return a sample of 1000 numbers from “standard normal” (mean 0, sigma 1) distribution.\n",
    "randomGauss = np.random.randn(1000) \n",
    "h=plt.hist(randomGauss, 20) # make histogram of this with 20 bins\n",
    "plt.show()"
   ]
  },
  {
   "cell_type": "code",
   "execution_count": 7,
   "metadata": {},
   "outputs": [
    {
     "name": "stdout",
     "output_type": "stream",
     "text": [
      "Mean =  -0.0270054761253\n",
      "Median =  -0.00729541668885\n"
     ]
    }
   ],
   "source": [
    "sum=0\n",
    "for x in randomGauss:\n",
    "    sum += x\n",
    "N=len(randomGauss) # N = the number of data points in the array \"numbers\"\n",
    "mean = sum/N\n",
    "print(\"Mean = \", mean)\n",
    "median = sorted(randomGauss)[int(len(randomGauss)/2)]\n",
    "print(\"Median = \", median)\n",
    "#(note that calculating the mode makes no sense in a continuously distributed variable\n",
    "# although you could quite sensibly calculate the mode of the histogram we make of it;\n",
    "# won't do that here, though)"
   ]
  },
  {
   "cell_type": "markdown",
   "metadata": {},
   "source": [
    "# Variance and Standard Deviation"
   ]
  },
  {
   "cell_type": "markdown",
   "metadata": {},
   "source": [
    "For the dice:"
   ]
  },
  {
   "cell_type": "code",
   "execution_count": 8,
   "metadata": {},
   "outputs": [
    {
     "name": "stdout",
     "output_type": "stream",
     "text": [
      "Variance for 1 die =  2.940976000000001 , standard deviation =  1.714927403711306\n"
     ]
    }
   ],
   "source": [
    "sum=0\n",
    "sumsq=0\n",
    "for x in diceRandom1:\n",
    "    sum   += x\n",
    "    sumsq += x**2\n",
    "N = len(diceRandom1)\n",
    "mean   = sum/N\n",
    "meansq = sumsq/N\n",
    "Variance = meansq - mean**2\n",
    "StandardDeviation = sqrt(Variance)\n",
    "print(\"Variance for 1 die = \", Variance, \", standard deviation = \", StandardDeviation)\n"
   ]
  },
  {
   "cell_type": "raw",
   "metadata": {},
   "source": [
    "For Gaussian:"
   ]
  },
  {
   "cell_type": "code",
   "execution_count": 10,
   "metadata": {},
   "outputs": [
    {
     "name": "stdout",
     "output_type": "stream",
     "text": [
      "Variance for 'standard normal' distribution =  1.0322301531\n",
      "Standard deviation =  1.0159872799892262\n"
     ]
    }
   ],
   "source": [
    "sum=0\n",
    "sumsq=0\n",
    "for x in randomGauss:\n",
    "    sum   += x\n",
    "    sumsq += x**2\n",
    "N = len(randomGauss)\n",
    "mean   = sum/N\n",
    "meansq = sumsq/N\n",
    "Variance = meansq - mean**2\n",
    "StandardDeviation = sqrt(Variance)\n",
    "print(\"Variance for 'standard normal' distribution = \", Variance)\n",
    "print(\"Standard deviation = \", StandardDeviation)"
   ]
  },
  {
   "cell_type": "code",
   "execution_count": null,
   "metadata": {
    "collapsed": true
   },
   "outputs": [],
   "source": []
  }
 ],
 "metadata": {
  "kernelspec": {
   "display_name": "Python 3",
   "language": "python",
   "name": "python3"
  },
  "language_info": {
   "codemirror_mode": {
    "name": "ipython",
    "version": 3
   },
   "file_extension": ".py",
   "mimetype": "text/x-python",
   "name": "python",
   "nbconvert_exporter": "python",
   "pygments_lexer": "ipython3",
   "version": "3.6.1"
  }
 },
 "nbformat": 4,
 "nbformat_minor": 2
}
