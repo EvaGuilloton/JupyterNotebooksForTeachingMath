{
 "cells": [
  {
   "cell_type": "markdown",
   "metadata": {},
   "source": [
    "# Tossing Coins"
   ]
  },
  {
   "cell_type": "markdown",
   "metadata": {},
   "source": [
    "This notebook lets you generate random coin tosses as used in some examples in the lecture."
   ]
  },
  {
   "cell_type": "markdown",
   "metadata": {},
   "source": [
    "You can view these sheets on github, but to modify them, you'll need to a version of jupyter. How to install it is explained here: http://jupyter.readthedocs.io/en/latest/install.html.\n",
    "If you want to use the functions defined below to generate your own distributions, you need to compile them first. Easiest done by clicking (once have opened this as jupyter notebook): Kernel -> Restart & Run All. (Alternatively, you can use the >| button to click your way through, but you need to start from the beginning to have access to all functions defined on this sheet). Have fun!"
   ]
  },
  {
   "cell_type": "markdown",
   "metadata": {},
   "source": [
    "start by loading the usual libraries:"
   ]
  },
  {
   "cell_type": "code",
   "execution_count": 1,
   "metadata": {
    "collapsed": true
   },
   "outputs": [],
   "source": [
    "from math import *\n",
    "import numpy as np\n",
    "import matplotlib.mlab as mlab\n",
    "import matplotlib.pyplot as plt"
   ]
  },
  {
   "cell_type": "markdown",
   "metadata": {},
   "source": [
    "A single coin..."
   ]
  },
  {
   "cell_type": "code",
   "execution_count": 2,
   "metadata": {
    "collapsed": true
   },
   "outputs": [],
   "source": [
    "def coinToss(p=0.5):\n",
    "    if np.random.random() < p:\n",
    "        return 'H'\n",
    "    else:\n",
    "        return 'T'"
   ]
  },
  {
   "cell_type": "markdown",
   "metadata": {},
   "source": [
    "... tossed 4 times:"
   ]
  },
  {
   "cell_type": "code",
   "execution_count": 3,
   "metadata": {
    "collapsed": true
   },
   "outputs": [],
   "source": [
    "def NTosses(N=4, p=0.5):\n",
    "    ResultsList = [coinToss(p) for i in range(N)]\n",
    "    return ResultsList"
   ]
  },
  {
   "cell_type": "code",
   "execution_count": 4,
   "metadata": {},
   "outputs": [
    {
     "name": "stdout",
     "output_type": "stream",
     "text": [
      "['T', 'H', 'T', 'T']\n"
     ]
    }
   ],
   "source": [
    "print(NTosses(4))"
   ]
  },
  {
   "cell_type": "markdown",
   "metadata": {},
   "source": [
    "define a function that tosses a single coin..."
   ]
  },
  {
   "cell_type": "code",
   "execution_count": 5,
   "metadata": {
    "collapsed": true
   },
   "outputs": [],
   "source": [
    "def plotSingleCoin(list):\n",
    "    xcategories = ['H', 'T']\n",
    "    counts= [list.count('H'), list.count('T')]\n",
    "    ypos=np.arange(len(xcategories))\n",
    "    plt.bar(ypos,counts, align='center', alpha=0.5)\n",
    "    plt.xticks(ypos, xcategories)\n",
    "    plt.ylabel('Counts')\n",
    "    plt.title('%(first)d coin tosses' % {\"first\": len(list)})\n",
    "    plt.show()"
   ]
  },
  {
   "cell_type": "markdown",
   "metadata": {},
   "source": [
    "... and use it for four coint tosses:"
   ]
  },
  {
   "cell_type": "code",
   "execution_count": 6,
   "metadata": {},
   "outputs": [
    {
     "data": {
      "image/png": "[encoded data removed]",
      "text/plain": [
       "<matplotlib.figure.Figure at 0x10f141f60>"
      ]
     },
     "metadata": {},
     "output_type": "display_data"
    }
   ],
   "source": [
    "plotSingleCoin(NTosses(4))"
   ]
  },
  {
   "cell_type": "markdown",
   "metadata": {},
   "source": [
    "Define a few functions that will toss multiple coins and count the number of heads:"
   ]
  },
  {
   "cell_type": "code",
   "execution_count": 7,
   "metadata": {
    "collapsed": true
   },
   "outputs": [],
   "source": [
    "def CountHeads(N=4, p=0.5):\n",
    "    return NTosses(N,p).count('H')\n",
    "\n",
    "def Toss_NCoins_Mtimes(M=100, N=4, p=0.5):\n",
    "    return [CountHeads(N,p) for i in range(M)]\n",
    "\n",
    "def plotMultiCoinTosses(HeadList, mini=9999, maxi=-9999):\n",
    "    if(mini > maxi):\n",
    "        Max = max(HeadList) +0.5\n",
    "        Min = min(HeadList) -0.5\n",
    "    else:\n",
    "        Min=mini\n",
    "        Max=maxi\n",
    "        \n",
    "    Nbins = int(Max - Min)\n",
    "    \n",
    "    h=plt.hist(HeadList, Nbins, range=(Min,Max)) # make histogram\n",
    "    plt.show()\n",
    "\n",
    "def averageHeads(HeadList):\n",
    "    sum=0\n",
    "    N = len(HeadList)\n",
    "    if N <= 0:\n",
    "        print(\"No events, no average\")\n",
    "        return -1\n",
    "    \n",
    "    for x in HeadList:\n",
    "        sum += x\n",
    "    return sum/N\n"
   ]
  },
  {
   "cell_type": "markdown",
   "metadata": {},
   "source": [
    "and also make a function that plots the result:"
   ]
  },
  {
   "cell_type": "code",
   "execution_count": 8,
   "metadata": {
    "collapsed": true
   },
   "outputs": [],
   "source": [
    "def TossAndPlot(M=100, N=4, p=0.5):\n",
    "    theList=Toss_NCoins_Mtimes(M, N, p)\n",
    "    plotMultiCoinTosses(theList, -0.5, N+0.5)\n",
    "    print(   \"Average number of heads in simulated data\\t = \", averageHeads(theList),\n",
    "          \"\\n Expected average for \", N, \" trials, p= \", p, \"\\t = \", N*p)"
   ]
  },
  {
   "cell_type": "markdown",
   "metadata": {},
   "source": [
    "Now use it for counting heads when tossing N coins in each trial; repeat trial M times and put for each the number of heads into a bar chart."
   ]
  },
  {
   "cell_type": "code",
   "execution_count": 9,
   "metadata": {},
   "outputs": [
    {
     "data": {
      "image/png": "[encoded data removed]",
      "text/plain": [
       "<matplotlib.figure.Figure at 0x11269dc18>"
      ]
     },
     "metadata": {},
     "output_type": "display_data"
    },
    {
     "name": "stdout",
     "output_type": "stream",
     "text": [
      "Average number of heads in simulated data\t =  2.0 \n",
      " Expected average for  4  trials, p=  0.5 \t =  2.0\n"
     ]
    }
   ],
   "source": [
    "TossAndPlot(N=4, M=4)"
   ]
  },
  {
   "cell_type": "code",
   "execution_count": 10,
   "metadata": {},
   "outputs": [
    {
     "data": {
      "image/png": "[encoded data removed]",
      "text/plain": [
       "<matplotlib.figure.Figure at 0x1126ad278>"
      ]
     },
     "metadata": {},
     "output_type": "display_data"
    },
    {
     "name": "stdout",
     "output_type": "stream",
     "text": [
      "Average number of heads in simulated data\t =  2.3 \n",
      " Expected average for  4  trials, p=  0.5 \t =  2.0\n"
     ]
    }
   ],
   "source": [
    "TossAndPlot(N=4, M=10)"
   ]
  },
  {
   "cell_type": "code",
   "execution_count": 11,
   "metadata": {},
   "outputs": [
    {
     "data": {
      "image/png": "[encoded data removed]",
      "text/plain": [
       "<matplotlib.figure.Figure at 0x1125619b0>"
      ]
     },
     "metadata": {},
     "output_type": "display_data"
    },
    {
     "name": "stdout",
     "output_type": "stream",
     "text": [
      "Average number of heads in simulated data\t =  2.07 \n",
      " Expected average for  4  trials, p=  0.5 \t =  2.0\n"
     ]
    }
   ],
   "source": [
    "TossAndPlot(N=4, M=100)"
   ]
  },
  {
   "cell_type": "code",
   "execution_count": 12,
   "metadata": {},
   "outputs": [
    {
     "data": {
      "image/png": "[encoded data removed]",
      "text/plain": [
       "<matplotlib.figure.Figure at 0x1124f45f8>"
      ]
     },
     "metadata": {},
     "output_type": "display_data"
    },
    {
     "name": "stdout",
     "output_type": "stream",
     "text": [
      "Average number of heads in simulated data\t =  1.999975 \n",
      " Expected average for  4  trials, p=  0.5 \t =  2.0\n"
     ]
    }
   ],
   "source": [
    "TossAndPlot(N=4, M=1000000)"
   ]
  },
  {
   "cell_type": "markdown",
   "metadata": {},
   "source": [
    "## Averaging is good for you!"
   ]
  },
  {
   "cell_type": "code",
   "execution_count": 13,
   "metadata": {},
   "outputs": [
    {
     "data": {
      "image/png": "[encoded data removed]",
      "text/plain": [
       "<matplotlib.figure.Figure at 0x1144a3588>"
      ]
     },
     "metadata": {},
     "output_type": "display_data"
    },
    {
     "name": "stdout",
     "output_type": "stream",
     "text": [
      "Average number of heads in simulated data\t =  8.1 \n",
      " Expected average for  16  trials, p=  0.5 \t =  8.0\n"
     ]
    }
   ],
   "source": [
    "TossAndPlot(N=16, M=10)"
   ]
  },
  {
   "cell_type": "code",
   "execution_count": 14,
   "metadata": {},
   "outputs": [
    {
     "data": {
      "image/png": "[encoded data removed]",
      "text/plain": [
       "<matplotlib.figure.Figure at 0x1144a3f98>"
      ]
     },
     "metadata": {},
     "output_type": "display_data"
    },
    {
     "name": "stdout",
     "output_type": "stream",
     "text": [
      "Average number of heads in simulated data\t =  8.01 \n",
      " Expected average for  16  trials, p=  0.5 \t =  8.0\n"
     ]
    }
   ],
   "source": [
    "TossAndPlot(N=16,M=100)"
   ]
  },
  {
   "cell_type": "code",
   "execution_count": 15,
   "metadata": {
    "scrolled": true
   },
   "outputs": [
    {
     "data": {
      "image/png": "[encoded data removed]",
      "text/plain": [
       "<matplotlib.figure.Figure at 0x1125e8358>"
      ]
     },
     "metadata": {},
     "output_type": "display_data"
    },
    {
     "name": "stdout",
     "output_type": "stream",
     "text": [
      "Average number of heads in simulated data\t =  8.056 \n",
      " Expected average for  16  trials, p=  0.5 \t =  8.0\n"
     ]
    }
   ],
   "source": [
    "TossAndPlot(N=16, M=1000)"
   ]
  },
  {
   "cell_type": "code",
   "execution_count": 16,
   "metadata": {},
   "outputs": [
    {
     "data": {
      "image/png": "[encoded data removed]",
      "text/plain": [
       "<matplotlib.figure.Figure at 0x112b46a58>"
      ]
     },
     "metadata": {},
     "output_type": "display_data"
    },
    {
     "name": "stdout",
     "output_type": "stream",
     "text": [
      "Average number of heads in simulated data\t =  7.99029 \n",
      " Expected average for  16  trials, p=  0.5 \t =  8.0\n"
     ]
    }
   ],
   "source": [
    "TossAndPlot(N=16, M=100000)"
   ]
  },
  {
   "cell_type": "code",
   "execution_count": 17,
   "metadata": {},
   "outputs": [
    {
     "data": {
      "image/png": "[encoded data removed]",
      "text/plain": [
       "<matplotlib.figure.Figure at 0x112b23630>"
      ]
     },
     "metadata": {},
     "output_type": "display_data"
    },
    {
     "name": "stdout",
     "output_type": "stream",
     "text": [
      "Average number of heads in simulated data\t =  9.98 \n",
      " Expected average for  20  trials, p=  0.5 \t =  10.0\n"
     ]
    }
   ],
   "source": [
    "TossAndPlot(N=20, M=100)"
   ]
  }
 ],
 "metadata": {
  "kernelspec": {
   "display_name": "Python 3",
   "language": "python",
   "name": "python3"
  },
  "language_info": {
   "codemirror_mode": {
    "name": "ipython",
    "version": 3
   },
   "file_extension": ".py",
   "mimetype": "text/x-python",
   "name": "python",
   "nbconvert_exporter": "python",
   "pygments_lexer": "ipython3",
   "version": "3.6.1"
  }
 },
 "nbformat": 4,
 "nbformat_minor": 2
}
