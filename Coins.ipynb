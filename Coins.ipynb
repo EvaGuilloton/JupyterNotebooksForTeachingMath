{
 "cells": [
  {
   "cell_type": "markdown",
   "metadata": {},
   "source": [
    "The usual libraries"
   ]
  },
  {
   "cell_type": "code",
   "execution_count": 1,
   "metadata": {
    "collapsed": true
   },
   "outputs": [],
   "source": [
    "from math import *\n",
    "import numpy as np\n",
    "import matplotlib.mlab as mlab\n",
    "import matplotlib.pyplot as plt"
   ]
  },
  {
   "cell_type": "markdown",
   "metadata": {},
   "source": [
    "A single coin..."
   ]
  },
  {
   "cell_type": "code",
   "execution_count": 2,
   "metadata": {
    "collapsed": true
   },
   "outputs": [],
   "source": [
    "def coinToss(p=0.5):\n",
    "    if np.random.random() < p:\n",
    "        return 'H'\n",
    "    else:\n",
    "        return 'T'"
   ]
  },
  {
   "cell_type": "markdown",
   "metadata": {},
   "source": [
    "... tossed 10 times:"
   ]
  },
  {
   "cell_type": "code",
   "execution_count": 3,
   "metadata": {},
   "outputs": [],
   "source": [
    "def NTosses(N=10, p=0.5):\n",
    "    ResultsList = [coinToss(p) for i in range(N)]\n",
    "    return ResultsList"
   ]
  },
  {
   "cell_type": "code",
   "execution_count": 4,
   "metadata": {},
   "outputs": [
    {
     "name": "stdout",
     "output_type": "stream",
     "text": [
      "['T', 'T', 'T', 'T', 'T', 'H', 'H', 'H', 'T', 'T']\n"
     ]
    }
   ],
   "source": [
    "print(NTosses(10))"
   ]
  },
  {
   "cell_type": "code",
   "execution_count": 5,
   "metadata": {},
   "outputs": [],
   "source": [
    "def plotSingleCoin(list):\n",
    "    xcategories = ['H', 'T']\n",
    "    counts= [list.count('H'), list.count('T')]\n",
    "    ypos=np.arange(len(xcategories))\n",
    "    plt.bar(ypos,counts, align='center', alpha=0.5)\n",
    "    plt.xticks(ypos, xcategories)\n",
    "    plt.ylabel('Counts')\n",
    "    plt.title('%(first)d coin tosses' % {\"first\": len(list)})\n",
    "    plt.show()"
   ]
  },
  {
   "cell_type": "code",
   "execution_count": 6,
   "metadata": {},
   "outputs": [
    {
     "data": {
      "image/png": "[encoded data removed]",
      "text/plain": [
       "<matplotlib.figure.Figure at 0x113dc7d68>"
      ]
     },
     "metadata": {},
     "output_type": "display_data"
    }
   ],
   "source": [
    "plotSingleCoin(NTosses(10))"
   ]
  },
  {
   "cell_type": "markdown",
   "metadata": {},
   "source": [
    "Toss multiple coins and count heads"
   ]
  },
  {
   "cell_type": "code",
   "execution_count": 7,
   "metadata": {},
   "outputs": [],
   "source": [
    "def CountHeads(N=4, p=0.5):\n",
    "    return NTosses(N,p).count('H')\n",
    "\n",
    "def Toss_NCoins_Mtimes(M=100, N=4, p=0.5):\n",
    "    return [CountHeads(N,p) for i in range(M)]\n",
    "\n",
    "def plotMultiCoinTosses(HeadList):\n",
    "    Max = max(HeadList) +0.5\n",
    "    Min = min(HeadList) -0.5\n",
    "    Nbins = int(Max - Min)\n",
    "    \n",
    "    h=plt.hist(HeadList, Nbins, range=(Min,Max)) # make histogram\n",
    "    plt.show()\n",
    "\n",
    "def averageHeads(HeadList):\n",
    "    sum=0\n",
    "    N = len(HeadList)\n",
    "    if N <= 0:\n",
    "        print(\"No events, no average\")\n",
    "        return -1\n",
    "    \n",
    "    for x in HeadList:\n",
    "        sum += x\n",
    "    return sum/N\n"
   ]
  },
  {
   "cell_type": "code",
   "execution_count": 8,
   "metadata": {},
   "outputs": [],
   "source": [
    "def DoItAll(M=100, N=4, p=0.5):\n",
    "    theList=Toss_NCoins_Mtimes(M, N, p)\n",
    "    plotMultiCoinTosses(theList)\n",
    "    print(   \"Average number of heads in simulated data\\t = \", averageHeads(theList),\n",
    "          \"\\n Expected average for \", N, \" trials, p= \", p, \"\\t = \", N*p)"
   ]
  },
  {
   "cell_type": "code",
   "execution_count": 9,
   "metadata": {},
   "outputs": [
    {
     "data": {
      "image/png": "[encoded data removed]",
      "text/plain": [
       "<matplotlib.figure.Figure at 0x117320860>"
      ]
     },
     "metadata": {},
     "output_type": "display_data"
    },
    {
     "name": "stdout",
     "output_type": "stream",
     "text": [
      "Average number of heads in simulated data\t =  0.6 \n",
      " Expected average for  1  trials, p=  0.5 \t =  0.5\n"
     ]
    }
   ],
   "source": [
    "DoItAll(N=1, M=5)"
   ]
  },
  {
   "cell_type": "code",
   "execution_count": 10,
   "metadata": {},
   "outputs": [
    {
     "data": {
      "image/png": "[encoded data removed]",
      "text/plain": [
       "<matplotlib.figure.Figure at 0x113e77c18>"
      ]
     },
     "metadata": {},
     "output_type": "display_data"
    },
    {
     "name": "stdout",
     "output_type": "stream",
     "text": [
      "Average number of heads in simulated data\t =  0.497 \n",
      " Expected average for  1  trials, p=  0.5 \t =  0.5\n"
     ]
    }
   ],
   "source": [
    "DoItAll(N=1, M=1000)"
   ]
  },
  {
   "cell_type": "code",
   "execution_count": 11,
   "metadata": {},
   "outputs": [
    {
     "data": {
      "image/png": "[encoded data removed]",
      "text/plain": [
       "<matplotlib.figure.Figure at 0x117267b00>"
      ]
     },
     "metadata": {},
     "output_type": "display_data"
    },
    {
     "name": "stdout",
     "output_type": "stream",
     "text": [
      "Average number of heads in simulated data\t =  0.87 \n",
      " Expected average for  2  trials, p=  0.5 \t =  1.0\n"
     ]
    }
   ],
   "source": [
    "DoItAll(N=2, M=100)"
   ]
  },
  {
   "cell_type": "code",
   "execution_count": 12,
   "metadata": {},
   "outputs": [
    {
     "data": {
      "image/png": "[encoded data removed]",
      "text/plain": [
       "<matplotlib.figure.Figure at 0x1174e60b8>"
      ]
     },
     "metadata": {},
     "output_type": "display_data"
    },
    {
     "name": "stdout",
     "output_type": "stream",
     "text": [
      "Average number of heads in simulated data\t =  2.0 \n",
      " Expected average for  4  trials, p=  0.5 \t =  2.0\n"
     ]
    }
   ],
   "source": [
    "DoItAll(N=4, M=5)"
   ]
  },
  {
   "cell_type": "code",
   "execution_count": 13,
   "metadata": {},
   "outputs": [
    {
     "data": {
      "image/png": "[encoded data removed]",
      "text/plain": [
       "<matplotlib.figure.Figure at 0x1177a4cc0>"
      ]
     },
     "metadata": {},
     "output_type": "display_data"
    },
    {
     "name": "stdout",
     "output_type": "stream",
     "text": [
      "Average number of heads in simulated data\t =  2.1 \n",
      " Expected average for  4  trials, p=  0.5 \t =  2.0\n"
     ]
    }
   ],
   "source": [
    "DoItAll(N=4, M=10)"
   ]
  },
  {
   "cell_type": "code",
   "execution_count": 14,
   "metadata": {},
   "outputs": [
    {
     "data": {
      "image/png": "[encoded data removed]",
      "text/plain": [
       "<matplotlib.figure.Figure at 0x11735b438>"
      ]
     },
     "metadata": {},
     "output_type": "display_data"
    },
    {
     "name": "stdout",
     "output_type": "stream",
     "text": [
      "Average number of heads in simulated data\t =  1.92 \n",
      " Expected average for  4  trials, p=  0.5 \t =  2.0\n"
     ]
    }
   ],
   "source": [
    "DoItAll(N=4,M=100)"
   ]
  },
  {
   "cell_type": "code",
   "execution_count": 15,
   "metadata": {
    "scrolled": true
   },
   "outputs": [
    {
     "data": {
      "image/png": "[encoded data removed]",
      "text/plain": [
       "<matplotlib.figure.Figure at 0x1179b6390>"
      ]
     },
     "metadata": {},
     "output_type": "display_data"
    },
    {
     "name": "stdout",
     "output_type": "stream",
     "text": [
      "Average number of heads in simulated data\t =  1.949 \n",
      " Expected average for  4  trials, p=  0.5 \t =  2.0\n"
     ]
    }
   ],
   "source": [
    "DoItAll(N=4, M=1000)"
   ]
  },
  {
   "cell_type": "code",
   "execution_count": 16,
   "metadata": {},
   "outputs": [
    {
     "data": {
      "image/png": "[encoded data removed]",
      "text/plain": [
       "<matplotlib.figure.Figure at 0x11752e748>"
      ]
     },
     "metadata": {},
     "output_type": "display_data"
    },
    {
     "name": "stdout",
     "output_type": "stream",
     "text": [
      "Average number of heads in simulated data\t =  1.99747 \n",
      " Expected average for  4  trials, p=  0.5 \t =  2.0\n"
     ]
    }
   ],
   "source": [
    "DoItAll(N=4, M=100000)"
   ]
  },
  {
   "cell_type": "code",
   "execution_count": 17,
   "metadata": {},
   "outputs": [
    {
     "data": {
      "image/png": "[encoded data removed]",
      "text/plain": [
       "<matplotlib.figure.Figure at 0x117523518>"
      ]
     },
     "metadata": {},
     "output_type": "display_data"
    },
    {
     "name": "stdout",
     "output_type": "stream",
     "text": [
      "Average number of heads in simulated data\t =  9.67 \n",
      " Expected average for  20  trials, p=  0.5 \t =  10.0\n"
     ]
    }
   ],
   "source": [
    "DoItAll(N=20, M=100)"
   ]
  }
 ],
 "metadata": {
  "kernelspec": {
   "display_name": "Python 3",
   "language": "python",
   "name": "python3"
  },
  "language_info": {
   "codemirror_mode": {
    "name": "ipython",
    "version": 3
   },
   "file_extension": ".py",
   "mimetype": "text/x-python",
   "name": "python",
   "nbconvert_exporter": "python",
   "pygments_lexer": "ipython3",
   "version": "3.6.1"
  }
 },
 "nbformat": 4,
 "nbformat_minor": 2
}
