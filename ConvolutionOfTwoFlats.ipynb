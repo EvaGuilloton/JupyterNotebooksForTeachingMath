{
 "cells": [
  {
   "cell_type": "markdown",
   "metadata": {},
   "source": [
    "## Convolution of two flat distributions"
   ]
  },
  {
   "cell_type": "markdown",
   "metadata": {},
   "source": [
    "You can view these sheets on github, but to modify them, you'll need to a version of jupyter. How to install it is explained here: http://jupyter.readthedocs.io/en/latest/install.html.\n",
    "If you want to use the functions defined below to generate and convolve your own random distributions, you need to compile them first. Easiest done by clicking (once have opened this in jupyter as notebook): Kernel -> Restart & Run All. (Alternatively, you can use the >| button to click your way through, but you need to start from the beginning to have access to all functions defined on this sheet). Have fun!"
   ]
  },
  {
   "cell_type": "markdown",
   "metadata": {},
   "source": [
    "### What this notebook is about:"
   ]
  },
  {
   "cell_type": "markdown",
   "metadata": {},
   "source": [
    "In the problem sheet, we calculated the convolution of two flat pdfs and found it is a triangular pdf. This was actually not that easy to calculate, you had to solve the integral\n",
    "\n",
    "$p_z(z) = \\int_{-\\infty}^{\\infty}p_{flat}(x)p_{flat}(z-x) dx$\n",
    "\n",
    "where $p_{flat}(x) = 1$ if $x \\in [0,1]$ and $0$ else.\n",
    "It turns out that generating the random numbers described by this is very easy! All you need to do is generate two sets of random numbers according to a flat distribution, and add them up. See below."
   ]
  },
  {
   "cell_type": "markdown",
   "metadata": {},
   "source": [
    "Load the usual libraries"
   ]
  },
  {
   "cell_type": "code",
   "execution_count": 1,
   "metadata": {
    "collapsed": true
   },
   "outputs": [],
   "source": [
    "from math import *\n",
    "import numpy as np\n",
    "import matplotlib.mlab as mlab\n",
    "import matplotlib.pyplot as plt"
   ]
  },
  {
   "cell_type": "markdown",
   "metadata": {},
   "source": [
    "Generate flatly distributed random numbers:"
   ]
  },
  {
   "cell_type": "code",
   "execution_count": 2,
   "metadata": {},
   "outputs": [
    {
     "data": {
      "image/png": "[encoded data removed]",
      "text/plain": [
       "<matplotlib.figure.Figure at 0x11346ccf8>"
      ]
     },
     "metadata": {},
     "output_type": "display_data"
    }
   ],
   "source": [
    "N=100000\n",
    "flatRandom1 = np.random.random(N) # generates a list of random numbers, flat in [0,1)\n",
    "h=plt.hist(flatRandom1, 100, range=(-0.5, 1.5)) # make histogram with 100 bins from -0.5 to 1.5\n",
    "plt.show()"
   ]
  },
  {
   "cell_type": "markdown",
   "metadata": {},
   "source": [
    "Generate another one just like that"
   ]
  },
  {
   "cell_type": "code",
   "execution_count": 3,
   "metadata": {},
   "outputs": [
    {
     "data": {
      "image/png": "[encoded data removed]",
      "text/plain": [
       "<matplotlib.figure.Figure at 0x116df5e48>"
      ]
     },
     "metadata": {},
     "output_type": "display_data"
    }
   ],
   "source": [
    "flatRandom2 = np.random.random(N) # generates a list of random numbers, flat in [0,1)\n",
    "h2=plt.hist(flatRandom2, 100, range=(-0.5, 1.5)) # make histogram with 100 bins from -0.5 to 1.5\n",
    "plt.show()"
   ]
  },
  {
   "cell_type": "markdown",
   "metadata": {
    "collapsed": true
   },
   "source": [
    "Now create a 3rd set of random numbers, by adding up numbers from the first and 2nd set:"
   ]
  },
  {
   "cell_type": "code",
   "execution_count": 4,
   "metadata": {},
   "outputs": [
    {
     "data": {
      "image/png": "[encoded data removed]",
      "text/plain": [
       "<matplotlib.figure.Figure at 0x116959400>"
      ]
     },
     "metadata": {},
     "output_type": "display_data"
    }
   ],
   "source": [
    "#randomSum = [x1 + x2 for x1, x2 in zip(flatRandom1, flatRandom2)]\n",
    "randomSum=flatRandom1 + flatRandom2 # more efficient way to achieve the above\n",
    "hsum=plt.hist(randomSum, 100, range=(-0.5, 2.5)) # make histogram with 100 bins from -0.5 to 2.5\n",
    "plt.show()"
   ]
  },
  {
   "cell_type": "markdown",
   "metadata": {},
   "source": [
    "Magic!"
   ]
  }
 ],
 "metadata": {
  "kernelspec": {
   "display_name": "Python 3",
   "language": "python",
   "name": "python3"
  },
  "language_info": {
   "codemirror_mode": {
    "name": "ipython",
    "version": 3
   },
   "file_extension": ".py",
   "mimetype": "text/x-python",
   "name": "python",
   "nbconvert_exporter": "python",
   "pygments_lexer": "ipython3",
   "version": "3.6.1"
  }
 },
 "nbformat": 4,
 "nbformat_minor": 2
}
