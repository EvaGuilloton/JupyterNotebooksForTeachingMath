{
 "cells": [
  {
   "cell_type": "markdown",
   "metadata": {
    "collapsed": true
   },
   "source": [
    "# Simulated experiments to estimate p-values (for the special case where we are interested in the probability to get more than expected)"
   ]
  },
  {
   "cell_type": "markdown",
   "metadata": {},
   "source": [
    "An attempt to get an intuitive feel for p-values. These examples are only for cases where we count the number of fluctuations above a certain threshold, you might also be interested in those below - why not add this to the programme.\n",
    "\n",
    "You can either run this in binder\n",
    "https://mybinder.org/v2/gh/JonasRademacker/JupyterNotebooksForTeachingMath/master?filepath=BinomiPoissonGauss.ipynb , \n",
    "\n",
    "or - much, much better, although a bit hasslesome the first time you set it up - you can run it on your own computer. To do that:\n",
    "\n",
    "1) Download and install anaconda (https://www.anaconda.com/). \n",
    "\n",
    "2) Download this file from github. Do so by clicking on \"Raw\", and then asking your browser to save the file (in Firefox: File -> Save Pages As...)\n",
    "\n",
    "Alternatively, you can download the entire github repository. Open a terminal window. Go to the directory where you want a copy of this github repository to live on your computer. Then execute the command:\n",
    "\n",
    "git clone https://github.com/JonasRademacker/JupyterNotebooksForTeachingMath.git\n",
    "\n",
    "(alternatively, go to https://github.com/JonasRademacker/JupyterNotebooksForTeachingMath and find the green \"Code\" button and take it from there)\n",
    "\n",
    "3) Open a terminal window, go to the directory where this file is, and type: jupyter notebook\n",
    "\n",
    "This file should now open in your browser (again), and you can edit it and execute and save the code.\n",
    "\n",
    "Remember, to excecute each field, do shift+return. Execute the fields in order. If things got messy, go to Kernel and select Restart and Clear all output - and start Shift+Return from the top."
   ]
  },
  {
   "cell_type": "markdown",
   "metadata": {},
   "source": [
    "# What are we doing here?\n",
    "We are generating simulated experiments, where each experiment gives a random result drawn from a probability distribution. Then we count how often the results are above a certain threshold. This number, divided by the total number of experiments, in the limit of infinitely many experiments, is the p-value. Here we do this for binomial, Poisson and Gaussian."
   ]
  },
  {
   "cell_type": "markdown",
   "metadata": {},
   "source": [
    "First import some libraries"
   ]
  },
  {
   "cell_type": "code",
   "execution_count": 1,
   "metadata": {},
   "outputs": [],
   "source": [
    "from math import *\n",
    "import numpy as np\n",
    "import matplotlib.mlab as mlab\n",
    "import matplotlib.pyplot as plt"
   ]
  },
  {
   "cell_type": "markdown",
   "metadata": {},
   "source": [
    "Before we start, let's initialise the random number generator. Change the seed to get different outcomes for (peudo)random numbers used in this sheet."
   ]
  },
  {
   "cell_type": "code",
   "execution_count": 2,
   "metadata": {},
   "outputs": [],
   "source": [
    "np.random.seed(650)"
   ]
  },
  {
   "cell_type": "markdown",
   "metadata": {},
   "source": [
    "Let's generate random numbers according to each of these distributions. It's not really necessary to wrap these fully functional numpy functions into my own functions, but I'll do it anyway, in the hope it will add clarity"
   ]
  },
  {
   "cell_type": "code",
   "execution_count": 3,
   "metadata": {},
   "outputs": [
    {
     "name": "stdout",
     "output_type": "stream",
     "text": [
      "[7] [6] [4.06763569]\n"
     ]
    }
   ],
   "source": [
    "def binomial(NumTries, p_success, howoften=1):\n",
    "    return np.random.binomial(NumTries, p_success, howoften)\n",
    "\n",
    "def Poisson(mean, howoften=1):\n",
    "    return np.random.poisson(mean, howoften)\n",
    "\n",
    "def Gauss(mean, sigma, howoften=1):\n",
    "    return np.random.normal(mean, sigma, howoften)\n",
    "\n",
    "print(binomial(10, 0.5), Poisson(5), Gauss(5, sqrt(5)))"
   ]
  },
  {
   "cell_type": "markdown",
   "metadata": {},
   "source": [
    "Let's fill histograms with them:"
   ]
  },
  {
   "cell_type": "code",
   "execution_count": 4,
   "metadata": {},
   "outputs": [],
   "source": [
    "def MakeAndPlotBinomi(NumTries, p_success, numExperiments, threshold):\n",
    "    binomiArray  = binomial(NumTries, p_success, numExperiments)\n",
    "    mean = NumTries*p_success\n",
    "    sigma=sqrt(NumTries*p_success*(1.0-p_success))\n",
    "    \n",
    "    r=(mean - 4*sigma, mean + 4*sigma)\n",
    "    nbins = int(r[1]-r[0])//10+1\n",
    "    if NumTries < 1000:\n",
    "        nbins=NumTries + 1\n",
    "        r=(0, nbins)\n",
    "\n",
    "    hb=plt.hist(binomiArray,  nbins, range=r, linewidth=2, histtype='step', color='r')\n",
    "    plt.plot((threshold, threshold), (0, hb[0].max()*1.02), linewidth=2, color='orange')\n",
    "    plt.show()\n",
    "    print(numExperiments, \"random numbers according to Binomial\",\n",
    "          \"\\nfor N=\", NumTries, \"p=\", p_success)\n",
    "    \n",
    "    above = np.count_nonzero(binomiArray >= threshold)\n",
    "    print(\"In these\", numExperiments,  \"simulated experiments, there were\"\n",
    "         , above\n",
    "         , \"results >=\", threshold, \".\"\n",
    "         , \"\\n This corresponds to a p-value of approximately <fill in the gap> \"\n",
    "         , \"\\n Note that this is subject to statistical fluctations -\"\n",
    "         , \"\\n run this code again and the number will change.\"\n",
    "         , \"\\n Run the code with a larger numExperiments to reduce the uncertainty on the p-value.\"\n",
    "         , \"\\n BTW: you can calculate that uncertainty - what is it?\")\n"
   ]
  },
  {
   "cell_type": "code",
   "execution_count": 5,
   "metadata": {},
   "outputs": [
    {
     "data": {
      "image/png": "[encoded data removed]",
      "text/plain": [
       "<Figure size 432x288 with 1 Axes>"
      ]
     },
     "metadata": {
      "needs_background": "light"
     },
     "output_type": "display_data"
    },
    {
     "name": "stdout",
     "output_type": "stream",
     "text": [
      "1000 random numbers according to Binomial \n",
      "for N= 6 p= 0.16666666666666666\n"
     ]
    },
    {
     "ename": "NameError",
     "evalue": "name 'numExperiment' is not defined",
     "output_type": "error",
     "traceback": [
      "\u001b[0;31m---------------------------------------------------------------------------\u001b[0m",
      "\u001b[0;31mNameError\u001b[0m                                 Traceback (most recent call last)",
      "\u001b[0;32m<ipython-input-5-4186f25c20d7>\u001b[0m in \u001b[0;36m<module>\u001b[0;34m\u001b[0m\n\u001b[0;32m----> 1\u001b[0;31m \u001b[0mMakeAndPlotBinomi\u001b[0m\u001b[0;34m(\u001b[0m\u001b[0;36m6\u001b[0m\u001b[0;34m,\u001b[0m \u001b[0;36m1\u001b[0m\u001b[0;34m/\u001b[0m\u001b[0;36m6\u001b[0m\u001b[0;34m,\u001b[0m \u001b[0;36m1000\u001b[0m\u001b[0;34m,\u001b[0m \u001b[0mthreshold\u001b[0m\u001b[0;34m=\u001b[0m\u001b[0;36m5\u001b[0m\u001b[0;34m)\u001b[0m\u001b[0;34m\u001b[0m\u001b[0;34m\u001b[0m\u001b[0m\n\u001b[0m",
      "\u001b[0;32m<ipython-input-4-2d254740111e>\u001b[0m in \u001b[0;36mMakeAndPlotBinomi\u001b[0;34m(NumTries, p_success, numExperiments, threshold)\u001b[0m\n\u001b[1;32m     17\u001b[0m \u001b[0;34m\u001b[0m\u001b[0m\n\u001b[1;32m     18\u001b[0m     \u001b[0mabove\u001b[0m \u001b[0;34m=\u001b[0m \u001b[0mnp\u001b[0m\u001b[0;34m.\u001b[0m\u001b[0mcount_nonzero\u001b[0m\u001b[0;34m(\u001b[0m\u001b[0mbinomiArray\u001b[0m \u001b[0;34m>=\u001b[0m \u001b[0mthreshold\u001b[0m\u001b[0;34m)\u001b[0m\u001b[0;34m\u001b[0m\u001b[0;34m\u001b[0m\u001b[0m\n\u001b[0;32m---> 19\u001b[0;31m     print(\"In these\", numExperiment,  \"simulated experiments, there were\"\n\u001b[0m\u001b[1;32m     20\u001b[0m          \u001b[0;34m,\u001b[0m \u001b[0mabove\u001b[0m\u001b[0;34m\u001b[0m\u001b[0;34m\u001b[0m\u001b[0m\n\u001b[1;32m     21\u001b[0m          \u001b[0;34m,\u001b[0m \u001b[0;34m\"results >=\"\u001b[0m\u001b[0;34m,\u001b[0m \u001b[0mthreshold\u001b[0m\u001b[0;34m,\u001b[0m \u001b[0;34m\".\"\u001b[0m\u001b[0;34m\u001b[0m\u001b[0;34m\u001b[0m\u001b[0m\n",
      "\u001b[0;31mNameError\u001b[0m: name 'numExperiment' is not defined"
     ]
    }
   ],
   "source": [
    "MakeAndPlotBinomi(6, 1/6, 1000, threshold=5)"
   ]
  },
  {
   "cell_type": "code",
   "execution_count": null,
   "metadata": {},
   "outputs": [],
   "source": [
    "def MakeAndPlotPoisson(mean, numExperiments, threshold):\n",
    "    PoissonArray = Poisson (mean, numExperiments)\n",
    "    sigma=sqrt(mean)\n",
    "    \n",
    "    r=(mean - 4*sigma, mean + 4*sigma)\n",
    "    nbins = int(r[1]-r[0])//10+1\n",
    "    if mean < 50:\n",
    "        nbins = int(mean + 4*sigma)+1\n",
    "        r=(0, nbins)\n",
    "\n",
    "    hp=plt.hist(PoissonArray, nbins, range=r, linewidth=2, histtype='step', color='b')\n",
    "    plt.plot((threshold, threshold), (0, hp[0].max()*1.02), linewidth=2, color='orange')\n",
    "    plt.show()\n",
    "\n",
    "    print(numExperiments, \"random numbers according to Poisson (blue)\",\n",
    "          \"\\nfor lambda =\", mean)\n",
    "    \n",
    "    above = np.count_nonzero(PoissonArray >= threshold)\n",
    "    print(\"In these\", numExperiments,  \"simulated experiments, there were\"\n",
    "         , above\n",
    "         , \"results >=\", threshold, \".\"\n",
    "         , \"\\n This corresponds to a p-value of approximately <fill in the gap> \"\n",
    "         , \"\\n Note that this is subject to statistical fluctations -\"\n",
    "         , \"\\n run this code again and the number will change.\"\n",
    "         , \"\\n Run the code with a larger numExperiments to reduce the uncertainty on the p-value.\"\n",
    "         , \"\\n BTW: you can calculate that uncertainty - what is it?\")\n"
   ]
  },
  {
   "cell_type": "code",
   "execution_count": null,
   "metadata": {},
   "outputs": [],
   "source": [
    "MakeAndPlotPoisson(1, 1000, 2)"
   ]
  },
  {
   "cell_type": "code",
   "execution_count": null,
   "metadata": {},
   "outputs": [],
   "source": [
    "def MakeAndPlotGauss(mean, sigma, numExperiments, threshold):\n",
    "    GaussArray   = Gauss(mean, sigma, numExperiments)\n",
    "    \n",
    "    r=(mean - 4*sigma, mean + 4*sigma)\n",
    "    nbins = numExperiments//50\n",
    "    if nbins < 5: nbins=5\n",
    "    if nbins > 100: nbins=100\n",
    "\n",
    "    hg=plt.hist(GaussArray,   nbins, range=r, linewidth=2, histtype='step', color='g')\n",
    "    plt.plot((threshold, threshold), (0, hg[0].max()*1.02), linewidth=2, color='orange')\n",
    "    plt.show()\n",
    "    above = np.count_nonzero(GaussArray >= threshold)\n",
    "    print(\"In these\", numExperiments,  \"simulated experiments, there were\"\n",
    "         , above\n",
    "         , \"results >=\", threshold, \".\"\n",
    "         , \"\\n This corresponds to a p-value of approximately <fill in the gap> \"\n",
    "         , \"\\n Note that this is subject to statistical fluctations -\"\n",
    "         , \"\\n run this code again and the number will change.\"\n",
    "         , \"\\n Run the code with a larger numExperiments to reduce the uncertainty on the p-value.\"\n",
    "         , \"\\n BTW: you can calculate that uncertainty - what is it?\")\n",
    "    "
   ]
  },
  {
   "cell_type": "code",
   "execution_count": null,
   "metadata": {},
   "outputs": [],
   "source": [
    "MakeAndPlotGauss(1, 1, 10000, 2)"
   ]
  },
  {
   "cell_type": "markdown",
   "metadata": {},
   "source": [
    "# Use with caution!"
   ]
  },
  {
   "cell_type": "markdown",
   "metadata": {},
   "source": [
    "The code above is not suitable for calculating exact p-values, due to the statistical fluctuations inherent in this approach. However, if you generate LOADS of experiments, these fluctuations will become less and less relevant. This \"Monte-Carlo\" approach is frequently used for random variables for which we do not know the analytic expression but we know how to generate random events (this is often much easier, for example when you simulate the response of a complicated detector). You might find the code above useful for your own simulated datasets.\n",
    "For Gaussian, Poisson and binomial, you can calculate the p-values analytically. (But this simulation illustrates, hopefully, what they mean.)"
   ]
  },
  {
   "cell_type": "markdown",
   "metadata": {},
   "source": [
    "As you will have noticed, these examples are only for cases where we count the number of fluctuations above a certain threshold, you might also be interested in those below - why not add this feature to the programme."
   ]
  },
  {
   "cell_type": "code",
   "execution_count": null,
   "metadata": {},
   "outputs": [],
   "source": []
  }
 ],
 "metadata": {
  "kernelspec": {
   "display_name": "Python 3",
   "language": "python",
   "name": "python3"
  },
  "language_info": {
   "codemirror_mode": {
    "name": "ipython",
    "version": 3
   },
   "file_extension": ".py",
   "mimetype": "text/x-python",
   "name": "python",
   "nbconvert_exporter": "python",
   "pygments_lexer": "ipython3",
   "version": "3.8.3"
  }
 },
 "nbformat": 4,
 "nbformat_minor": 2
}
