{
 "cells": [
  {
   "cell_type": "markdown",
   "metadata": {},
   "source": [
    "# N vs N-1 variance and standard deviation"
   ]
  },
  {
   "cell_type": "markdown",
   "metadata": {},
   "source": [
    "This is a short worksheet to explore the difference between the N and N-1 definition of variance and the standard deviation. Look at the notes first. Note especially that to obtain the variance of a given sample, you always use the \"N\" version. The N-1 version is interesting if you want to estimate, from your finite sample, the variance of a theoretical \"parent distribution\". As estimator for the variance of the parent distribution, the N-1 version of the variance is claimed to be unbiased, while the N version is biased. I also mention (in the supplementary section), that, counter-intuitively, the biased version is on average closer to the truth. Let's investigate this, by generating some random distributions with known variances, and see how well averaging over repeated experiments will reproduce this true value."
   ]
  },
  {
   "cell_type": "markdown",
   "metadata": {},
   "source": [
    "## Generating Gaussian-distributed random numbers"
   ]
  },
  {
   "cell_type": "code",
   "execution_count": 1,
   "metadata": {
    "collapsed": true
   },
   "outputs": [],
   "source": [
    "from math import *\n",
    "import numpy as np\n",
    "import matplotlib.mlab as mlab\n",
    "import matplotlib.pyplot as plt"
   ]
  },
  {
   "cell_type": "markdown",
   "metadata": {},
   "source": [
    "After importing some useful headers for math and plotting, let's generate some random numbers and plot them"
   ]
  },
  {
   "cell_type": "code",
   "execution_count": 2,
   "metadata": {},
   "outputs": [
    {
     "data": {
      "image/png": "[encoded data removed]",
      "text/plain": [
       "<matplotlib.figure.Figure at 0x10e6e87f0>"
      ]
     },
     "metadata": {},
     "output_type": "display_data"
    }
   ],
   "source": [
    "numbers = np.random.randn(10000) #Return a sample of 10000 numbers from “standard normal” (mean 0, sigma 1) distribution.\n",
    "h=plt.hist(numbers, 20) # make histogram of this with 20 bins\n",
    "plt.show()"
   ]
  },
  {
   "cell_type": "markdown",
   "metadata": {},
   "source": [
    "## Calculating mean, variance, sigma"
   ]
  },
  {
   "cell_type": "markdown",
   "metadata": {},
   "source": [
    "Let's calcuate mean, variance and sigma for the above sample"
   ]
  },
  {
   "cell_type": "code",
   "execution_count": 3,
   "metadata": {},
   "outputs": [
    {
     "name": "stdout",
     "output_type": "stream",
     "text": [
      "mean =  0.00960262236417 , variance =  0.997269741739 , sigma =  0.998633937806362\n"
     ]
    }
   ],
   "source": [
    "sum=0\n",
    "sumsq=0\n",
    "for x in numbers:\n",
    "    sum+=x\n",
    "    sumsq+=x*x\n",
    "N=numbers.size\n",
    "mean=sum/N\n",
    "meansq=sumsq/N\n",
    "variance = meansq - mean*mean\n",
    "sigma = sqrt(variance)\n",
    "print(\"mean = \", mean, \", variance = \", variance, \", sigma = \", sigma)"
   ]
  },
  {
   "cell_type": "markdown",
   "metadata": {},
   "source": [
    "Let's compare variance and sigma with the N-1 versions thereof:"
   ]
  },
  {
   "cell_type": "code",
   "execution_count": 4,
   "metadata": {},
   "outputs": [
    {
     "name": "stdout",
     "output_type": "stream",
     "text": [
      "Vn= 0.997269741739  Vn-1= 0.997369478687 ; sigma= 0.998633937806362 sigma_n-1= 0.9986838732484418\n"
     ]
    }
   ],
   "source": [
    "V_nminus1 = variance * N/(N-1)\n",
    "sigma_nminus1 = sqrt(V_nminus1)\n",
    "print(\"Vn=\", variance, \" Vn-1=\", V_nminus1, \"; sigma=\", sigma, \"sigma_n-1=\", sigma_nminus1)"
   ]
  },
  {
   "cell_type": "markdown",
   "metadata": {},
   "source": [
    "As expected, the difference is hardly noticeable. We have a large sample, N/(N-1) is nearly 1."
   ]
  },
  {
   "cell_type": "markdown",
   "metadata": {},
   "source": [
    "## Cleaning up the code in preparation for the big bias study"
   ]
  },
  {
   "cell_type": "markdown",
   "metadata": {},
   "source": [
    "Now let's write a function that generates N events and calcualtes the n and n-1 versions of variance and sigma. We will also tidy the code up a bit and write a function that calculates variances and sigmas for any dataset"
   ]
  },
  {
   "cell_type": "code",
   "execution_count": 5,
   "metadata": {},
   "outputs": [],
   "source": [
    "def VandSigma_NandNminus1(dataset):\n",
    "    sum=0\n",
    "    sumsq=0\n",
    "    for x in dataset:\n",
    "        sum+=x\n",
    "        sumsq+=x*x\n",
    "    N=len(dataset)\n",
    "    mean=sum/N\n",
    "    meansq=sumsq/N\n",
    "    V = meansq - mean*mean\n",
    "    sigma = sqrt(V)\n",
    "    V_nm1 = V * N/(N-1)\n",
    "    sigma_nm1 = sqrt(V_nm1)\n",
    "    return (V, sigma, V_nm1, sigma_nm1)\n",
    "\n",
    "def generateGauss_calculate_variances_sigmas(NumberOfEvents, bins=-1):\n",
    "    numbers = np.random.randn(NumberOfEvents)\n",
    "    if bins > 0:\n",
    "        h=plt.hist(numbers, bins) # make histogram of this with 20 bins\n",
    "        plt.show()\n",
    "    return VandSigma_NandNminus1(numbers)"
   ]
  },
  {
   "cell_type": "markdown",
   "metadata": {},
   "source": [
    "Let's see what it does:"
   ]
  },
  {
   "cell_type": "code",
   "execution_count": 6,
   "metadata": {},
   "outputs": [
    {
     "data": {
      "image/png": "[encoded data removed]",
      "text/plain": [
       "<matplotlib.figure.Figure at 0x1183d8668>"
      ]
     },
     "metadata": {},
     "output_type": "display_data"
    },
    {
     "name": "stdout",
     "output_type": "stream",
     "text": [
      "V    \t= 0.992088279005 , sigma   \t=  0.9960362839802134 \n",
      "V(n-1)\t= 0.992187497755 , sigma(n-1) \t=  0.9960860895298597\n"
     ]
    }
   ],
   "source": [
    "(V, sigma, V_nm1, sigma_nm1) = generateGauss_calculate_variances_sigmas(10000, 20)\n",
    "print(\"V    \\t=\", V, \", sigma   \\t= \", sigma, \"\\nV(n-1)\\t=\", V_nm1, \", sigma(n-1) \\t= \", sigma_nm1)"
   ]
  },
  {
   "cell_type": "markdown",
   "metadata": {},
   "source": [
    "## The Big Bias Study"
   ]
  },
  {
   "cell_type": "markdown",
   "metadata": {},
   "source": [
    "Now let's generate only small number of events, say 10."
   ]
  },
  {
   "cell_type": "code",
   "execution_count": 7,
   "metadata": {},
   "outputs": [
    {
     "data": {
      "image/png": "[encoded data removed]",
      "text/plain": [
       "<matplotlib.figure.Figure at 0x1185db898>"
      ]
     },
     "metadata": {},
     "output_type": "display_data"
    },
    {
     "name": "stdout",
     "output_type": "stream",
     "text": [
      "V    \t= 1.1432433448 , sigma   \t=  1.0692255818106964 \n",
      "V(n-1)\t= 1.27027038311 , sigma(n-1) \t=  1.1270627236801678\n"
     ]
    }
   ],
   "source": [
    "N_evt=10 # number of events\n",
    "(V, sigma, V_nm1, sigma_nm1) = generateGauss_calculate_variances_sigmas(N_evt, 5)\n",
    "print(\"V    \\t=\", V, \", sigma   \\t= \", sigma, \"\\nV(n-1)\\t=\", V_nm1, \", sigma(n-1) \\t= \", sigma_nm1)"
   ]
  },
  {
   "cell_type": "markdown",
   "metadata": {},
   "source": [
    "Now the difference between the N and the N-1 versions matters at least a bit. Let's repeat this very often, and plot/print what comes out:"
   ]
  },
  {
   "cell_type": "code",
   "execution_count": 8,
   "metadata": {},
   "outputs": [
    {
     "name": "stdout",
     "output_type": "stream",
     "text": [
      "\n",
      "Variances\n"
     ]
    },
    {
     "data": {
      "image/png": "[encoded data removed]",
      "text/plain": [
       "<matplotlib.figure.Figure at 0x118626208>"
      ]
     },
     "metadata": {},
     "output_type": "display_data"
    },
    {
     "name": "stdout",
     "output_type": "stream",
     "text": [
      "0.899714905574 +- 0.00148860311734\n",
      "\n",
      "\n",
      "V(n-1) Variances\n"
     ]
    },
    {
     "data": {
      "image/png": "[encoded data removed]",
      "text/plain": [
       "<matplotlib.figure.Figure at 0x119b94da0>"
      ]
     },
     "metadata": {},
     "output_type": "display_data"
    },
    {
     "name": "stdout",
     "output_type": "stream",
     "text": [
      "0.999683228415 +- 0.00148860311734\n",
      "\n",
      "\n",
      "Sigma\n"
     ]
    },
    {
     "data": {
      "image/png": "[encoded data removed]",
      "text/plain": [
       "<matplotlib.figure.Figure at 0x119d1f588>"
      ]
     },
     "metadata": {},
     "output_type": "display_data"
    },
    {
     "name": "stdout",
     "output_type": "stream",
     "text": [
      "0.922576645968 +- 0.00148860311734\n",
      "\n",
      "\n",
      "N-1 Sigma\n"
     ]
    },
    {
     "data": {
      "image/png": "[encoded data removed]",
      "text/plain": [
       "<matplotlib.figure.Figure at 0x119e859e8>"
      ]
     },
     "metadata": {},
     "output_type": "display_data"
    },
    {
     "name": "stdout",
     "output_type": "stream",
     "text": [
      "0.972481172446 +- 0.00148860311734\n"
     ]
    }
   ],
   "source": [
    "def BiasStudy(Num_Experiments, NumEventsPerExperiment, generator):\n",
    "    (VList, SList, Vmn1List, Smn1List)=([],[],[],[]) # a tuple of 4 lists with results\n",
    "    for counter in range(Num_Experiments):\n",
    "        (V, S, Vmn1, Smn1) = generator(10) #generateGauss_calculate_variances_sigmas(10)\n",
    "        VList.append(V)\n",
    "        SList.append(S)\n",
    "        Vmn1List.append(Vmn1)\n",
    "        Smn1List.append(Smn1)\n",
    "        \n",
    "    return (VList, SList, Vmn1List, Smn1List)\n",
    "\n",
    "def printStats(dataset):\n",
    "    h1=plt.hist(dataset, 20)\n",
    "    plt.show()\n",
    "    print(np.mean(dataset), \"+-\", np.std(Vmn1List)/sqrt( len(dataset) ))\n",
    "\n",
    "N_exp=100000 # number of experiments - I'll re-use this below for other random distributions\n",
    "\n",
    "VList, SList, Vmn1List, Smn1List = BiasStudy(N_exp, N_evt, generateGauss_calculate_variances_sigmas)\n",
    "\n",
    "print(\"\\nVariances\")\n",
    "printStats(VList)\n",
    "print(\"\\n\\nV(n-1) Variances\")\n",
    "printStats(Vmn1List)\n",
    "\n",
    "print(\"\\n\\nSigma\")\n",
    "printStats(SList)\n",
    "print(\"\\n\\nN-1 Sigma\")\n",
    "printStats(Smn1List)"
   ]
  },
  {
   "cell_type": "markdown",
   "metadata": {},
   "source": [
    "The study above shows that the N-variance is indeed biased, while the N-1 variance does not seem to be biased. Interestingly, both the sigma and the n-1 sigma are biased, but the latter less so.\n",
    "\n",
    "Now what about my claim that although the V_n is biased, it would on average be closer to the true value? Let's check. For this we calculate the average distance squared from the \"true\" value (which is 1)"
   ]
  },
  {
   "cell_type": "code",
   "execution_count": 9,
   "metadata": {},
   "outputs": [
    {
     "data": {
      "image/png": "[encoded data removed]",
      "text/plain": [
       "<matplotlib.figure.Figure at 0x119e71a20>"
      ]
     },
     "metadata": {},
     "output_type": "display_data"
    },
    {
     "name": "stdout",
     "output_type": "stream",
     "text": [
      "0.189548178682 +- 0.00148860311734\n"
     ]
    },
    {
     "data": {
      "image/png": "[encoded data removed]",
      "text/plain": [
       "<matplotlib.figure.Figure at 0x119e66b38>"
      ]
     },
     "metadata": {},
     "output_type": "display_data"
    },
    {
     "name": "stdout",
     "output_type": "stream",
     "text": [
      "0.22159402444 +- 0.00148860311734\n"
     ]
    }
   ],
   "source": [
    "difflist_V = [ (x - 1)**2 for x in VList]\n",
    "difflist_Vmn1 = [ (x - 1)**2 for x in Vmn1List]\n",
    "printStats(difflist_V)\n",
    "printStats(difflist_Vmn1)"
   ]
  },
  {
   "cell_type": "markdown",
   "metadata": {},
   "source": [
    "So indeed, while the usual V is biased, on average it is closer to the true value than the N-1 version."
   ]
  },
  {
   "cell_type": "markdown",
   "metadata": {},
   "source": [
    "# Other random distributions"
   ]
  },
  {
   "cell_type": "markdown",
   "metadata": {},
   "source": [
    "What if the distribution is not Gaussian? The picture remains pretty consistent. See below we try an exponential with a true V=1, sigam=1, and a flat distribution with a true V = 1/12 and sigma = 1/sqrt(12)"
   ]
  },
  {
   "cell_type": "code",
   "execution_count": 10,
   "metadata": {},
   "outputs": [
    {
     "data": {
      "image/png": "[encoded data removed]",
      "text/plain": [
       "<matplotlib.figure.Figure at 0x119ad5f60>"
      ]
     },
     "metadata": {},
     "output_type": "display_data"
    },
    {
     "name": "stdout",
     "output_type": "stream",
     "text": [
      "V    \t= 0.945933877281 , sigma   \t=  0.9725913207927077 \n",
      "V(n-1)\t= 0.946028480129 , sigma(n-1) \t=  0.9726399540062688\n"
     ]
    }
   ],
   "source": [
    "def generateExp_calculate_variances_sigmas(NumberOfEvents, bins=-1):\n",
    "    numbers = np.random.exponential(1,NumberOfEvents)\n",
    "    if bins > 0:\n",
    "        h=plt.hist(numbers, bins) # make histogram of this with 20 bins\n",
    "        plt.show()\n",
    "    return VandSigma_NandNminus1(numbers)\n",
    "\n",
    "(V, sigma, V_nm1, sigma_nm1) = generateExp_calculate_variances_sigmas(10000, 20)\n",
    "print(\"V    \\t=\", V, \", sigma   \\t= \", sigma, \"\\nV(n-1)\\t=\", V_nm1, \", sigma(n-1) \\t= \", sigma_nm1)"
   ]
  },
  {
   "cell_type": "code",
   "execution_count": 11,
   "metadata": {},
   "outputs": [
    {
     "name": "stdout",
     "output_type": "stream",
     "text": [
      "\n",
      "Variances\n"
     ]
    },
    {
     "data": {
      "image/png": "[encoded data removed]",
      "text/plain": [
       "<matplotlib.figure.Figure at 0x114f5f208>"
      ]
     },
     "metadata": {},
     "output_type": "display_data"
    },
    {
     "name": "stdout",
     "output_type": "stream",
     "text": [
      "0.89806186863 +- 0.00283953513006\n",
      "\n",
      "\n",
      "V(n-1) Variances\n"
     ]
    },
    {
     "data": {
      "image/png": "[encoded data removed]",
      "text/plain": [
       "<matplotlib.figure.Figure at 0x119cd7908>"
      ]
     },
     "metadata": {},
     "output_type": "display_data"
    },
    {
     "name": "stdout",
     "output_type": "stream",
     "text": [
      "0.9978465207 +- 0.00283953513006\n",
      "\n",
      "\n",
      "Sigma\n"
     ]
    },
    {
     "data": {
      "image/png": "[encoded data removed]",
      "text/plain": [
       "<matplotlib.figure.Figure at 0x118a89a90>"
      ]
     },
     "metadata": {},
     "output_type": "display_data"
    },
    {
     "name": "stdout",
     "output_type": "stream",
     "text": [
      "0.876036447206 +- 0.00283953513006\n",
      "\n",
      "\n",
      "N-1 Sigma\n"
     ]
    },
    {
     "data": {
      "image/png": "[encoded data removed]",
      "text/plain": [
       "<matplotlib.figure.Figure at 0x119329518>"
      ]
     },
     "metadata": {},
     "output_type": "display_data"
    },
    {
     "name": "stdout",
     "output_type": "stream",
     "text": [
      "0.923423495498 +- 0.00283953513006\n"
     ]
    }
   ],
   "source": [
    "VList, SList, Vmn1List, Smn1List = BiasStudy(N_exp, N_evt, generateExp_calculate_variances_sigmas)\n",
    "\n",
    "print(\"\\nVariances\")\n",
    "printStats(VList)\n",
    "print(\"\\n\\nV(n-1) Variances\")\n",
    "printStats(Vmn1List)\n",
    "\n",
    "print(\"\\n\\nSigma\")\n",
    "printStats(SList)\n",
    "print(\"\\n\\nN-1 Sigma\")\n",
    "printStats(Smn1List)"
   ]
  },
  {
   "cell_type": "markdown",
   "metadata": {},
   "source": [
    "Flat with variance = 1/12"
   ]
  },
  {
   "cell_type": "code",
   "execution_count": 12,
   "metadata": {},
   "outputs": [
    {
     "data": {
      "image/png": "[encoded data removed]",
      "text/plain": [
       "<matplotlib.figure.Figure at 0x11a282128>"
      ]
     },
     "metadata": {},
     "output_type": "display_data"
    },
    {
     "name": "stdout",
     "output_type": "stream",
     "text": [
      "V    \t= 0.0842697185778 , sigma   \t=  0.290292470756278 \n",
      "V(n-1)\t= 0.0842781463924 , sigma(n-1) \t=  0.2903069864685033\n",
      "'true' V =  0.08333333333333333 , sigma =  0.28867513459481287\n"
     ]
    }
   ],
   "source": [
    "def generateFlat_calculate_variances_sigmas(NumberOfEvents, bins=-1):\n",
    "    numbers = np.random.random(NumberOfEvents)\n",
    "    if bins > 0:\n",
    "        h=plt.hist(numbers, bins) # make histogram of this with 20 bins\n",
    "        plt.show()\n",
    "    return VandSigma_NandNminus1(numbers)\n",
    "\n",
    "(V, sigma, V_nm1, sigma_nm1) = generateFlat_calculate_variances_sigmas(10000, 20)\n",
    "print(\"V    \\t=\", V, \", sigma   \\t= \", sigma, \"\\nV(n-1)\\t=\", V_nm1, \", sigma(n-1) \\t= \", sigma_nm1)\n",
    "print(\"'true' V = \", 1/12, \", sigma = \", sqrt(1/12))\n"
   ]
  },
  {
   "cell_type": "code",
   "execution_count": 13,
   "metadata": {},
   "outputs": [
    {
     "name": "stdout",
     "output_type": "stream",
     "text": [
      "\n",
      "Variances\n"
     ]
    },
    {
     "data": {
      "image/png": "[encoded data removed]",
      "text/plain": [
       "<matplotlib.figure.Figure at 0x118a04748>"
      ]
     },
     "metadata": {},
     "output_type": "display_data"
    },
    {
     "name": "stdout",
     "output_type": "stream",
     "text": [
      "0.0750320219376 +- 8.44290824245e-05\n",
      "('true' V =  0.08333333333333333 )\n",
      "\n",
      "\n",
      "V(n-1) Variances\n"
     ]
    },
    {
     "data": {
      "image/png": "[encoded data removed]",
      "text/plain": [
       "<matplotlib.figure.Figure at 0x11a42ecf8>"
      ]
     },
     "metadata": {},
     "output_type": "display_data"
    },
    {
     "name": "stdout",
     "output_type": "stream",
     "text": [
      "0.083368913264 +- 8.44290824245e-05\n",
      "('true' V =  0.08333333333333333 )\n",
      "\n",
      "\n",
      "Sigma\n"
     ]
    },
    {
     "data": {
      "image/png": "[encoded data removed]",
      "text/plain": [
       "<matplotlib.figure.Figure at 0x11a534940>"
      ]
     },
     "metadata": {},
     "output_type": "display_data"
    },
    {
     "name": "stdout",
     "output_type": "stream",
     "text": [
      "0.270178299908 +- 8.44290824245e-05\n",
      "('true' sigma =  0.2886751345948129 )\n",
      "\n",
      "\n",
      "N-1 Sigma\n"
     ]
    },
    {
     "data": {
      "image/png": "[encoded data removed]",
      "text/plain": [
       "<matplotlib.figure.Figure at 0x11a3c1128>"
      ]
     },
     "metadata": {},
     "output_type": "display_data"
    },
    {
     "name": "stdout",
     "output_type": "stream",
     "text": [
      "0.284792934021 +- 8.44290824245e-05\n",
      "('true' sigma =  0.2886751345948129 )\n"
     ]
    }
   ],
   "source": [
    "VList, SList, Vmn1List, Smn1List = BiasStudy(N_exp, N_evt, generateFlat_calculate_variances_sigmas)\n",
    "\n",
    "print(\"\\nVariances\")\n",
    "printStats(VList)\n",
    "print(\"('true' V = \", 1/12,\")\")\n",
    "\n",
    "print(\"\\n\\nV(n-1) Variances\")\n",
    "printStats(Vmn1List)\n",
    "print(\"('true' V = \", 1/12,\")\")\n",
    "\n",
    "print(\"\\n\\nSigma\")\n",
    "printStats(SList)\n",
    "print(\"('true' sigma = \", 1/sqrt(12),\")\")\n",
    "\n",
    "print(\"\\n\\nN-1 Sigma\")\n",
    "printStats(Smn1List)\n",
    "print(\"('true' sigma = \", 1/sqrt(12),\")\")\n"
   ]
  },
  {
   "cell_type": "markdown",
   "metadata": {},
   "source": [
    "In summary, for the distributions we tried out here, the N variance is biased and our results are consistent with an unbiased N-1 variance. The sigmas are both biased, but again, the N-1 sigma less so. But, counter-intuitively, on average, the (biased) N variance is closer to the truth than the (unbiased) N-1. It's a trade off."
   ]
  }
 ],
 "metadata": {
  "kernelspec": {
   "display_name": "Python 3",
   "language": "python",
   "name": "python3"
  },
  "language_info": {
   "codemirror_mode": {
    "name": "ipython",
    "version": 3
   },
   "file_extension": ".py",
   "mimetype": "text/x-python",
   "name": "python",
   "nbconvert_exporter": "python",
   "pygments_lexer": "ipython3",
   "version": "3.6.1"
  }
 },
 "nbformat": 4,
 "nbformat_minor": 2
}
