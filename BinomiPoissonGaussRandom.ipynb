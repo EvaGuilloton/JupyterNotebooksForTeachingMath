{
 "cells": [
  {
   "cell_type": "markdown",
   "metadata": {
    "collapsed": true
   },
   "source": [
    "# Binomi, Poisson, Gauss random numbers"
   ]
  },
  {
   "cell_type": "markdown",
   "metadata": {},
   "source": [
    "Generating and plotting random numbers drawn from the binomial, Poisson and Gaussian distribution.\n",
    "\n",
    "You can either run this in binder\n",
    "https://mybinder.org/v2/gh/JonasRademacker/JupyterNotebooksForTeachingMath/master?filepath=BinomiPoissonGauss.ipynb , \n",
    "\n",
    "or - much, much better, although a bit hasslesome the first time you set it up - you can run it on your own computer. To do that:\n",
    "\n",
    "1) Download and install anaconda (https://www.anaconda.com/). \n",
    "\n",
    "2) Download this file from github. Do so by clicking on \"Raw\", and then asking your browser to save the file (in Firefox: File -> Save Pages As...)\n",
    "\n",
    "Alternatively, you can download the entire github repository. Open a terminal window. Go to the directory where you want a copy of this github repository to live on your computer. Then execute the command:\n",
    "\n",
    "git clone https://github.com/JonasRademacker/JupyterNotebooksForTeachingMath.git\n",
    "\n",
    "(alternatively, go to https://github.com/JonasRademacker/JupyterNotebooksForTeachingMath and find the green \"Code\" button and take it from there)\n",
    "\n",
    "3) Open a terminal window, go to the directory where this file is, and type: jupyter notebook\n",
    "\n",
    "This file should now open in your browser (again), and you can edit it and execute and save the code.\n",
    "\n",
    "Remember, to excecute each field, do shift+return. Execute the fields in order. If things got messy, go to Kernel and select Restart and Clear all output - and start Shift+Return from the top."
   ]
  },
  {
   "cell_type": "markdown",
   "metadata": {},
   "source": [
    "First import some libraries"
   ]
  },
  {
   "cell_type": "code",
   "execution_count": 1,
   "metadata": {},
   "outputs": [],
   "source": [
    "from math import *\n",
    "import numpy as np\n",
    "import matplotlib.mlab as mlab\n",
    "import matplotlib.pyplot as plt"
   ]
  },
  {
   "cell_type": "markdown",
   "metadata": {},
   "source": [
    "Before we start, let's initialise the random number generator. Change the seed to get different outcomes for (peudo)random numbers used in this sheet."
   ]
  },
  {
   "cell_type": "code",
   "execution_count": 2,
   "metadata": {},
   "outputs": [],
   "source": [
    "np.random.seed(650)"
   ]
  },
  {
   "cell_type": "markdown",
   "metadata": {},
   "source": [
    "Let's generate random numbers according to each of these distributions. It's not really necessary to wrap these fully functional numpy functions into my own functions, but I'll do it anyway, in the hope it will add clarity"
   ]
  },
  {
   "cell_type": "code",
   "execution_count": 3,
   "metadata": {},
   "outputs": [
    {
     "name": "stdout",
     "output_type": "stream",
     "text": [
      "[7] [6] [4.06763569]\n"
     ]
    }
   ],
   "source": [
    "def binomial(NumTries, p_success, howoften=1):\n",
    "    return np.random.binomial(NumTries, p_success, howoften)\n",
    "\n",
    "def Poisson(mean, howoften=1):\n",
    "    return np.random.poisson(mean, howoften)\n",
    "\n",
    "def Gauss(mean, sigma, howoften=1):\n",
    "    return np.random.normal(mean, sigma, howoften)\n",
    "\n",
    "print(binomial(10, 0.5), Poisson(5), Gauss(5, sqrt(5)))"
   ]
  },
  {
   "cell_type": "markdown",
   "metadata": {},
   "source": [
    "Let's fill histograms with them:"
   ]
  },
  {
   "cell_type": "code",
   "execution_count": 4,
   "metadata": {},
   "outputs": [],
   "source": [
    "def MakeAndPlotBinomi(NumTries, p_success, sampleSize):\n",
    "    binomiArray  = binomial(NumTries, p_success, sampleSize)\n",
    "    mean = NumTries*p_success\n",
    "    sigma=sqrt(NumTries*p_success*(1.0-p_success))\n",
    "    \n",
    "    r=(mean - 4*sigma, mean + 4*sigma)\n",
    "    nbins = int(r[1]-r[0])//10+1\n",
    "    if NumTries < 1000:\n",
    "        nbins=NumTries + 1\n",
    "        r=(0, nbins)\n",
    "\n",
    "    hb=plt.hist(binomiArray,  nbins, range=r, linewidth=2, histtype='step', color='r')\n",
    "    plt.show()\n",
    "    print(sampleSize, \"random numbers according to Binomial\",\n",
    "          \"\\nfor N=\", NumTries, \"p=\", p_success)\n"
   ]
  },
  {
   "cell_type": "code",
   "execution_count": 5,
   "metadata": {},
   "outputs": [
    {
     "data": {
      "image/png": "[encoded data removed]",
      "text/plain": [
       "<Figure size 432x288 with 1 Axes>"
      ]
     },
     "metadata": {
      "needs_background": "light"
     },
     "output_type": "display_data"
    },
    {
     "name": "stdout",
     "output_type": "stream",
     "text": [
      "1000 random numbers according to Binomial \n",
      "for N= 6 p= 0.16666666666666666\n"
     ]
    }
   ],
   "source": [
    "MakeAndPlotBinomi(6, 1/6, 1000)"
   ]
  },
  {
   "cell_type": "code",
   "execution_count": 6,
   "metadata": {},
   "outputs": [],
   "source": [
    "def MakeAndPlotPoisson(mean, sampleSize):\n",
    "    PoissonArray = Poisson (mean, sampleSize)\n",
    "    sigma=sqrt(mean)\n",
    "    \n",
    "    r=(mean - 4*sigma, mean + 4*sigma)\n",
    "    nbins = int(r[1]-r[0])//10+1\n",
    "    if mean < 50:\n",
    "        nbins = int(mean + 4*sigma)+1\n",
    "        r=(0, nbins)\n",
    "\n",
    "    hp=plt.hist(PoissonArray, nbins, range=r, linewidth=2, histtype='step', color='b')\n",
    "    plt.show()\n",
    "    print(sampleSize, \"random numbers according to Poisson (blue)\",\n",
    "          \"\\nfor lambda =\", mean)\n"
   ]
  },
  {
   "cell_type": "code",
   "execution_count": 7,
   "metadata": {},
   "outputs": [
    {
     "data": {
      "image/png": "[encoded data removed]",
      "text/plain": [
       "<Figure size 432x288 with 1 Axes>"
      ]
     },
     "metadata": {
      "needs_background": "light"
     },
     "output_type": "display_data"
    },
    {
     "name": "stdout",
     "output_type": "stream",
     "text": [
      "1000 random numbers according to Poisson (blue) \n",
      "for lambda = 1\n"
     ]
    }
   ],
   "source": [
    "MakeAndPlotPoisson(1, 1000)"
   ]
  },
  {
   "cell_type": "code",
   "execution_count": 8,
   "metadata": {},
   "outputs": [],
   "source": [
    "def MakeAndPlotGauss(mean, sigma, sampleSize):\n",
    "    GaussArray   = Gauss(mean, sigma, sampleSize)\n",
    "    \n",
    "    r=(mean - 4*sigma, mean + 4*sigma)\n",
    "    nbins = sampleSize//50\n",
    "    if nbins < 5: nbins=5\n",
    "    if nbins > 100: nbins=100\n",
    "\n",
    "    hg=plt.hist(GaussArray,   nbins, range=r, linewidth=2, histtype='step', color='g')\n",
    "    plt.show()\n",
    "    print(sampleSize, \"random numbers according to Gaussian\",\n",
    "          \"\\nfor mu =\", mean, \",sigma=\", sigma)\n",
    "    "
   ]
  },
  {
   "cell_type": "code",
   "execution_count": 9,
   "metadata": {},
   "outputs": [
    {
     "data": {
      "image/png": "[encoded data removed]",
      "text/plain": [
       "<Figure size 432x288 with 1 Axes>"
      ]
     },
     "metadata": {
      "needs_background": "light"
     },
     "output_type": "display_data"
    },
    {
     "name": "stdout",
     "output_type": "stream",
     "text": [
      "10000 random numbers according to Gaussian \n",
      "for mu = 1 ,sigma= 1\n"
     ]
    }
   ],
   "source": [
    "MakeAndPlotGauss(1, 1, 10000)"
   ]
  },
  {
   "cell_type": "markdown",
   "metadata": {},
   "source": [
    "Now plot them all on top of each other."
   ]
  },
  {
   "cell_type": "code",
   "execution_count": 10,
   "metadata": {},
   "outputs": [],
   "source": [
    "def MakeAndPlotAll_GaussWithBinomialSigma(NumTries, p_success, sampleSize):\n",
    "    binomiArray  = binomial(NumTries, p_success, sampleSize)\n",
    "    mean = NumTries*p_success\n",
    "    PoissonArray = Poisson (mean, sampleSize)\n",
    "    sigma=sqrt(NumTries*p_success*(1.0-p_success))   # this is where I give the Gaussian the binomial sigma\n",
    "    GaussArray   = Gauss(mean, sigma, sampleSize)\n",
    "    \n",
    "    r=(mean - 4*sigma, mean + 4*sigma)\n",
    "    nbins = int(r[1]-r[0])//10+1\n",
    "    if NumTries < 1000:\n",
    "        nbins=NumTries + 1\n",
    "        r=(0, nbins)\n",
    "\n",
    "    hb=plt.hist(binomiArray,  nbins, range=r, linewidth=2, histtype='step', color='r')\n",
    "    hp=plt.hist(PoissonArray, nbins, range=r, linewidth=2, histtype='step', color='b')\n",
    "    hg=plt.hist(GaussArray,   nbins, range=r, linewidth=2, histtype='step', color='g')\n",
    "    plt.show()\n",
    "    print(sampleSize, \"random numbers according to Binomial (red), Poisson (blue) and Gaussian (green)\"\n",
    "          , \"\\nfor N=\", NumTries, \"p=\", p_success\n",
    "          , \",lambda=mu=N*p=\", NumTries*p_success\n",
    "          , \",sigma=sqrt(N*p*(1-p))=\", sigma)"
   ]
  },
  {
   "cell_type": "code",
   "execution_count": 11,
   "metadata": {},
   "outputs": [
    {
     "data": {
      "image/png": "[encoded data removed]",
      "text/plain": [
       "<Figure size 432x288 with 1 Axes>"
      ]
     },
     "metadata": {
      "needs_background": "light"
     },
     "output_type": "display_data"
    },
    {
     "name": "stdout",
     "output_type": "stream",
     "text": [
      "10000 random numbers according to Binomial (red), Poisson (blue) and Gaussian (green) \n",
      "for N= 10000 p= 0.5 ,lambda=mu=N*p= 5000.0 ,sigma=sqrt(N*p*(1-p))= 50.0\n"
     ]
    }
   ],
   "source": [
    "MakeAndPlotAll_GaussWithBinomialSigma(10000, 0.5, 10000)"
   ]
  },
  {
   "cell_type": "markdown",
   "metadata": {},
   "source": [
    "Try for which values of N and p the approximations are good or not so good. Note that, the code above, the width of the Gaussian is set to match that of the Binomial. If you want to know how well a Gaussian approximates a Poisson, you'll need to change this (or pick a value of p where it doesn't matter)."
   ]
  },
  {
   "cell_type": "code",
   "execution_count": 12,
   "metadata": {},
   "outputs": [],
   "source": [
    "def MakeAndPlotAll_GaussWithPoissonSigma(NumTries, p_success, sampleSize):\n",
    "    binomiArray  = binomial(NumTries, p_success, sampleSize)\n",
    "    mean = NumTries*p_success\n",
    "    PoissonArray = Poisson (mean, sampleSize)\n",
    "    sigma=sqrt(mean)                               # this is where I give the Gaussian the Poisson sigma\n",
    "    GaussArray   = Gauss(mean, sigma, sampleSize)\n",
    "    \n",
    "    r=(mean - 4*sigma, mean + 4*sigma)\n",
    "    nbins = int(r[1]-r[0])//10+1\n",
    "    if NumTries < 1000:\n",
    "        nbins=NumTries + 1\n",
    "        r=(0, nbins)\n",
    "\n",
    "    hb=plt.hist(binomiArray,  nbins, range=r, linewidth=2, histtype='step', color='r')\n",
    "    hp=plt.hist(PoissonArray, nbins, range=r, linewidth=2, histtype='step', color='b')\n",
    "    hg=plt.hist(GaussArray,   nbins, range=r, linewidth=2, histtype='step', color='g')\n",
    "    plt.show()\n",
    "    print(sampleSize, \"random numbers according to Binomial (red), Poisson (blue) and Gaussian (green)\",\n",
    "          \"\\nfor N=\", NumTries, \"p=\", p_success\n",
    "          , \",lambda=mu=N*p=\", NumTries*p_success\n",
    "          , \",sigma=sqrt(mean)\", sigma)"
   ]
  },
  {
   "cell_type": "code",
   "execution_count": 13,
   "metadata": {},
   "outputs": [
    {
     "data": {
      "image/png": "[encoded data removed]",
      "text/plain": [
       "<Figure size 432x288 with 1 Axes>"
      ]
     },
     "metadata": {
      "needs_background": "light"
     },
     "output_type": "display_data"
    },
    {
     "name": "stdout",
     "output_type": "stream",
     "text": [
      "10000 random numbers according to Binomial (red), Poisson (blue) and Gaussian (green) \n",
      "for N= 10000 p= 0.5 ,lambda=mu=N*p= 5000.0 ,sigma=sqrt(mean) 70.71067811865476\n"
     ]
    }
   ],
   "source": [
    "MakeAndPlotAll_GaussWithPoissonSigma(10000, 0.5, 10000)"
   ]
  },
  {
   "cell_type": "code",
   "execution_count": null,
   "metadata": {},
   "outputs": [],
   "source": []
  }
 ],
 "metadata": {
  "kernelspec": {
   "display_name": "Python 3",
   "language": "python",
   "name": "python3"
  },
  "language_info": {
   "codemirror_mode": {
    "name": "ipython",
    "version": 3
   },
   "file_extension": ".py",
   "mimetype": "text/x-python",
   "name": "python",
   "nbconvert_exporter": "python",
   "pygments_lexer": "ipython3",
   "version": "3.8.3"
  }
 },
 "nbformat": 4,
 "nbformat_minor": 2
}
