{
 "cells": [
  {
   "cell_type": "markdown",
   "metadata": {},
   "source": [
    "# Variable transformations in pdfs/random numbers"
   ]
  },
  {
   "cell_type": "markdown",
   "metadata": {},
   "source": [
    "## Start from flat"
   ]
  },
  {
   "cell_type": "markdown",
   "metadata": {},
   "source": [
    "Load the usual libraries:"
   ]
  },
  {
   "cell_type": "code",
   "execution_count": 1,
   "metadata": {
    "collapsed": true
   },
   "outputs": [],
   "source": [
    "from math import *\n",
    "import numpy as np\n",
    "import matplotlib.mlab as mlab\n",
    "import matplotlib.pyplot as plt"
   ]
  },
  {
   "cell_type": "markdown",
   "metadata": {},
   "source": [
    "Generate flatly distributed random numbers:"
   ]
  },
  {
   "cell_type": "code",
   "execution_count": 2,
   "metadata": {},
   "outputs": [
    {
     "data": {
      "image/png": "[encoded data removed]",
      "text/plain": [
       "<matplotlib.figure.Figure at 0x103c2c7b8>"
      ]
     },
     "metadata": {},
     "output_type": "display_data"
    }
   ],
   "source": [
    "flatRandom = np.random.random(100000) # generates a list of random numbers, flat in [0,1)\n",
    "h=plt.hist(flatRandom, 100, range=(-0.5, 1.5)) # make histogram with 100 bins from -0.5 to 1.5\n",
    "plt.show()"
   ]
  },
  {
   "cell_type": "markdown",
   "metadata": {},
   "source": [
    "## Transforming this to an exponential (as in problem sheet)"
   ]
  },
  {
   "cell_type": "markdown",
   "metadata": {},
   "source": [
    "Above we generated events distributed according to \n",
    "\n",
    "$\n",
    "p(x) = \\left\\{ \n",
    "  \\begin{array}{l l}\n",
    "    1 & \\quad \\text{between 0 and 1}\\\\\n",
    "\t\\\\\n",
    "    0 & \\quad \\text{otherwise}\\\\\n",
    "  \\end{array} \\right.\n",
    "$\n",
    "\n",
    "Now want $p(t) = \\frac{1}{\\tau} e^{-t/\\tau}$, but without generating new random numbers. Instead we will use a variable transformation $x \\to t(x)$, to change our flat distribution according to $p(t) = p(x) \\frac{dx}{dt}$ to an exponential distribution with decay constant $\\tau$. \n",
    "\n",
    "First we find $t(x)$.\n",
    "For the $x$ range were $p(x)$ is non-zero:\n",
    "\n",
    "$ \\frac{1}{\\tau} e^{-t/\\tau} = 1\\,\\frac{dx}{d t} $\n",
    "\n",
    "$ x(t)  = -e^{-t/\\tau} + C $\n",
    "\n",
    "$ C - x = e^{-t/\\tau} $\n",
    "\n",
    "$ \\log(C-x)  = -\\frac{t}{\\tau} $\n",
    "\n",
    "$     t(x)  = -\\tau\\log(C-x) $\n",
    "\n",
    "$C$ is an integration constant that we choose to get map the range of $x$ witn non-zero $p(x)$ to the correct range in $y$. Given that $x$ is non-zero\n",
    "    between $0$ and $1$, to get $p(t)$ non-zero in $t \\in [0,\\infty)$ we need $C-x \\in (0,1]$, which requires $C=1$.\n",
    "    So finally we get:\n",
    "\n",
    "$   t(x) = -\\tau \\log(1-x) $"
   ]
  },
  {
   "cell_type": "code",
   "execution_count": 3,
   "metadata": {},
   "outputs": [
    {
     "data": {
      "image/png": "[encoded data removed]",
      "text/plain": [
       "<matplotlib.figure.Figure at 0x103f2dc18>"
      ]
     },
     "metadata": {},
     "output_type": "display_data"
    }
   ],
   "source": [
    "tau=1.5  # about the lifetime of a B meson in ps. Why not? Feel free to try other values.\n",
    "expRandom = []                # create empty list\n",
    "for x in flatRandom:          # loop over all x in flatRandom list\n",
    "    t = - tau*log(1-x)        # calculate t from x\n",
    "    expRandom.append(t)       # add it to the expRandomList\n",
    "    \n",
    "# BTW, in python, there is a way of achieving the same\n",
    "# effect as the 4 lines above in one single line:\n",
    "# expRandom = [- tau*log(1-x) for x in flatRandom]\n",
    "\n",
    "h2=plt.hist(expRandom, 100, range=(-0.5, 8*tau)) # make histogram with 100 bins\n",
    "plt.show()"
   ]
  },
  {
   "cell_type": "markdown",
   "metadata": {},
   "source": [
    "## The $y = x^2$ transformation (as in lecture notes)"
   ]
  },
  {
   "cell_type": "markdown",
   "metadata": {},
   "source": [
    "In the lecture notes, we have shown that the transformation $y = x^2$ transforms the pdf\n",
    "\n",
    "$\n",
    "p(x) = \\left\\{ \n",
    "  \\begin{array}{l l}\n",
    "    \\dfrac{1}{10} & \\quad \\text{between 0 and 10}\\\\\n",
    "\t\\\\\n",
    "    0 & \\quad \\text{otherwise}\\\\\n",
    "  \\end{array} \\right.\n",
    "$\n",
    "\n",
    "to \n",
    "\n",
    "$\n",
    "p(y) = \\left\\{ \n",
    "\\begin{array}{l l}\n",
    "\t\\dfrac{1}{20\\sqrt{y}} & \\quad \\text{between 0 and 100}\\\\\n",
    "\t\\\\\n",
    "\t0 & \\quad \\text{otherwise}\\\\\n",
    "\\end{array} \\right.\\nonumber\n",
    "$\n",
    "\n",
    "Let's see!"
   ]
  },
  {
   "cell_type": "markdown",
   "metadata": {},
   "source": [
    "First generate some flatly distributed random numbers between 0 and 10"
   ]
  },
  {
   "cell_type": "code",
   "execution_count": 4,
   "metadata": {},
   "outputs": [
    {
     "data": {
      "image/png": "[encoded data removed]",
      "text/plain": [
       "<matplotlib.figure.Figure at 0x103f2dc88>"
      ]
     },
     "metadata": {},
     "output_type": "display_data"
    }
   ],
   "source": [
    "flatRandom_0to10 = np.random.random(100000)*10\n",
    "h4=plt.hist(flatRandom_0to10, 121, range=(-1, 11)) # make histogram with 100 bins\n",
    "plt.show()"
   ]
  },
  {
   "cell_type": "markdown",
   "metadata": {},
   "source": [
    "... and now do the transformation:"
   ]
  },
  {
   "cell_type": "code",
   "execution_count": 5,
   "metadata": {},
   "outputs": [
    {
     "data": {
      "image/png": "[encoded data removed]",
      "text/plain": [
       "<matplotlib.figure.Figure at 0x10e5e0160>"
      ]
     },
     "metadata": {},
     "output_type": "display_data"
    }
   ],
   "source": [
    "yRandom = [x**2 for x in flatRandom_0to10]\n",
    "h5=plt.hist(yRandom, 121, range = (-10, 110))\n",
    "plt.show()"
   ]
  },
  {
   "cell_type": "code",
   "execution_count": null,
   "metadata": {
    "collapsed": true
   },
   "outputs": [],
   "source": []
  }
 ],
 "metadata": {
  "kernelspec": {
   "display_name": "Python 3",
   "language": "python",
   "name": "python3"
  },
  "language_info": {
   "codemirror_mode": {
    "name": "ipython",
    "version": 3
   },
   "file_extension": ".py",
   "mimetype": "text/x-python",
   "name": "python",
   "nbconvert_exporter": "python",
   "pygments_lexer": "ipython3",
   "version": "3.6.1"
  }
 },
 "nbformat": 4,
 "nbformat_minor": 2
}
