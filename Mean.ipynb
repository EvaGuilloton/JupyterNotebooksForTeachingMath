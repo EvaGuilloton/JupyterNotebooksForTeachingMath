{
 "cells": [
  {
   "cell_type": "markdown",
   "metadata": {
    "collapsed": true
   },
   "source": [
    "# Mean"
   ]
  },
  {
   "cell_type": "markdown",
   "metadata": {},
   "source": [
    "We'll create a virtual die, and then you will calculate the mean. Even if you have never done python before, you will be able to do this - I'll help. \n",
    "\n",
    "First, you need to download and install anaconda (https://www.anaconda.com/). \n",
    "Then, download this file from github.\n",
    "Then, open a terminal window, go to the directory where this file is, and type:\n",
    "jupyter notebook\n",
    "\n",
    "Now this file should open in your browser (again), but now you can edit it and execute the code.\n",
    "\n",
    "Remember, to excecute each field, do shift+return. Execute the fields in order. If things got messy, go to Kernel and select Restart and Clear all output - and start Shift+Return from the top."
   ]
  },
  {
   "cell_type": "markdown",
   "metadata": {},
   "source": [
    "First import some libraries"
   ]
  },
  {
   "cell_type": "code",
   "execution_count": 2,
   "metadata": {},
   "outputs": [],
   "source": [
    "from math import *\n",
    "import numpy as np\n",
    "import matplotlib.mlab as mlab\n",
    "import matplotlib.pyplot as plt"
   ]
  },
  {
   "cell_type": "markdown",
   "metadata": {},
   "source": [
    "Now create a virtual die that we can throw N times. The return value is an array of N numbers from 1 to 6."
   ]
  },
  {
   "cell_type": "code",
   "execution_count": 3,
   "metadata": {},
   "outputs": [],
   "source": [
    "def throwOneDie(Ntimes):\n",
    "    flatRandom = np.random.random(Ntimes)  # random numbers from 0 to 1\n",
    "    return [int(x*6)+1 for x in flatRandom]  # ... translated to integers from 1 to 6, and returned"
   ]
  },
  {
   "cell_type": "markdown",
   "metadata": {},
   "source": [
    "Now we have the die, we throw it, say, 200 times, put the result into an array"
   ]
  },
  {
   "cell_type": "code",
   "execution_count": 4,
   "metadata": {},
   "outputs": [],
   "source": [
    "HowOften=200\n",
    "dieArray = throwOneDie(HowOften)"
   ]
  },
  {
   "cell_type": "markdown",
   "metadata": {},
   "source": [
    "... and put the result into a histogram"
   ]
  },
  {
   "cell_type": "code",
   "execution_count": 5,
   "metadata": {},
   "outputs": [
    {
     "data": {
      "image/png": "[encoded data removed]",
      "text/plain": [
       "<Figure size 432x288 with 1 Axes>"
      ]
     },
     "metadata": {
      "needs_background": "light"
     },
     "output_type": "display_data"
    }
   ],
   "source": [
    "h=plt.hist(dieArray, 6, range=(0.5, 6.5)) # make histogram\n",
    "plt.show()     # and plot it"
   ]
  },
  {
   "cell_type": "markdown",
   "metadata": {},
   "source": [
    "Calulate arithmetic mean. This is where you need to edit the code to make it work. The mean is the sum of all values (which is in the variable sum below) devided by the number of data points (N)."
   ]
  },
  {
   "cell_type": "code",
   "execution_count": 5,
   "metadata": {},
   "outputs": [
    {
     "name": "stdout",
     "output_type": "stream",
     "text": [
      "The mean is  3.54\n"
     ]
    }
   ],
   "source": [
    "def ArithmeticMean(arrayOfNumbers):\n",
    "    sum=0\n",
    "    for x in arrayOfNumbers:\n",
    "        sum += x\n",
    "    N=len(dieArray) # N = the number of data points in the array \"numbers\"\n",
    "    result =        # to make this work, put sum/N to the right hand side of the equal sign (but before the #)\n",
    "    return result\n",
    "    \n",
    "mean = ArithmeticMean(dieArray)\n",
    "print(\"The mean is \", mean)"
   ]
  },
  {
   "cell_type": "markdown",
   "metadata": {},
   "source": [
    "This should close to 3.5; the more throws of the die you average, the closer you should, typically, get. In what way this is far away from the expected value of exactly zero is something we will discuss also in this course, when we estimate the uncertainty on the mean. But for now, we are happy to have successfully calculated the mean of a dataset."
   ]
  }
 ],
 "metadata": {
  "kernelspec": {
   "display_name": "Python 3",
   "language": "python",
   "name": "python3"
  },
  "language_info": {
   "codemirror_mode": {
    "name": "ipython",
    "version": 3
   },
   "file_extension": ".py",
   "mimetype": "text/x-python",
   "name": "python",
   "nbconvert_exporter": "python",
   "pygments_lexer": "ipython3",
   "version": "3.8.3"
  }
 },
 "nbformat": 4,
 "nbformat_minor": 2
}
