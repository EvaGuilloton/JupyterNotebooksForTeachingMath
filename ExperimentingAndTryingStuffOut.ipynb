{
 "cells": [
  {
   "cell_type": "markdown",
   "metadata": {},
   "source": [
    "Alle meine Entchen\n",
    "Schwimmen auf dem See\n",
    "Schwimmen auf dem See\n",
    "Köpfchen unters Wasser\n",
    "Schwänzchen in die Höh."
   ]
  },
  {
   "cell_type": "code",
   "execution_count": 1,
   "metadata": {},
   "outputs": [],
   "source": [
    "import math"
   ]
  },
  {
   "cell_type": "code",
   "execution_count": 2,
   "metadata": {},
   "outputs": [
    {
     "name": "stdout",
     "output_type": "stream",
     "text": [
      "3.141592653589793\n"
     ]
    }
   ],
   "source": [
    "a = math.pi/2\n",
    "print(2*a)"
   ]
  },
  {
   "cell_type": "markdown",
   "metadata": {},
   "source": [
    "print(a*4)"
   ]
  },
  {
   "cell_type": "code",
   "execution_count": 3,
   "metadata": {},
   "outputs": [
    {
     "name": "stdout",
     "output_type": "stream",
     "text": [
      "2.4674011002723395\n"
     ]
    }
   ],
   "source": [
    "print(a**2)"
   ]
  },
  {
   "cell_type": "code",
   "execution_count": 4,
   "metadata": {},
   "outputs": [
    {
     "data": {
      "image/png": "[encoded data removed]",
      "text/plain": [
       "<matplotlib.figure.Figure at 0x10a5d2f98>"
      ]
     },
     "metadata": {},
     "output_type": "display_data"
    }
   ],
   "source": [
    "import numpy as np\n",
    "import matplotlib.mlab as mlab\n",
    "import matplotlib.pyplot as plt\n",
    "\n",
    "N=90\n",
    "xlist = np.random.rand(10000)\n",
    "for i in range(N-1):\n",
    "    xlist += np.random.rand(10000)\n",
    "h=plt.hist(xlist, 20)\n",
    "plt.show()"
   ]
  },
  {
   "cell_type": "markdown",
   "metadata": {
    "collapsed": true
   },
   "source": [
    "Remember, to install iminuit, do: conda install -c astropy iminuit"
   ]
  },
  {
   "cell_type": "code",
   "execution_count": 5,
   "metadata": {},
   "outputs": [],
   "source": [
    "class fcnClass:\n",
    "    def gauss(self, x):\n",
    "        delta = x - self.mean\n",
    "        return 1/(math.sqrt(2*math.pi)*math.fabs(self.sigma)) * math.exp(-delta**2/(2*self.sigma**2))\n",
    "    \n",
    "    def xArray(self, oversample=1):\n",
    "        xA=[]\n",
    "        for bin_low, bin_up in zip(self.h[1], self.h[1][1:]):\n",
    "            dx = (bin_up - bin_low)/oversample\n",
    "            xA.extend(np.arange(bin_low + dx/2, bin_up, dx))\n",
    "        return xA\n",
    "    def dx(self, oversample):\n",
    "        dxA=[]\n",
    "        for bin_low, bin_up in zip(self.h[1], self.h[1][1:]):\n",
    "            dxbig = (bin_up - bin_low)\n",
    "            dxA.extend( [dxbig] * oversample)\n",
    "#            dx = dxbig/oversample\n",
    "#            for x in np.arange(bin_low + dx/2, bin_up, dx):\n",
    "#                dxA.append(dxbig)\n",
    "        return dxA\n",
    "\n",
    "    def gaussArray(self, oversample=1):\n",
    "        N=math.fsum(h[0])\n",
    "        vals=[]\n",
    "        for x, dx in zip(self.xArray(oversample), self.dx(oversample)):\n",
    "            vals.append(N*self.gauss(x)*dx)\n",
    "        return vals\n",
    "\n",
    "    def gaussChi2(self):\n",
    "        chi2=0\n",
    "        N=math.fsum(h[0])\n",
    "        for y_meas, y_theor in zip(h[0], self.gaussArray()):\n",
    "            diff = y_theor - y_meas\n",
    "            sig2 = math.fabs(y_theor)\n",
    "            chi2 += diff**2/sig2\n",
    "        return chi2\n",
    "    def __call__(self, mean, sigma):\n",
    "        self.mean=mean\n",
    "        self.sigma=sigma\n",
    "        return self.gaussChi2()\n",
    "    def __init__(self, h):\n",
    "        self.h=h\n",
    "        self.mean=1.0\n",
    "        self.sigma=1.0"
   ]
  },
  {
   "cell_type": "code",
   "execution_count": 7,
   "metadata": {},
   "outputs": [
    {
     "name": "stdout",
     "output_type": "stream",
     "text": [
      "[8.3490818069530941e-244, 2.8432289957114971e-260, 2.8445479599618498e-277, 8.3607065298190419e-295, 7.2193982856080275e-313, 0.0, 0.0, 0.0, 0.0, 0.0, 0.0, 0.0, 0.0, 0.0, 0.0, 0.0, 0.0, 0.0, 0.0, 0.0]\n"
     ]
    }
   ],
   "source": [
    "s=10\n",
    "m=45\n",
    "fcn = fcnClass(h)\n",
    "print(fcn.gaussArray())"
   ]
  },
  {
   "cell_type": "code",
   "execution_count": 8,
   "metadata": {},
   "outputs": [
    {
     "name": "stdout",
     "output_type": "stream",
     "text": [
      "['mean', 'sigma']\n"
     ]
    },
    {
     "data": {
      "text/html": [
       "<hr>"
      ]
     },
     "metadata": {},
     "output_type": "display_data"
    },
    {
     "data": {
      "text/html": [
       "\n",
       "        <table>\n",
       "            <tr>\n",
       "                <td title=\"Minimum value of function\">FCN = 18.090370395936272</td>\n",
       "                <td title=\"Total number of call to FCN so far\">TOTAL NCALL = 60</td>\n",
       "                <td title=\"Number of call in last migrad\">NCALLS = 60</td>\n",
       "            </tr>\n",
       "            <tr>\n",
       "                <td title=\"Estimated distance to minimum\">EDM = 0.0001721318290722907</td>\n",
       "                <td title=\"Maximum EDM definition of convergence\">GOAL EDM = 1e-05</td>\n",
       "                <td title=\"Error def. Amount of increase in FCN to be defined as 1 standard deviation\">\n",
       "                UP = 1.0</td>\n",
       "            </tr>\n",
       "        </table>\n",
       "        \n",
       "        <table>\n",
       "            <tr>\n",
       "                <td align=\"center\" title=\"Validity of the migrad call\">Valid</td>\n",
       "                <td align=\"center\" title=\"Validity of parameters\">Valid Param</td>\n",
       "                <td align=\"center\" title=\"Is Covariance matrix accurate?\">Accurate Covar</td>\n",
       "                <td align=\"center\" title=\"Positive definiteness of covariance matrix\">PosDef</td>\n",
       "                <td align=\"center\" title=\"Was covariance matrix made posdef by adding diagonal element\">Made PosDef</td>\n",
       "            </tr>\n",
       "            <tr>\n",
       "                <td align=\"center\" style=\"background-color:#92CCA6\">True</td>\n",
       "                <td align=\"center\" style=\"background-color:#92CCA6\">True</td>\n",
       "                <td align=\"center\" style=\"background-color:#92CCA6\">True</td>\n",
       "                <td align=\"center\" style=\"background-color:#92CCA6\">True</td>\n",
       "                <td align=\"center\" style=\"background-color:#92CCA6\">False</td>\n",
       "            </tr>\n",
       "            <tr>\n",
       "                <td align=\"center\" title=\"Was last hesse call fail?\">Hesse Fail</td>\n",
       "                <td align=\"center\" title=\"Validity of covariance\">HasCov</td>\n",
       "                <td align=\"center\" title=\"Is EDM above goal EDM?\">Above EDM</td>\n",
       "                <td align=\"center\"></td>\n",
       "                <td align=\"center\" title=\"Did last migrad call reach max call limit?\">Reach calllim</td>\n",
       "            </tr>\n",
       "            <tr>\n",
       "                <td align=\"center\" style=\"background-color:#92CCA6\">False</td>\n",
       "                <td align=\"center\" style=\"background-color:#92CCA6\">True</td>\n",
       "                <td align=\"center\" style=\"background-color:#92CCA6\">False</td>\n",
       "                <td align=\"center\"></td>\n",
       "                <td align=\"center\" style=\"background-color:#92CCA6\">False</td>\n",
       "            </tr>\n",
       "        </table>\n",
       "        "
      ]
     },
     "metadata": {},
     "output_type": "display_data"
    },
    {
     "data": {
      "text/html": [
       "\n",
       "        <table>\n",
       "            <tr>\n",
       "                <td><a href=\"#\" onclick=\"$('#yvfFwrzJDy').toggle()\">+</a></td>\n",
       "                <td title=\"Variable name\">Name</td>\n",
       "                <td title=\"Value of parameter\">Value</td>\n",
       "                <td title=\"Parabolic error\">Parab Error</td>\n",
       "                <td title=\"Minos lower error\">Minos Error-</td>\n",
       "                <td title=\"Minos upper error\">Minos Error+</td>\n",
       "                <td title=\"Lower limit of the parameter\">Limit-</td>\n",
       "                <td title=\"Upper limit of the parameter\">Limit+</td>\n",
       "                <td title=\"Is the parameter fixed in the fit\">FIXED</td>\n",
       "            </tr>\n",
       "        \n",
       "            <tr>\n",
       "                <td>1</td>\n",
       "                <td>mean</td>\n",
       "                <td>44.9969</td>\n",
       "                <td>0.0277658</td>\n",
       "                <td>0</td>\n",
       "                <td>0</td>\n",
       "                <td>0.0</td>\n",
       "                <td>200.0</td>\n",
       "                <td></td>\n",
       "            </tr>\n",
       "            \n",
       "            <tr>\n",
       "                <td>2</td>\n",
       "                <td>sigma</td>\n",
       "                <td>2.77725</td>\n",
       "                <td>0.0197927</td>\n",
       "                <td>0</td>\n",
       "                <td>0</td>\n",
       "                <td>1.0</td>\n",
       "                <td>10.0</td>\n",
       "                <td></td>\n",
       "            </tr>\n",
       "            \n",
       "            </table>\n",
       "        \n",
       "            <pre id=\"yvfFwrzJDy\" style=\"display:none;\">\n",
       "            <textarea rows=\"10\" cols=\"50\" onclick=\"this.select()\" readonly>\\begin{tabular}{|c|r|r|r|r|r|r|r|c|}\n",
       "\\hline\n",
       " & Name & Value & Para Error & Error+ & Error- & Limit+ & Limit- & FIXED\\\\\n",
       "\\hline\n",
       "1 & mean & 4.500e+01 & 2.777e-02 &  &  & 0.000e+00 & 2.000e+02 & \\\\\n",
       "\\hline\n",
       "2 & $\\sigma$ & 2.777e+00 & 1.979e-02 &  &  & 1.000e+00 & 1.000e+01 & \\\\\n",
       "\\hline\n",
       "\\end{tabular}</textarea>\n",
       "            </pre>\n",
       "            "
      ]
     },
     "metadata": {},
     "output_type": "display_data"
    },
    {
     "data": {
      "text/html": [
       "<hr>"
      ]
     },
     "metadata": {},
     "output_type": "display_data"
    },
    {
     "data": {
      "text/plain": [
       "({'fval': 18.090370395936272, 'edm': 0.0001721318290722907, 'nfcn': 60, 'up': 1.0, 'is_valid': True, 'has_valid_parameters': True, 'has_accurate_covar': True, 'has_posdef_covar': True, 'has_made_posdef_covar': False, 'hesse_failed': False, 'has_covariance': True, 'is_above_max_edm': False, 'has_reached_call_limit': False},\n",
       " [{'number': 0, 'name': 'mean', 'value': 44.99689579934598, 'error': 0.027765847739534166, 'is_const': False, 'is_fixed': False, 'has_limits': True, 'has_lower_limit': True, 'has_upper_limit': True, 'lower_limit': 0.0, 'upper_limit': 200.0},\n",
       "  {'number': 1, 'name': 'sigma', 'value': 2.7772518009110962, 'error': 0.01979271374608471, 'is_const': False, 'is_fixed': False, 'has_limits': True, 'has_lower_limit': True, 'has_upper_limit': True, 'lower_limit': 1.0, 'upper_limit': 10.0}])"
      ]
     },
     "execution_count": 8,
     "metadata": {},
     "output_type": "execute_result"
    }
   ],
   "source": [
    "import iminuit\n",
    "print(iminuit.describe(fcn))\n",
    "m = iminuit.Minuit(fcn, mean=45, error_mean=10, limit_mean = (0, 200), sigma=10, error_sigma=2, limit_sigma = (1, 10), errordef=1)\n",
    "m.migrad()\n",
    "#print(m.values)  # {'x': 2,'y': 3,'z': 4}\n",
    "#print(m.errors)  # {'x': 1,'y': 1,'z': 1}"
   ]
  },
  {
   "cell_type": "code",
   "execution_count": 9,
   "metadata": {},
   "outputs": [
    {
     "data": {
      "image/png": "[encoded data removed]",
      "text/plain": [
       "<matplotlib.figure.Figure at 0x10a5d2710>"
      ]
     },
     "metadata": {},
     "output_type": "display_data"
    }
   ],
   "source": [
    "eggs=fcn.xArray(100)\n",
    "why=fcn.gaussArray(100)\n",
    "plt.hist(xlist, 20)\n",
    "plt.plot(eggs,why)\n",
    "plt.show()"
   ]
  },
  {
   "cell_type": "code",
   "execution_count": null,
   "metadata": {
    "collapsed": true
   },
   "outputs": [],
   "source": [
    "def grauss(x, mean, sigma):\n",
    "    delta = x - mean\n",
    "    return 1/(math.sqrt(2*math.pi)*math.fabs(sigma)) * math.exp(-delta**2/(2*sigma**2))\n",
    "\n",
    "class chi2:\n",
    "    def __init__(self, h, pdf):\n",
    "        self.h=h\n",
    "        self.pdf=pdf\n",
    "    def"
   ]
  },
  {
   "cell_type": "code",
   "execution_count": null,
   "metadata": {
    "collapsed": true
   },
   "outputs": [],
   "source": []
  }
 ],
 "metadata": {
  "kernelspec": {
   "display_name": "Python 3",
   "language": "python",
   "name": "python3"
  },
  "language_info": {
   "codemirror_mode": {
    "name": "ipython",
    "version": 3
   },
   "file_extension": ".py",
   "mimetype": "text/x-python",
   "name": "python",
   "nbconvert_exporter": "python",
   "pygments_lexer": "ipython3",
   "version": "3.6.1"
  }
 },
 "nbformat": 4,
 "nbformat_minor": 2
}
