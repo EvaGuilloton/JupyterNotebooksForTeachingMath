{
 "cells": [
  {
   "cell_type": "markdown",
   "metadata": {
    "collapsed": true
   },
   "source": [
    "# CLT with dice"
   ]
  },
  {
   "cell_type": "markdown",
   "metadata": {},
   "source": [
    "You can view these sheets on github, but to modify them, you'll need to a version of jupyter. How to install it is explained here: http://jupyter.readthedocs.io/en/latest/install.html.\n",
    "If you want to use the functions defined below to generate your own distributions, you need to compile them first. Easiest done by clicking (once have opened this as jupyter notebook): Kernel -> Restart & Run All. (Alternatively, you can use the >| button to click your way through, but you need to start from the beginning to have access to all functions defined on this sheet). Have fun!"
   ]
  },
  {
   "cell_type": "markdown",
   "metadata": {},
   "source": [
    "Let's generate a few distributions and calculate the mean, mode, median for each.\n",
    "Start by importing the relevant libraries"
   ]
  },
  {
   "cell_type": "code",
   "execution_count": 1,
   "metadata": {
    "collapsed": true
   },
   "outputs": [],
   "source": [
    "from math import *\n",
    "import numpy as np\n",
    "import matplotlib.mlab as mlab\n",
    "import matplotlib.pyplot as plt"
   ]
  },
  {
   "cell_type": "markdown",
   "metadata": {},
   "source": [
    "Let's generate a distribution we would get from throwing a (fair) die"
   ]
  },
  {
   "cell_type": "code",
   "execution_count": 2,
   "metadata": {
    "collapsed": true
   },
   "outputs": [],
   "source": [
    "def throwOneDie(HowOften):\n",
    "    flatRandom = np.random.random(HowOften) \n",
    "    #turn it into integers from 1 to 6:\n",
    "    return [int(x*6)+1 for x in flatRandom]"
   ]
  },
  {
   "cell_type": "code",
   "execution_count": 3,
   "metadata": {},
   "outputs": [
    {
     "data": {
      "image/png": "[encoded data removed]",
      "text/plain": [
       "<matplotlib.figure.Figure at 0x116cfad30>"
      ]
     },
     "metadata": {},
     "output_type": "display_data"
    }
   ],
   "source": [
    "oneDieRandom = throwOneDie(1000)\n",
    "h=plt.hist(oneDieRandom, 6, range=(0.5, 6.5)) # make histogram\n",
    "plt.show()"
   ]
  },
  {
   "cell_type": "markdown",
   "metadata": {},
   "source": [
    "Calulate arithmetic mean and std-dev"
   ]
  },
  {
   "cell_type": "code",
   "execution_count": 4,
   "metadata": {
    "collapsed": true
   },
   "outputs": [],
   "source": [
    "def meanAndStdev(sample):\n",
    "    sum=0\n",
    "    sumsq=0\n",
    "    for x in sample:\n",
    "        sum   += x\n",
    "        sumsq += x**2\n",
    "    N = len(sample)\n",
    "    mean   = sum/N\n",
    "    meansq = sumsq/N\n",
    "    Variance = meansq - mean**2\n",
    "    StandardDeviation = sqrt(Variance)\n",
    "    return mean, Variance, StandardDeviation"
   ]
  },
  {
   "cell_type": "code",
   "execution_count": 5,
   "metadata": {},
   "outputs": [
    {
     "name": "stdout",
     "output_type": "stream",
     "text": [
      "mean =  3.443 , sigma =  1.6537082572207225\n"
     ]
    }
   ],
   "source": [
    "mu, variance, sigma = meanAndStdev(oneDieRandom)\n",
    "print(\"mean = \", mu, \", sigma = \", sigma)"
   ]
  },
  {
   "cell_type": "markdown",
   "metadata": {},
   "source": [
    "Now let's throw multiple dice"
   ]
  },
  {
   "cell_type": "code",
   "execution_count": 6,
   "metadata": {
    "collapsed": true
   },
   "outputs": [],
   "source": [
    "def sumMultiRandom(PDF, NDice=10, Nevents=1000): \n",
    "    # we'll write it such that we can give it various PDFs, not just dice\n",
    "    # For dice we'll pass throwOneDie as first argument\n",
    "    randomNumbers=PDF(Nevents)\n",
    "    if NDice == 1: return randomNumbers\n",
    "    \n",
    "    for counter in range(NDice-1):\n",
    "        newRandomNumbers = PDF(Nevents)\n",
    "        randomNumbers = [x + y for x, y in zip(randomNumbers, newRandomNumbers)]\n",
    "    return randomNumbers"
   ]
  },
  {
   "cell_type": "markdown",
   "metadata": {},
   "source": [
    "Now let's put it all together in one neat function"
   ]
  },
  {
   "cell_type": "code",
   "execution_count": 7,
   "metadata": {
    "collapsed": true
   },
   "outputs": [],
   "source": [
    "def doAll(PDF, NDice=1, Nevents=1000, histoBins=-1, histoMin=999, histoMax=-999):\n",
    "    RandomDice = sumMultiRandom(PDF, NDice=NDice, Nevents=Nevents)\n",
    "\n",
    "    mini=histoMin\n",
    "    maxi=histoMax\n",
    "    if(histoMax < histoMin):\n",
    "        mini=NDice-0.5\n",
    "        maxi=NDice*6+0.5\n",
    "        if mini > min(RandomDice) : mini = min(RandomDice) - 0.5\n",
    "        if maxi < max(RandomDice) : maxi = max(RandomDice) + 0.5\n",
    "    bins=int(maxi-mini)\n",
    "    if histoBins > 0 : bins=histoBins\n",
    "\n",
    "    h=plt.hist(RandomDice, bins, range=(mini, maxi)) # make histogram\n",
    "    plt.show()\n",
    "    mu, var, sigma = meanAndStdev(RandomDice)\n",
    "    print(\"For \", NDice, \" dice, thrown \", Nevents, \" times:\")\n",
    "    print(\"mean = \", mu, \", variance = \", var, \", sigma = \", sigma)"
   ]
  },
  {
   "cell_type": "code",
   "execution_count": 8,
   "metadata": {},
   "outputs": [
    {
     "data": {
      "image/png": "[encoded data removed]",
      "text/plain": [
       "<matplotlib.figure.Figure at 0x11a210e80>"
      ]
     },
     "metadata": {},
     "output_type": "display_data"
    },
    {
     "name": "stdout",
     "output_type": "stream",
     "text": [
      "For  4  dice, thrown  100000  times:\n",
      "mean =  13.99632 , variance =  11.638746457599979 , sigma =  3.4115607070078613\n"
     ]
    }
   ],
   "source": [
    "doAll(throwOneDie, 4, 100000)"
   ]
  },
  {
   "cell_type": "markdown",
   "metadata": {},
   "source": [
    "Let's try it out for a few distributions and see if mean and variance are both proportional to the number of dice, as expected."
   ]
  },
  {
   "cell_type": "code",
   "execution_count": 9,
   "metadata": {},
   "outputs": [
    {
     "data": {
      "image/png": "[encoded data removed]",
      "text/plain": [
       "<matplotlib.figure.Figure at 0x11a210d30>"
      ]
     },
     "metadata": {},
     "output_type": "display_data"
    },
    {
     "name": "stdout",
     "output_type": "stream",
     "text": [
      "For  1  dice, thrown  100000  times:\n",
      "mean =  3.50785 , variance =  2.928358377500002 , sigma =  1.7112446866243303\n"
     ]
    },
    {
     "data": {
      "image/png": "[encoded data removed]",
      "text/plain": [
       "<matplotlib.figure.Figure at 0x11a210d68>"
      ]
     },
     "metadata": {},
     "output_type": "display_data"
    },
    {
     "name": "stdout",
     "output_type": "stream",
     "text": [
      "For  4  dice, thrown  100000  times:\n",
      "mean =  13.99944 , variance =  11.621059686400002 , sigma =  3.408967539651852\n"
     ]
    },
    {
     "data": {
      "image/png": "[encoded data removed]",
      "text/plain": [
       "<matplotlib.figure.Figure at 0x11a88d828>"
      ]
     },
     "metadata": {},
     "output_type": "display_data"
    },
    {
     "name": "stdout",
     "output_type": "stream",
     "text": [
      "For  16  dice, thrown  100000  times:\n",
      "mean =  55.99607 , variance =  46.92515455509965 , sigma =  6.850193760405588\n"
     ]
    },
    {
     "data": {
      "image/png": "[encoded data removed]",
      "text/plain": [
       "<matplotlib.figure.Figure at 0x11aa9dd68>"
      ]
     },
     "metadata": {},
     "output_type": "display_data"
    },
    {
     "name": "stdout",
     "output_type": "stream",
     "text": [
      "For  64  dice, thrown  100000  times:\n",
      "mean =  223.95752 , variance =  186.16267544960283 , sigma =  13.644144364876928\n"
     ]
    }
   ],
   "source": [
    "doAll(throwOneDie, 1, 100000)\n",
    "doAll(throwOneDie, 4, 100000)\n",
    "doAll(throwOneDie, 16, 100000)\n",
    "doAll(throwOneDie, 64, 100000)"
   ]
  },
  {
   "cell_type": "markdown",
   "metadata": {},
   "source": [
    "Does it also work with other distributions? Let's try a triangular shaped one"
   ]
  },
  {
   "cell_type": "code",
   "execution_count": 10,
   "metadata": {
    "collapsed": true
   },
   "outputs": [],
   "source": [
    "def throwTriangle(HowOften):\n",
    "    flat = np.random.random(HowOften) \n",
    "    triangleRandom = [sqrt(x) for x in flat] ## magic coordinate trafo\n",
    "    #turn it into integers from 1 to 6: (not really needed, but why not)\n",
    "    return [int(x*6)+1 for x in triangleRandom]"
   ]
  },
  {
   "cell_type": "code",
   "execution_count": 11,
   "metadata": {},
   "outputs": [
    {
     "data": {
      "image/png": "[encoded data removed]",
      "text/plain": [
       "<matplotlib.figure.Figure at 0x11ad89438>"
      ]
     },
     "metadata": {},
     "output_type": "display_data"
    },
    {
     "name": "stdout",
     "output_type": "stream",
     "text": [
      "For  1  dice, thrown  100000  times:\n",
      "mean =  4.47399 , variance =  1.9659034798999997 , sigma =  1.4021068004613628\n"
     ]
    }
   ],
   "source": [
    "doAll(throwTriangle, 1, 100000)"
   ]
  },
  {
   "cell_type": "code",
   "execution_count": 12,
   "metadata": {},
   "outputs": [
    {
     "data": {
      "image/png": "[encoded data removed]",
      "text/plain": [
       "<matplotlib.figure.Figure at 0x11a4a96d8>"
      ]
     },
     "metadata": {},
     "output_type": "display_data"
    },
    {
     "name": "stdout",
     "output_type": "stream",
     "text": [
      "For  4  dice, thrown  10000  times:\n",
      "mean =  17.8649 , variance =  7.820047990000035 , sigma =  2.7964348714032363\n"
     ]
    },
    {
     "data": {
      "image/png": "[encoded data removed]",
      "text/plain": [
       "<matplotlib.figure.Figure at 0x11a8690f0>"
      ]
     },
     "metadata": {},
     "output_type": "display_data"
    },
    {
     "name": "stdout",
     "output_type": "stream",
     "text": [
      "For  16  dice, thrown  10000  times:\n",
      "mean =  71.5038 , variance =  31.891385560000344 , sigma =  5.647245838459695\n"
     ]
    },
    {
     "data": {
      "image/png": "[encoded data removed]",
      "text/plain": [
       "<matplotlib.figure.Figure at 0x11a48e198>"
      ]
     },
     "metadata": {},
     "output_type": "display_data"
    },
    {
     "name": "stdout",
     "output_type": "stream",
     "text": [
      "For  64  dice, thrown  10000  times:\n",
      "mean =  286.3215 , variance =  126.2117377499817 , sigma =  11.234399750319627\n"
     ]
    }
   ],
   "source": [
    "doAll(throwTriangle, 4, 10000)\n",
    "doAll(throwTriangle, 16, 10000)\n",
    "doAll(throwTriangle, 64, 10000)"
   ]
  },
  {
   "cell_type": "markdown",
   "metadata": {},
   "source": [
    "So it also works for a distribution as asymmetric and the triangle. Of course it also works for continuous distributions. Let's try an exponential"
   ]
  },
  {
   "cell_type": "code",
   "execution_count": 13,
   "metadata": {
    "collapsed": true
   },
   "outputs": [],
   "source": [
    "def expo(Nevents):\n",
    "    expoSample = np.random.exponential(scale = 1, size=Nevents)\n",
    "    return expoSample"
   ]
  },
  {
   "cell_type": "code",
   "execution_count": 14,
   "metadata": {},
   "outputs": [
    {
     "data": {
      "image/png": "[encoded data removed]",
      "text/plain": [
       "<matplotlib.figure.Figure at 0x11ac5d208>"
      ]
     },
     "metadata": {},
     "output_type": "display_data"
    },
    {
     "name": "stdout",
     "output_type": "stream",
     "text": [
      "For  1  dice, thrown  100000  times:\n",
      "mean =  1.00433088159 , variance =  1.0084585705 , sigma =  1.0042203794476543\n"
     ]
    }
   ],
   "source": [
    "doAll(expo, 1, 100000, 100)"
   ]
  },
  {
   "cell_type": "code",
   "execution_count": 15,
   "metadata": {},
   "outputs": [
    {
     "data": {
      "image/png": "[encoded data removed]",
      "text/plain": [
       "<matplotlib.figure.Figure at 0x11afa3400>"
      ]
     },
     "metadata": {},
     "output_type": "display_data"
    },
    {
     "name": "stdout",
     "output_type": "stream",
     "text": [
      "For  4  dice, thrown  100000  times:\n",
      "mean =  4.00053865844 , variance =  3.9817130978 , sigma =  1.995423037303927\n"
     ]
    },
    {
     "data": {
      "image/png": "[encoded data removed]",
      "text/plain": [
       "<matplotlib.figure.Figure at 0x11afd11d0>"
      ]
     },
     "metadata": {},
     "output_type": "display_data"
    },
    {
     "name": "stdout",
     "output_type": "stream",
     "text": [
      "For  16  dice, thrown  100000  times:\n",
      "mean =  15.9928336496 , variance =  15.9293817292 , sigma =  3.9911629544789897\n"
     ]
    },
    {
     "data": {
      "image/png": "[encoded data removed]",
      "text/plain": [
       "<matplotlib.figure.Figure at 0x11ab34d30>"
      ]
     },
     "metadata": {},
     "output_type": "display_data"
    },
    {
     "name": "stdout",
     "output_type": "stream",
     "text": [
      "For  64  dice, thrown  100000  times:\n",
      "mean =  64.0159752925 , variance =  64.5642975269 , sigma =  8.035191194169851\n"
     ]
    },
    {
     "data": {
      "image/png": "[encoded data removed]",
      "text/plain": [
       "<matplotlib.figure.Figure at 0x11a43f6a0>"
      ]
     },
     "metadata": {},
     "output_type": "display_data"
    },
    {
     "name": "stdout",
     "output_type": "stream",
     "text": [
      "For  64  dice, thrown  100000  times:\n",
      "mean =  63.9593466557 , variance =  63.6096772749 , sigma =  7.975567520555637\n"
     ]
    }
   ],
   "source": [
    "doAll(expo, 4, 100000, 100)\n",
    "doAll(expo, 16, 100000, 100)\n",
    "doAll(expo, 64, 100000, 100)\n",
    "doAll(expo, 64, 100000, 100, 20, 120) # zoom in a bit"
   ]
  },
  {
   "cell_type": "code",
   "execution_count": null,
   "metadata": {
    "collapsed": true
   },
   "outputs": [],
   "source": []
  }
 ],
 "metadata": {
  "kernelspec": {
   "display_name": "Python 3",
   "language": "python",
   "name": "python3"
  },
  "language_info": {
   "codemirror_mode": {
    "name": "ipython",
    "version": 3
   },
   "file_extension": ".py",
   "mimetype": "text/x-python",
   "name": "python",
   "nbconvert_exporter": "python",
   "pygments_lexer": "ipython3",
   "version": "3.6.1"
  }
 },
 "nbformat": 4,
 "nbformat_minor": 2
}
