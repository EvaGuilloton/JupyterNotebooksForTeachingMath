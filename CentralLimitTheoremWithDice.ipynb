{
 "cells": [
  {
   "cell_type": "markdown",
   "metadata": {
    "collapsed": true
   },
   "source": [
    "# CLT with dice"
   ]
  },
  {
   "cell_type": "markdown",
   "metadata": {},
   "source": [
    "You can view these sheets on github, but to modify them, you'll need to a version of jupyter. How to install it is explained here: http://jupyter.readthedocs.io/en/latest/install.html.\n",
    "If you want to use the functions defined below to generate your own distributions, you need to compile them first. Easiest done by clicking (once have opened this as jupyter notebook): Kernel -> Restart & Run All. (Alternatively, you can use the >| button to click your way through, but you need to start from the beginning to have access to all functions defined on this sheet). Have fun!"
   ]
  },
  {
   "cell_type": "markdown",
   "metadata": {},
   "source": [
    "Let's generate a few distributions and calculate the mean, mode, median for each.\n",
    "Start by importing the relevant libraries"
   ]
  },
  {
   "cell_type": "code",
   "execution_count": 2,
   "metadata": {},
   "outputs": [],
   "source": [
    "from math import *\n",
    "import numpy as np\n",
    "import matplotlib.mlab as mlab\n",
    "import matplotlib.pyplot as plt"
   ]
  },
  {
   "cell_type": "markdown",
   "metadata": {},
   "source": [
    "Let's generate a distribution we would get from throwing a (fair) die"
   ]
  },
  {
   "cell_type": "code",
   "execution_count": 3,
   "metadata": {},
   "outputs": [],
   "source": [
    "def throwOneDie(HowOften):\n",
    "    flatRandom = np.random.random(HowOften) \n",
    "    #turn it into integers from 1 to 6:\n",
    "    return [int(x*6)+1 for x in flatRandom]"
   ]
  },
  {
   "cell_type": "code",
   "execution_count": 4,
   "metadata": {},
   "outputs": [
    {
     "data": {
      "image/png": "[encoded data removed]",
      "text/plain": [
       "<Figure size 432x288 with 1 Axes>"
      ]
     },
     "metadata": {},
     "output_type": "display_data"
    }
   ],
   "source": [
    "oneDieRandom = throwOneDie(1000)\n",
    "h=plt.hist(oneDieRandom, 6, range=(0.5, 6.5)) # make histogram\n",
    "plt.show()"
   ]
  },
  {
   "cell_type": "markdown",
   "metadata": {},
   "source": [
    "Calulate arithmetic mean and std-dev"
   ]
  },
  {
   "cell_type": "code",
   "execution_count": 5,
   "metadata": {},
   "outputs": [],
   "source": [
    "def meanAndStdev(sample):\n",
    "    sum=0\n",
    "    sumsq=0\n",
    "    for x in sample:\n",
    "        sum   += x\n",
    "        sumsq += x**2\n",
    "    N = len(sample)\n",
    "    mean   = sum/N\n",
    "    meansq = sumsq/N\n",
    "    Variance = meansq - mean**2\n",
    "    StandardDeviation = sqrt(Variance)\n",
    "    return mean, Variance, StandardDeviation"
   ]
  },
  {
   "cell_type": "code",
   "execution_count": 6,
   "metadata": {},
   "outputs": [
    {
     "name": "stdout",
     "output_type": "stream",
     "text": [
      "mean =  3.501 , sigma =  1.6649321307488787\n"
     ]
    }
   ],
   "source": [
    "mu, variance, sigma = meanAndStdev(oneDieRandom)\n",
    "print(\"mean = \", mu, \", sigma = \", sigma)"
   ]
  },
  {
   "cell_type": "markdown",
   "metadata": {},
   "source": [
    "Now let's throw multiple dice"
   ]
  },
  {
   "cell_type": "code",
   "execution_count": 7,
   "metadata": {},
   "outputs": [],
   "source": [
    "def sumMultiRandom(PDF, NDice=10, Nevents=1000): \n",
    "    # we'll write it such that we can give it various PDFs, not just dice\n",
    "    # For dice we'll pass throwOneDie as first argument\n",
    "    randomNumbers=PDF(Nevents)\n",
    "    if NDice == 1: return randomNumbers\n",
    "    \n",
    "    for counter in range(NDice-1):\n",
    "        newRandomNumbers = PDF(Nevents)\n",
    "        randomNumbers = [x + y for x, y in zip(randomNumbers, newRandomNumbers)]\n",
    "    return randomNumbers"
   ]
  },
  {
   "cell_type": "markdown",
   "metadata": {},
   "source": [
    "Now let's put it all together in one neat function"
   ]
  },
  {
   "cell_type": "code",
   "execution_count": 8,
   "metadata": {},
   "outputs": [],
   "source": [
    "def doAll(PDF, NDice=1, Nevents=1000, histoBins=-1, histoMin=999, histoMax=-999):\n",
    "    RandomDice = sumMultiRandom(PDF, NDice=NDice, Nevents=Nevents)\n",
    "\n",
    "    mini=histoMin\n",
    "    maxi=histoMax\n",
    "    if(histoMax < histoMin):\n",
    "        mini=NDice-0.5\n",
    "        maxi=NDice*6+0.5\n",
    "        if mini > min(RandomDice) : mini = min(RandomDice) - 0.5\n",
    "        if maxi < max(RandomDice) : maxi = max(RandomDice) + 0.5\n",
    "    bins=int(maxi-mini)\n",
    "    if histoBins > 0 : bins=histoBins\n",
    "\n",
    "    h=plt.hist(RandomDice, bins, range=(mini, maxi)) # make histogram\n",
    "    plt.show()\n",
    "    mu, var, sigma = meanAndStdev(RandomDice)\n",
    "    print(\"For \", NDice, \" dice, thrown \", Nevents, \" times:\")\n",
    "    print(\"mean = \", mu, \", variance = \", var, \", sigma = \", sigma)"
   ]
  },
  {
   "cell_type": "code",
   "execution_count": 11,
   "metadata": {},
   "outputs": [
    {
     "data": {
      "image/png": "[encoded data removed]",
      "text/plain": [
       "<Figure size 432x288 with 1 Axes>"
      ]
     },
     "metadata": {},
     "output_type": "display_data"
    },
    {
     "name": "stdout",
     "output_type": "stream",
     "text": [
      "For  16  dice, thrown  10000  times:\n",
      "mean =  55.8121 , variance =  46.1385935899998 , sigma =  6.792539553804586\n"
     ]
    }
   ],
   "source": [
    "doAll(throwOneDie, 16, 10000)"
   ]
  },
  {
   "cell_type": "markdown",
   "metadata": {},
   "source": [
    "Let's try it out for a few distributions and see if mean and variance are both proportional to the number of dice, as expected."
   ]
  },
  {
   "cell_type": "code",
   "execution_count": 12,
   "metadata": {},
   "outputs": [
    {
     "data": {
      "image/png": "[encoded data removed]",
      "text/plain": [
       "<Figure size 432x288 with 1 Axes>"
      ]
     },
     "metadata": {},
     "output_type": "display_data"
    },
    {
     "name": "stdout",
     "output_type": "stream",
     "text": [
      "For  1  dice, thrown  100000  times:\n",
      "mean =  3.49896 , variance =  2.9197389184 , sigma =  1.708724354130882\n"
     ]
    },
    {
     "data": {
      "image/png": "[encoded data removed]",
      "text/plain": [
       "<Figure size 432x288 with 1 Axes>"
      ]
     },
     "metadata": {},
     "output_type": "display_data"
    },
    {
     "name": "stdout",
     "output_type": "stream",
     "text": [
      "For  4  dice, thrown  100000  times:\n",
      "mean =  14.01246 , variance =  11.772704748399974 , sigma =  3.431137529799698\n"
     ]
    },
    {
     "data": {
      "image/png": "[encoded data removed]",
      "text/plain": [
       "<Figure size 432x288 with 1 Axes>"
      ]
     },
     "metadata": {},
     "output_type": "display_data"
    },
    {
     "name": "stdout",
     "output_type": "stream",
     "text": [
      "For  16  dice, thrown  100000  times:\n",
      "mean =  56.01203 , variance =  46.67072527909977 , sigma =  6.831597564193881\n"
     ]
    },
    {
     "data": {
      "image/png": "[encoded data removed]",
      "text/plain": [
       "<Figure size 432x288 with 1 Axes>"
      ]
     },
     "metadata": {},
     "output_type": "display_data"
    },
    {
     "name": "stdout",
     "output_type": "stream",
     "text": [
      "For  64  dice, thrown  100000  times:\n",
      "mean =  223.94544 , variance =  187.63282320640428 , sigma =  13.697913096760553\n"
     ]
    }
   ],
   "source": [
    "doAll(throwOneDie, 1, 100000)\n",
    "doAll(throwOneDie, 4, 100000)\n",
    "doAll(throwOneDie, 16, 100000)\n",
    "doAll(throwOneDie, 64, 100000)"
   ]
  },
  {
   "cell_type": "markdown",
   "metadata": {},
   "source": [
    "Does it also work with other distributions? Let's try a triangular shaped one"
   ]
  },
  {
   "cell_type": "code",
   "execution_count": 13,
   "metadata": {},
   "outputs": [],
   "source": [
    "def throwTriangle(HowOften):\n",
    "    flat = np.random.random(HowOften) \n",
    "    triangleRandom = [sqrt(x) for x in flat] ## magic coordinate trafo\n",
    "    #turn it into integers from 1 to 6: (not really needed, but why not)\n",
    "    return [int(x*6)+1 for x in triangleRandom]"
   ]
  },
  {
   "cell_type": "code",
   "execution_count": 18,
   "metadata": {},
   "outputs": [
    {
     "data": {
      "image/png": "[encoded data removed]",
      "text/plain": [
       "<Figure size 432x288 with 1 Axes>"
      ]
     },
     "metadata": {},
     "output_type": "display_data"
    },
    {
     "name": "stdout",
     "output_type": "stream",
     "text": [
      "For  16  dice, thrown  100000  times:\n",
      "mean =  71.54757 , variance =  31.52975709510065 , sigma =  5.615136427113828\n"
     ]
    }
   ],
   "source": [
    "doAll(throwTriangle, 16, 100000)"
   ]
  },
  {
   "cell_type": "code",
   "execution_count": 19,
   "metadata": {},
   "outputs": [
    {
     "data": {
      "image/png": "[encoded data removed]",
      "text/plain": [
       "<Figure size 432x288 with 1 Axes>"
      ]
     },
     "metadata": {},
     "output_type": "display_data"
    },
    {
     "name": "stdout",
     "output_type": "stream",
     "text": [
      "For  4  dice, thrown  10000  times:\n",
      "mean =  17.8916 , variance =  8.001449439999988 , sigma =  2.828683340354658\n"
     ]
    },
    {
     "data": {
      "image/png": "[encoded data removed]",
      "text/plain": [
       "<Figure size 432x288 with 1 Axes>"
      ]
     },
     "metadata": {},
     "output_type": "display_data"
    },
    {
     "name": "stdout",
     "output_type": "stream",
     "text": [
      "For  16  dice, thrown  10000  times:\n",
      "mean =  71.5225 , variance =  31.132693750000726 , sigma =  5.579667888862269\n"
     ]
    },
    {
     "data": {
      "image/png": "[encoded data removed]",
      "text/plain": [
       "<Figure size 432x288 with 1 Axes>"
      ]
     },
     "metadata": {},
     "output_type": "display_data"
    },
    {
     "name": "stdout",
     "output_type": "stream",
     "text": [
      "For  64  dice, thrown  10000  times:\n",
      "mean =  286.4075 , variance =  124.78544374999183 , sigma =  11.170740519320635\n"
     ]
    }
   ],
   "source": [
    "doAll(throwTriangle, 4, 10000)\n",
    "doAll(throwTriangle, 16, 10000)\n",
    "doAll(throwTriangle, 64, 10000)"
   ]
  },
  {
   "cell_type": "markdown",
   "metadata": {},
   "source": [
    "So it also works for a distribution as asymmetric and the triangle. Of course it also works for continuous distributions. Let's try an exponential"
   ]
  },
  {
   "cell_type": "code",
   "execution_count": 20,
   "metadata": {},
   "outputs": [],
   "source": [
    "def expo(Nevents):\n",
    "    expoSample = np.random.exponential(scale = 1, size=Nevents)\n",
    "    return expoSample"
   ]
  },
  {
   "cell_type": "code",
   "execution_count": 21,
   "metadata": {},
   "outputs": [
    {
     "data": {
      "image/png": "[encoded data removed]",
      "text/plain": [
       "<Figure size 432x288 with 1 Axes>"
      ]
     },
     "metadata": {},
     "output_type": "display_data"
    },
    {
     "name": "stdout",
     "output_type": "stream",
     "text": [
      "For  1  dice, thrown  100000  times:\n",
      "mean =  1.0042036318471879 , variance =  1.0049916164006825 , sigma =  1.0024927014201561\n"
     ]
    }
   ],
   "source": [
    "doAll(expo, 1, 100000, 100)"
   ]
  },
  {
   "cell_type": "code",
   "execution_count": 22,
   "metadata": {},
   "outputs": [
    {
     "data": {
      "image/png": "[encoded data removed]",
      "text/plain": [
       "<Figure size 432x288 with 1 Axes>"
      ]
     },
     "metadata": {},
     "output_type": "display_data"
    },
    {
     "name": "stdout",
     "output_type": "stream",
     "text": [
      "For  4  dice, thrown  100000  times:\n",
      "mean =  4.001280327170589 , variance =  3.9772274815406092 , sigma =  1.9942987443060303\n"
     ]
    },
    {
     "data": {
      "image/png": "[encoded data removed]",
      "text/plain": [
       "<Figure size 432x288 with 1 Axes>"
      ]
     },
     "metadata": {},
     "output_type": "display_data"
    },
    {
     "name": "stdout",
     "output_type": "stream",
     "text": [
      "For  16  dice, thrown  100000  times:\n",
      "mean =  15.996383852081166 , variance =  15.961386249990312 , sigma =  3.9951703655777075\n"
     ]
    },
    {
     "data": {
      "image/png": "[encoded data removed]",
      "text/plain": [
       "<Figure size 432x288 with 1 Axes>"
      ]
     },
     "metadata": {},
     "output_type": "display_data"
    },
    {
     "name": "stdout",
     "output_type": "stream",
     "text": [
      "For  64  dice, thrown  100000  times:\n",
      "mean =  64.0199491950656 , variance =  63.51838179489823 , sigma =  7.96984201818946\n"
     ]
    },
    {
     "data": {
      "image/png": "[encoded data removed]",
      "text/plain": [
       "<Figure size 432x288 with 1 Axes>"
      ]
     },
     "metadata": {},
     "output_type": "display_data"
    },
    {
     "name": "stdout",
     "output_type": "stream",
     "text": [
      "For  64  dice, thrown  100000  times:\n",
      "mean =  64.02345127428919 , variance =  64.14389427233709 , sigma =  8.00898834262712\n"
     ]
    }
   ],
   "source": [
    "doAll(expo, 4, 100000, 100)\n",
    "doAll(expo, 16, 100000, 100)\n",
    "doAll(expo, 64, 100000, 100)\n",
    "doAll(expo, 64, 100000, 100, 20, 120) # zoom in a bit"
   ]
  },
  {
   "cell_type": "code",
   "execution_count": null,
   "metadata": {},
   "outputs": [],
   "source": []
  }
 ],
 "metadata": {
  "kernelspec": {
   "display_name": "Python 3",
   "language": "python",
   "name": "python3"
  },
  "language_info": {
   "codemirror_mode": {
    "name": "ipython",
    "version": 3
   },
   "file_extension": ".py",
   "mimetype": "text/x-python",
   "name": "python",
   "nbconvert_exporter": "python",
   "pygments_lexer": "ipython3",
   "version": "3.6.5"
  }
 },
 "nbformat": 4,
 "nbformat_minor": 2
}
