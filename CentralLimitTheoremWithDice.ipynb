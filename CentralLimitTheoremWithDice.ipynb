{
 "cells": [
  {
   "cell_type": "markdown",
   "metadata": {
    "collapsed": true
   },
   "source": [
    "# CLT with dice"
   ]
  },
  {
   "cell_type": "markdown",
   "metadata": {},
   "source": [
    "Let's generate a few distributions and calculate the mean, mode, median for each.\n",
    "Start by importing the relevant libraries"
   ]
  },
  {
   "cell_type": "code",
   "execution_count": 1,
   "metadata": {
    "collapsed": true
   },
   "outputs": [],
   "source": [
    "from math import *\n",
    "import numpy as np\n",
    "import matplotlib.mlab as mlab\n",
    "import matplotlib.pyplot as plt"
   ]
  },
  {
   "cell_type": "markdown",
   "metadata": {},
   "source": [
    "Let's generate a distribution we would get from throwing a (fair) die"
   ]
  },
  {
   "cell_type": "code",
   "execution_count": 2,
   "metadata": {},
   "outputs": [],
   "source": [
    "def throwOneDie(HowOften):\n",
    "    flatRandom = np.random.random(HowOften) \n",
    "    #turn it into integers from 1 to 6:\n",
    "    return [int(x*6)+1 for x in flatRandom]"
   ]
  },
  {
   "cell_type": "code",
   "execution_count": 3,
   "metadata": {},
   "outputs": [
    {
     "data": {
      "image/png": "[encoded data removed]",
      "text/plain": [
       "<matplotlib.figure.Figure at 0x10beed320>"
      ]
     },
     "metadata": {},
     "output_type": "display_data"
    }
   ],
   "source": [
    "oneDieRandom = throwOneDie(1000)\n",
    "h=plt.hist(oneDieRandom, 6, range=(0.5, 6.5)) # make histogram\n",
    "plt.show()"
   ]
  },
  {
   "cell_type": "markdown",
   "metadata": {},
   "source": [
    "Calulate arithmetic mean and std-dev"
   ]
  },
  {
   "cell_type": "code",
   "execution_count": 4,
   "metadata": {},
   "outputs": [],
   "source": [
    "def meanAndStdev(sample):\n",
    "    sum=0\n",
    "    sumsq=0\n",
    "    for x in sample:\n",
    "        sum   += x\n",
    "        sumsq += x**2\n",
    "    N = len(sample)\n",
    "    mean   = sum/N\n",
    "    meansq = sumsq/N\n",
    "    Variance = meansq - mean**2\n",
    "    StandardDeviation = sqrt(Variance)\n",
    "    return mean, Variance, StandardDeviation"
   ]
  },
  {
   "cell_type": "code",
   "execution_count": 5,
   "metadata": {},
   "outputs": [
    {
     "name": "stdout",
     "output_type": "stream",
     "text": [
      "mean =  3.564 , sigma =  1.7337543078533357\n"
     ]
    }
   ],
   "source": [
    "mu, variance, sigma = meanAndStdev(oneDieRandom)\n",
    "print(\"mean = \", mu, \", sigma = \", sigma)"
   ]
  },
  {
   "cell_type": "markdown",
   "metadata": {},
   "source": [
    "Now let's throw multiple dice"
   ]
  },
  {
   "cell_type": "code",
   "execution_count": 6,
   "metadata": {},
   "outputs": [],
   "source": [
    "def sumMultiRandom(PDF, NDice=10, Nevents=1000): \n",
    "    # we'll write it such that we can give it various PDFs, not just dice\n",
    "    # For dice we'll pass throwOneDie as first argument\n",
    "    randomNumbers=PDF(Nevents)\n",
    "    if NDice == 1: return randomNumbers\n",
    "    \n",
    "    for counter in range(NDice-1):\n",
    "        newRandomNumbers = PDF(Nevents)\n",
    "        randomNumbers = [x + y for x, y in zip(randomNumbers, newRandomNumbers)]\n",
    "    return randomNumbers"
   ]
  },
  {
   "cell_type": "markdown",
   "metadata": {},
   "source": [
    "Now let's put it all together in one neat function"
   ]
  },
  {
   "cell_type": "code",
   "execution_count": 7,
   "metadata": {},
   "outputs": [],
   "source": [
    "def doAll(PDF, NDice=1, Nevents=1000, histoBins=-1, histoMin=999, histoMax=-999):\n",
    "    RandomDice = sumMultiRandom(PDF, NDice=NDice, Nevents=Nevents)\n",
    "\n",
    "    mini=histoMin\n",
    "    maxi=histoMax\n",
    "    if(histoMax < histoMin):\n",
    "        mini=NDice-0.5\n",
    "        maxi=NDice*6+0.5\n",
    "        if mini > min(RandomDice) : mini = min(RandomDice) - 0.5\n",
    "        if maxi < max(RandomDice) : maxi = max(RandomDice) + 0.5\n",
    "    bins=int(maxi-mini)\n",
    "    if histoBins > 0 : bins=histoBins\n",
    "\n",
    "    h=plt.hist(RandomDice, bins, range=(mini, maxi)) # make histogram\n",
    "    plt.show()\n",
    "    mu, var, sigma = meanAndStdev(RandomDice)\n",
    "    print(\"For \", NDice, \" dice, thrown \", Nevents, \" times:\")\n",
    "    print(\"mean = \", mu, \", variance = \", var, \", sigma = \", sigma)"
   ]
  },
  {
   "cell_type": "code",
   "execution_count": 8,
   "metadata": {},
   "outputs": [
    {
     "data": {
      "image/png": "[encoded data removed]",
      "text/plain": [
       "<matplotlib.figure.Figure at 0x10f357fd0>"
      ]
     },
     "metadata": {},
     "output_type": "display_data"
    },
    {
     "name": "stdout",
     "output_type": "stream",
     "text": [
      "For  4  dice, thrown  100000  times:\n",
      "mean =  14.00093 , variance =  11.645969135099989 , sigma =  3.412619101965525\n"
     ]
    }
   ],
   "source": [
    "doAll(throwOneDie, 4, 100000)"
   ]
  },
  {
   "cell_type": "markdown",
   "metadata": {},
   "source": [
    "Let's try it out for a few distributions and see if mean and variance are both proportional to the number of dice, as expected."
   ]
  },
  {
   "cell_type": "code",
   "execution_count": 9,
   "metadata": {},
   "outputs": [
    {
     "data": {
      "image/png": "[encoded data removed]",
      "text/plain": [
       "<matplotlib.figure.Figure at 0x10f5aa5c0>"
      ]
     },
     "metadata": {},
     "output_type": "display_data"
    },
    {
     "name": "stdout",
     "output_type": "stream",
     "text": [
      "For  1  dice, thrown  100000  times:\n",
      "mean =  3.50228 , variance =  2.8977548016000014 , sigma =  1.7022792960028625\n"
     ]
    },
    {
     "data": {
      "image/png": "[encoded data removed]",
      "text/plain": [
       "<matplotlib.figure.Figure at 0x10f5aad68>"
      ]
     },
     "metadata": {},
     "output_type": "display_data"
    },
    {
     "name": "stdout",
     "output_type": "stream",
     "text": [
      "For  4  dice, thrown  100000  times:\n",
      "mean =  14.00858 , variance =  11.644306383599996 , sigma =  3.4123754751785444\n"
     ]
    },
    {
     "data": {
      "image/png": "[encoded data removed]",
      "text/plain": [
       "<matplotlib.figure.Figure at 0x10f951588>"
      ]
     },
     "metadata": {},
     "output_type": "display_data"
    },
    {
     "name": "stdout",
     "output_type": "stream",
     "text": [
      "For  16  dice, thrown  100000  times:\n",
      "mean =  56.02513 , variance =  46.89873848310026 , sigma =  6.848265363075548\n"
     ]
    },
    {
     "data": {
      "image/png": "[encoded data removed]",
      "text/plain": [
       "<matplotlib.figure.Figure at 0x10f9454a8>"
      ]
     },
     "metadata": {},
     "output_type": "display_data"
    },
    {
     "name": "stdout",
     "output_type": "stream",
     "text": [
      "For  64  dice, thrown  100000  times:\n",
      "mean =  223.94212 , variance =  186.09596990560385 , sigma =  13.641699670701003\n"
     ]
    }
   ],
   "source": [
    "doAll(throwOneDie, 1, 100000)\n",
    "doAll(throwOneDie, 4, 100000)\n",
    "doAll(throwOneDie, 16, 100000)\n",
    "doAll(throwOneDie, 64, 100000)"
   ]
  },
  {
   "cell_type": "markdown",
   "metadata": {},
   "source": [
    "Does it also work with other distributions? Let's try a triangular shaped one"
   ]
  },
  {
   "cell_type": "code",
   "execution_count": 10,
   "metadata": {
    "collapsed": true
   },
   "outputs": [],
   "source": [
    "def throwTriangle(HowOften):\n",
    "    flat = np.random.random(HowOften) \n",
    "    triangleRandom = [sqrt(x) for x in flat] ## magic coordinate trafo\n",
    "    #turn it into integers from 1 to 6: (not really needed, but why not)\n",
    "    return [int(x*6)+1 for x in triangleRandom]"
   ]
  },
  {
   "cell_type": "code",
   "execution_count": 11,
   "metadata": {},
   "outputs": [
    {
     "data": {
      "image/png": "[encoded data removed]",
      "text/plain": [
       "<matplotlib.figure.Figure at 0x10f553dd8>"
      ]
     },
     "metadata": {},
     "output_type": "display_data"
    },
    {
     "name": "stdout",
     "output_type": "stream",
     "text": [
      "For  1  dice, thrown  100000  times:\n",
      "mean =  4.47053 , variance =  1.966271519100001 , sigma =  1.4022380393856106\n"
     ]
    }
   ],
   "source": [
    "doAll(throwTriangle, 1, 100000)"
   ]
  },
  {
   "cell_type": "code",
   "execution_count": 12,
   "metadata": {},
   "outputs": [
    {
     "data": {
      "image/png": "[encoded data removed]",
      "text/plain": [
       "<matplotlib.figure.Figure at 0x10f5b7940>"
      ]
     },
     "metadata": {},
     "output_type": "display_data"
    },
    {
     "name": "stdout",
     "output_type": "stream",
     "text": [
      "For  4  dice, thrown  10000  times:\n",
      "mean =  17.9112 , variance =  8.000714559999949 , sigma =  2.828553439481027\n"
     ]
    },
    {
     "data": {
      "image/png": "[encoded data removed]",
      "text/plain": [
       "<matplotlib.figure.Figure at 0x10fe65710>"
      ]
     },
     "metadata": {},
     "output_type": "display_data"
    },
    {
     "name": "stdout",
     "output_type": "stream",
     "text": [
      "For  16  dice, thrown  10000  times:\n",
      "mean =  71.4974 , variance =  31.316393240000252 , sigma =  5.596105184858506\n"
     ]
    },
    {
     "data": {
      "image/png": "[encoded data removed]",
      "text/plain": [
       "<matplotlib.figure.Figure at 0x110112a58>"
      ]
     },
     "metadata": {},
     "output_type": "display_data"
    },
    {
     "name": "stdout",
     "output_type": "stream",
     "text": [
      "For  64  dice, thrown  10000  times:\n",
      "mean =  286.3075 , variance =  129.5169437500008 , sigma =  11.38055111802591\n"
     ]
    }
   ],
   "source": [
    "doAll(throwTriangle, 4, 10000)\n",
    "doAll(throwTriangle, 16, 10000)\n",
    "doAll(throwTriangle, 64, 10000)"
   ]
  },
  {
   "cell_type": "markdown",
   "metadata": {},
   "source": [
    "So it also works for a distribution as asymmetric and the triangle. Of course it also works for continuous distributions. Let's try an exponential"
   ]
  },
  {
   "cell_type": "code",
   "execution_count": 13,
   "metadata": {
    "collapsed": true
   },
   "outputs": [],
   "source": [
    "def expo(Nevents):\n",
    "    expoSample = np.random.exponential(scale = 1, size=Nevents)\n",
    "    return expoSample"
   ]
  },
  {
   "cell_type": "code",
   "execution_count": 14,
   "metadata": {},
   "outputs": [
    {
     "data": {
      "image/png": "[encoded data removed]",
      "text/plain": [
       "<matplotlib.figure.Figure at 0x10fc1a2b0>"
      ]
     },
     "metadata": {},
     "output_type": "display_data"
    },
    {
     "name": "stdout",
     "output_type": "stream",
     "text": [
      "For  1  dice, thrown  100000  times:\n",
      "mean =  0.999785036284 , variance =  1.00186200625 , sigma =  1.00093057014673\n"
     ]
    }
   ],
   "source": [
    "doAll(expo, 1, 100000, 100)"
   ]
  },
  {
   "cell_type": "code",
   "execution_count": 15,
   "metadata": {},
   "outputs": [
    {
     "data": {
      "image/png": "[encoded data removed]",
      "text/plain": [
       "<matplotlib.figure.Figure at 0x10f2130f0>"
      ]
     },
     "metadata": {},
     "output_type": "display_data"
    },
    {
     "name": "stdout",
     "output_type": "stream",
     "text": [
      "For  4  dice, thrown  100000  times:\n",
      "mean =  3.99532520152 , variance =  3.96605925015 , sigma =  1.9914967361647382\n"
     ]
    },
    {
     "data": {
      "image/png": "[encoded data removed]",
      "text/plain": [
       "<matplotlib.figure.Figure at 0x10f213b38>"
      ]
     },
     "metadata": {},
     "output_type": "display_data"
    },
    {
     "name": "stdout",
     "output_type": "stream",
     "text": [
      "For  16  dice, thrown  100000  times:\n",
      "mean =  16.0145943987 , variance =  15.8663150725 , sigma =  3.9832543318839955\n"
     ]
    },
    {
     "data": {
      "image/png": "[encoded data removed]",
      "text/plain": [
       "<matplotlib.figure.Figure at 0x10f59b6d8>"
      ]
     },
     "metadata": {},
     "output_type": "display_data"
    },
    {
     "name": "stdout",
     "output_type": "stream",
     "text": [
      "For  64  dice, thrown  100000  times:\n",
      "mean =  63.9634887419 , variance =  63.801802173 , sigma =  7.987603030510862\n"
     ]
    },
    {
     "data": {
      "image/png": "[encoded data removed]",
      "text/plain": [
       "<matplotlib.figure.Figure at 0x10f64d080>"
      ]
     },
     "metadata": {},
     "output_type": "display_data"
    },
    {
     "name": "stdout",
     "output_type": "stream",
     "text": [
      "For  64  dice, thrown  100000  times:\n",
      "mean =  63.9646333387 , variance =  63.8931377784 , sigma =  7.993318320849277\n"
     ]
    }
   ],
   "source": [
    "doAll(expo, 4, 100000, 100)\n",
    "doAll(expo, 16, 100000, 100)\n",
    "doAll(expo, 64, 100000, 100)\n",
    "doAll(expo, 64, 100000, 100, 0, 150) # zoom in a bit"
   ]
  },
  {
   "cell_type": "code",
   "execution_count": null,
   "metadata": {
    "collapsed": true
   },
   "outputs": [],
   "source": []
  }
 ],
 "metadata": {
  "kernelspec": {
   "display_name": "Python 3",
   "language": "python",
   "name": "python3"
  },
  "language_info": {
   "codemirror_mode": {
    "name": "ipython",
    "version": 3
   },
   "file_extension": ".py",
   "mimetype": "text/x-python",
   "name": "python",
   "nbconvert_exporter": "python",
   "pygments_lexer": "ipython3",
   "version": "3.6.1"
  }
 },
 "nbformat": 4,
 "nbformat_minor": 2
}
