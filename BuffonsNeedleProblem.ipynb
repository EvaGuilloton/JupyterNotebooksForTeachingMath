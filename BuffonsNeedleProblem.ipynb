{
 "cells": [
  {
   "cell_type": "markdown",
   "metadata": {
    "collapsed": true
   },
   "source": [
    "# Buffon's Needle Problem"
   ]
  },
  {
   "cell_type": "markdown",
   "metadata": {},
   "source": [
    "The problem: A floor has parallel lines at equal distance $l$. A needle of length $a < l$ is dropped at random onto the floor. What is the probability that the needle crosses the line?\n",
    "\n",
    "Try to solve this analytically first (hint: assume that the center of the needle hits the floor in a random position with a flat distribution in $x$ and $y$, and that the angle of the needle relative to some axis is a flatly distributed number between $0$ and $2\\pi$. \n",
    "\n",
    "Symmetry considerations can be used to simplify the problem a bit. Let's say the lines on the floor are parallel to the $x$ axis. Then you only care about the distance of the needle from the lines in $y$ (the $x$ position clearly doesn't matter). Also, it is sufficient to consider one single line and $y$ positions between $0$ and $l/2$ from the line - all else is just a repetition of this situation due to the tranlational and mirror symmetry of the situation. Finally, it is sufficient to consider orientations of the needle with an angle relative to the $x$ axis between $0$ and $\\pi/2$ (due to mirror symmetry both in x and y).\n",
    "\n",
    "\n",
    "You can either run this in binder\n",
    "https://mybinder.org/v2/gh/JonasRademacker/JupyterNotebooksForTeachingMath/master?filepath=BuffonsNeedleProblem.ipynb , \n",
    "\n",
    "or - much better, although a bit hasslesome the first time you set it up - you can run it on your own computer. To do that:\n",
    "\n",
    "1) Download and install anaconda (https://www.anaconda.com/). \n",
    "\n",
    "2) Download this file from github. Do so by clicking on \"Raw\", and then asking your browser to save the file (in Firefox: File -> Save Pages As...) or get the entire set of notebooks via:\n",
    "git clone https://github.com/JonasRademacker/JupyterNotebooksForTeachingMath.git\n",
    "\n",
    "3) Open a terminal window, go to the directory where this file is, and type: jupyter notebook\n",
    "\n",
    "This file should now open in your browser (again), and you can edit it and execute and save the code.\n",
    "\n",
    "Remember, to excecute each field, do shift+return. Execute the fields in order. If things got messy, go to Kernel and select Restart and Clear all output - and start Shift+Return from the top."
   ]
  },
  {
   "cell_type": "markdown",
   "metadata": {},
   "source": [
    "First import some libraries"
   ]
  },
  {
   "cell_type": "code",
   "execution_count": 1,
   "metadata": {},
   "outputs": [],
   "source": [
    "from math import *\n",
    "import numpy as np\n",
    "import matplotlib.mlab as mlab\n",
    "import matplotlib.pyplot as plt"
   ]
  },
  {
   "cell_type": "markdown",
   "metadata": {},
   "source": [
    "Let's draw the floor with the lines. It doesn't really matter how many lines we draw (one would do), but for aesthetic reasons, let's draw a few, say 5."
   ]
  },
  {
   "cell_type": "code",
   "execution_count": 2,
   "metadata": {},
   "outputs": [
    {
     "name": "stdout",
     "output_type": "stream",
     "text": [
      "[[[0, 50], [0, 0]], [[0, 50], [10, 10]], [[0, 50], [20, 20]], [[0, 50], [30, 30]], [[0, 50], [40, 40]]]\n"
     ]
    },
    {
     "data": {
      "image/png": "[encoded data removed]",
      "text/plain": [
       "<Figure size 432x288 with 1 Axes>"
      ]
     },
     "metadata": {
      "needs_background": "light"
     },
     "output_type": "display_data"
    }
   ],
   "source": [
    "def horizontalLine(y, length):\n",
    "    line=[[0, length], [y,y]]\n",
    "    return line\n",
    "\n",
    "def horizontalLineSet(spacing, howmany):\n",
    "    length=howmany*spacing\n",
    "    lineset = []\n",
    "    for i in range(howmany):\n",
    "        line=horizontalLine(i*spacing, length)\n",
    "        lineset.append(line)\n",
    "    return lineset\n",
    "\n",
    "def drawHorizontalLines(lineset):\n",
    "    for line in lineset:\n",
    "        plt.plot(line[0], line[1])\n",
    "l=10\n",
    "numlines=5\n",
    "lines = horizontalLineSet(l, numlines)\n",
    "print(lines)\n",
    "drawHorizontalLines(lines)"
   ]
  },
  {
   "cell_type": "markdown",
   "metadata": {},
   "source": [
    "Now let's draw the needle on top of this. We will draw it as a function of its length a, the position of its center, (xc,yc), and its angle relative to the x axis, phi."
   ]
  },
  {
   "cell_type": "code",
   "execution_count": 3,
   "metadata": {},
   "outputs": [
    {
     "data": {
      "text/plain": [
       "[<matplotlib.lines.Line2D at 0x7f97e1305c40>]"
      ]
     },
     "execution_count": 3,
     "metadata": {},
     "output_type": "execute_result"
    },
    {
     "data": {
      "image/png": "[encoded data removed]",
      "text/plain": [
       "<Figure size 432x288 with 1 Axes>"
      ]
     },
     "metadata": {
      "needs_background": "light"
     },
     "output_type": "display_data"
    }
   ],
   "source": [
    "def needle(a, xc, yc, phi):\n",
    "    xvals = [ xc - a*0.5 * cos(phi), xc + a*0.5 * cos(phi) ]\n",
    "    yvals = [ yc - a*0.5 * sin(phi), yc + a*0.5 * sin(phi) ]\n",
    "    return xvals, yvals\n",
    "\n",
    "a=4\n",
    "drawHorizontalLines(lines)\n",
    "needleLine=needle(a, 4, 15, pi/3)\n",
    "plt.plot(needleLine[0], needleLine[1])"
   ]
  },
  {
   "cell_type": "markdown",
   "metadata": {},
   "source": [
    "Let's do some random needle throwing. First initialise the random number generator. Change the seed to get different outcomes for (peudo)random numbers used in this sheet."
   ]
  },
  {
   "cell_type": "code",
   "execution_count": 4,
   "metadata": {},
   "outputs": [],
   "source": [
    "np.random.seed(1066)"
   ]
  },
  {
   "cell_type": "markdown",
   "metadata": {},
   "source": [
    "Now we define a function to throw a random needle"
   ]
  },
  {
   "cell_type": "code",
   "execution_count": 5,
   "metadata": {},
   "outputs": [],
   "source": [
    "def throwNeedle(a, l, numlines):\n",
    "    flatRandom = np.random.random(3) # three random numbers, each between 0 and 1\n",
    "    xmin = a/2\n",
    "    xmax = numlines*l - a/2\n",
    "    x=flatRandom[0]*(xmax - xmin) + xmin\n",
    "    ymin = l/2\n",
    "    ymax = numlines*l - l/2\n",
    "    y=flatRandom[1]*(ymax - ymin) + ymin\n",
    "    phi = flatRandom[2]*pi ## [0-pi/2] would give the same result in terms of the frequency with which the needle crosses a line, but would not produce a realistic picture.\n",
    "    return needle(a, x, y, phi)"
   ]
  },
  {
   "cell_type": "markdown",
   "metadata": {},
   "source": [
    "Now we have set everything up, let's run it."
   ]
  },
  {
   "cell_type": "code",
   "execution_count": 8,
   "metadata": {},
   "outputs": [
    {
     "data": {
      "text/plain": [
       "[<matplotlib.lines.Line2D at 0x7f97e1473e20>]"
      ]
     },
     "execution_count": 8,
     "metadata": {},
     "output_type": "execute_result"
    },
    {
     "data": {
      "image/png": "[encoded data removed]",
      "text/plain": [
       "<Figure size 432x288 with 1 Axes>"
      ]
     },
     "metadata": {
      "needs_background": "light"
     },
     "output_type": "display_data"
    }
   ],
   "source": [
    "a=4\n",
    "l=10\n",
    "numlines=5\n",
    "needleLine=throwNeedle(a, l, numlines)\n",
    "drawHorizontalLines(lines)\n",
    "plt.plot(needleLine[0], needleLine[1])"
   ]
  },
  {
   "cell_type": "markdown",
   "metadata": {},
   "source": [
    "## And now?\n",
    "\n",
    "Find a way of throwing many needles and find out what fraction of them crosses a line. How does this compare to the theoretical value you calculated?"
   ]
  },
  {
   "cell_type": "markdown",
   "metadata": {},
   "source": [
    "PS: You might find this function useful; it returns one if a needle crosses one of the horizontal lines and 0 otherwise."
   ]
  },
  {
   "cell_type": "code",
   "execution_count": 9,
   "metadata": {},
   "outputs": [],
   "source": [
    "def doesNeedleCrossLine(needleLine, lineset):\n",
    "    yneedle_max = max(needleLine[1][0], needleLine[1][1])\n",
    "    yneedle_min = min(needleLine[1][0], needleLine[1][1])\n",
    "    for line in lineset:\n",
    "        yline=line[1][0] # y position of the line\n",
    "        if yline < yneedle_max and yline >= yneedle_min: return 1\n",
    "    return 0"
   ]
  },
  {
   "cell_type": "code",
   "execution_count": null,
   "metadata": {},
   "outputs": [],
   "source": []
  }
 ],
 "metadata": {
  "kernelspec": {
   "display_name": "Python 3",
   "language": "python",
   "name": "python3"
  },
  "language_info": {
   "codemirror_mode": {
    "name": "ipython",
    "version": 3
   },
   "file_extension": ".py",
   "mimetype": "text/x-python",
   "name": "python",
   "nbconvert_exporter": "python",
   "pygments_lexer": "ipython3",
   "version": "3.8.3"
  }
 },
 "nbformat": 4,
 "nbformat_minor": 2
}
